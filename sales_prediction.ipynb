{
  "nbformat": 4,
  "nbformat_minor": 0,
  "metadata": {
    "colab": {
      "provenance": [],
      "authorship_tag": "ABX9TyN3Ral4yxkxLj+sPq82vgv4",
      "include_colab_link": true
    },
    "kernelspec": {
      "name": "python3",
      "display_name": "Python 3"
    },
    "language_info": {
      "name": "python"
    }
  },
  "cells": [
    {
      "cell_type": "markdown",
      "metadata": {
        "id": "view-in-github",
        "colab_type": "text"
      },
      "source": [
        "<a href=\"https://colab.research.google.com/github/juniajeff/AI_training/blob/main/sales_prediction.ipynb\" target=\"_parent\"><img src=\"https://colab.research.google.com/assets/colab-badge.svg\" alt=\"Open In Colab\"/></a>"
      ]
    },
    {
      "cell_type": "code",
      "execution_count": null,
      "metadata": {
        "id": "fL_TAzdPoL01"
      },
      "outputs": [],
      "source": [
        "!pip install -Uqq fastbook kaggle\n",
        "import fastbook\n",
        "fastbook.setup_book()"
      ]
    },
    {
      "cell_type": "code",
      "source": [
        "from pandas.api.types import is_string_dtype, is_numeric_dtype, is_categorical_dtype\n",
        "from fastai.tabular.all import *\n",
        "\n",
        "pd.options.display.max_rows = 20\n",
        "pd.options.display.max_columns = 8"
      ],
      "metadata": {
        "id": "UsAoRgz4oTjf"
      },
      "execution_count": null,
      "outputs": []
    },
    {
      "cell_type": "code",
      "source": [
        "! cp ./gdrive/MyDrive/'Colab Notebooks'/data/TrainAndValid.csv ./sample_data/"
      ],
      "metadata": {
        "id": "tbOYm70aohaX"
      },
      "execution_count": null,
      "outputs": []
    },
    {
      "cell_type": "code",
      "source": [
        "! pwd"
      ],
      "metadata": {
        "colab": {
          "base_uri": "https://localhost:8080/"
        },
        "id": "XSROcPMpoyAS",
        "outputId": "43cd2f3e-be6c-48c9-e172-ea2ee663662b"
      },
      "execution_count": null,
      "outputs": [
        {
          "output_type": "stream",
          "name": "stdout",
          "text": [
            "/content\n"
          ]
        }
      ]
    },
    {
      "cell_type": "code",
      "source": [
        "! ls ./sample_data/"
      ],
      "metadata": {
        "id": "hpNIhrJGo2Lo",
        "colab": {
          "base_uri": "https://localhost:8080/"
        },
        "outputId": "44831b42-faae-4ee3-926a-bfb75eebe98b"
      },
      "execution_count": null,
      "outputs": [
        {
          "output_type": "stream",
          "name": "stdout",
          "text": [
            "anscombe.json\t\t      mnist_test.csv\t     TrainAndValid.csv\n",
            "california_housing_test.csv   mnist_train_small.csv\n",
            "california_housing_train.csv  README.md\n"
          ]
        }
      ]
    },
    {
      "cell_type": "code",
      "source": [
        "df_nn = pd.read_csv('./sample_data/TrainAndValid.csv', low_memory=False)\n",
        "df_nn.shape"
      ],
      "metadata": {
        "colab": {
          "base_uri": "https://localhost:8080/"
        },
        "id": "m-fpAVoD0Mrd",
        "outputId": "0d7c4db8-2f90-4075-e5fd-9aa47e436d53"
      },
      "execution_count": null,
      "outputs": [
        {
          "output_type": "execute_result",
          "data": {
            "text/plain": [
              "(412698, 53)"
            ]
          },
          "metadata": {},
          "execution_count": 52
        }
      ]
    },
    {
      "cell_type": "code",
      "source": [
        "df_nn.columns\n",
        "# SalesID:: The unique identifier of the sale.\n",
        "# SalepPice:: What the machine sold for at auction (only provided in train.csv).\n",
        "# MachineID:: The unique identifier of a machine. A machine can be sold multiple times.\n",
        "# saledate:: The date of the sale."
      ],
      "metadata": {
        "colab": {
          "base_uri": "https://localhost:8080/"
        },
        "id": "deZeNqgC0O-5",
        "outputId": "5bd4dbb2-2357-49e4-a4ad-4397258a9caf"
      },
      "execution_count": null,
      "outputs": [
        {
          "output_type": "execute_result",
          "data": {
            "text/plain": [
              "Index(['SalesID', 'SalePrice', 'MachineID', 'ModelID', 'datasource',\n",
              "       'auctioneerID', 'YearMade', 'MachineHoursCurrentMeter', 'UsageBand',\n",
              "       'saledate', 'fiModelDesc', 'fiBaseModel', 'fiSecondaryDesc',\n",
              "       'fiModelSeries', 'fiModelDescriptor', 'ProductSize',\n",
              "       'fiProductClassDesc', 'state', 'ProductGroup', 'ProductGroupDesc',\n",
              "       'Drive_System', 'Enclosure', 'Forks', 'Pad_Type', 'Ride_Control',\n",
              "       'Stick', 'Transmission', 'Turbocharged', 'Blade_Extension',\n",
              "       'Blade_Width', 'Enclosure_Type', 'Engine_Horsepower', 'Hydraulics',\n",
              "       'Pushblock', 'Ripper', 'Scarifier', 'Tip_Control', 'Tire_Size',\n",
              "       'Coupler', 'Coupler_System', 'Grouser_Tracks', 'Hydraulics_Flow',\n",
              "       'Track_Type', 'Undercarriage_Pad_Width', 'Stick_Length', 'Thumb',\n",
              "       'Pattern_Changer', 'Grouser_Type', 'Backhoe_Mounting', 'Blade_Type',\n",
              "       'Travel_Controls', 'Differential_Type', 'Steering_Controls'],\n",
              "      dtype='object')"
            ]
          },
          "metadata": {},
          "execution_count": 53
        }
      ]
    },
    {
      "cell_type": "code",
      "source": [
        "df_nn['saledate']"
      ],
      "metadata": {
        "colab": {
          "base_uri": "https://localhost:8080/"
        },
        "id": "tnPWLQjW0UzM",
        "outputId": "ad21f98d-7240-458f-8715-9ee4bdcfdd32"
      },
      "execution_count": null,
      "outputs": [
        {
          "output_type": "execute_result",
          "data": {
            "text/plain": [
              "0         11/16/2006 0:00\n",
              "1          3/26/2004 0:00\n",
              "2          2/26/2004 0:00\n",
              "3          5/19/2011 0:00\n",
              "4          7/23/2009 0:00\n",
              "               ...       \n",
              "412693      3/7/2012 0:00\n",
              "412694     1/28/2012 0:00\n",
              "412695     1/28/2012 0:00\n",
              "412696      3/7/2012 0:00\n",
              "412697     1/28/2012 0:00\n",
              "Name: saledate, Length: 412698, dtype: object"
            ]
          },
          "metadata": {},
          "execution_count": 54
        }
      ]
    },
    {
      "cell_type": "code",
      "source": [
        "df_nn.head()"
      ],
      "metadata": {
        "colab": {
          "base_uri": "https://localhost:8080/",
          "height": 235
        },
        "id": "6XejscWd0W-O",
        "outputId": "996f313c-89a8-49f1-aa9d-e0903096a30f"
      },
      "execution_count": null,
      "outputs": [
        {
          "output_type": "execute_result",
          "data": {
            "text/plain": [
              "   SalesID  SalePrice  MachineID  ModelID  ...  Blade_Type  Travel_Controls  \\\n",
              "0  1139246    66000.0     999089     3157  ...         NaN              NaN   \n",
              "1  1139248    57000.0     117657       77  ...         NaN              NaN   \n",
              "2  1139249    10000.0     434808     7009  ...         NaN              NaN   \n",
              "3  1139251    38500.0    1026470      332  ...         NaN              NaN   \n",
              "4  1139253    11000.0    1057373    17311  ...         NaN              NaN   \n",
              "\n",
              "   Differential_Type  Steering_Controls  \n",
              "0           Standard       Conventional  \n",
              "1           Standard       Conventional  \n",
              "2                NaN                NaN  \n",
              "3                NaN                NaN  \n",
              "4                NaN                NaN  \n",
              "\n",
              "[5 rows x 53 columns]"
            ],
            "text/html": [
              "\n",
              "  <div id=\"df-830c0a94-bb4a-406d-8aa3-e1b62a944bd5\">\n",
              "    <div class=\"colab-df-container\">\n",
              "      <div>\n",
              "<style scoped>\n",
              "    .dataframe tbody tr th:only-of-type {\n",
              "        vertical-align: middle;\n",
              "    }\n",
              "\n",
              "    .dataframe tbody tr th {\n",
              "        vertical-align: top;\n",
              "    }\n",
              "\n",
              "    .dataframe thead th {\n",
              "        text-align: right;\n",
              "    }\n",
              "</style>\n",
              "<table border=\"1\" class=\"dataframe\">\n",
              "  <thead>\n",
              "    <tr style=\"text-align: right;\">\n",
              "      <th></th>\n",
              "      <th>SalesID</th>\n",
              "      <th>SalePrice</th>\n",
              "      <th>MachineID</th>\n",
              "      <th>ModelID</th>\n",
              "      <th>...</th>\n",
              "      <th>Blade_Type</th>\n",
              "      <th>Travel_Controls</th>\n",
              "      <th>Differential_Type</th>\n",
              "      <th>Steering_Controls</th>\n",
              "    </tr>\n",
              "  </thead>\n",
              "  <tbody>\n",
              "    <tr>\n",
              "      <th>0</th>\n",
              "      <td>1139246</td>\n",
              "      <td>66000.0</td>\n",
              "      <td>999089</td>\n",
              "      <td>3157</td>\n",
              "      <td>...</td>\n",
              "      <td>NaN</td>\n",
              "      <td>NaN</td>\n",
              "      <td>Standard</td>\n",
              "      <td>Conventional</td>\n",
              "    </tr>\n",
              "    <tr>\n",
              "      <th>1</th>\n",
              "      <td>1139248</td>\n",
              "      <td>57000.0</td>\n",
              "      <td>117657</td>\n",
              "      <td>77</td>\n",
              "      <td>...</td>\n",
              "      <td>NaN</td>\n",
              "      <td>NaN</td>\n",
              "      <td>Standard</td>\n",
              "      <td>Conventional</td>\n",
              "    </tr>\n",
              "    <tr>\n",
              "      <th>2</th>\n",
              "      <td>1139249</td>\n",
              "      <td>10000.0</td>\n",
              "      <td>434808</td>\n",
              "      <td>7009</td>\n",
              "      <td>...</td>\n",
              "      <td>NaN</td>\n",
              "      <td>NaN</td>\n",
              "      <td>NaN</td>\n",
              "      <td>NaN</td>\n",
              "    </tr>\n",
              "    <tr>\n",
              "      <th>3</th>\n",
              "      <td>1139251</td>\n",
              "      <td>38500.0</td>\n",
              "      <td>1026470</td>\n",
              "      <td>332</td>\n",
              "      <td>...</td>\n",
              "      <td>NaN</td>\n",
              "      <td>NaN</td>\n",
              "      <td>NaN</td>\n",
              "      <td>NaN</td>\n",
              "    </tr>\n",
              "    <tr>\n",
              "      <th>4</th>\n",
              "      <td>1139253</td>\n",
              "      <td>11000.0</td>\n",
              "      <td>1057373</td>\n",
              "      <td>17311</td>\n",
              "      <td>...</td>\n",
              "      <td>NaN</td>\n",
              "      <td>NaN</td>\n",
              "      <td>NaN</td>\n",
              "      <td>NaN</td>\n",
              "    </tr>\n",
              "  </tbody>\n",
              "</table>\n",
              "<p>5 rows × 53 columns</p>\n",
              "</div>\n",
              "      <button class=\"colab-df-convert\" onclick=\"convertToInteractive('df-830c0a94-bb4a-406d-8aa3-e1b62a944bd5')\"\n",
              "              title=\"Convert this dataframe to an interactive table.\"\n",
              "              style=\"display:none;\">\n",
              "        \n",
              "  <svg xmlns=\"http://www.w3.org/2000/svg\" height=\"24px\"viewBox=\"0 0 24 24\"\n",
              "       width=\"24px\">\n",
              "    <path d=\"M0 0h24v24H0V0z\" fill=\"none\"/>\n",
              "    <path d=\"M18.56 5.44l.94 2.06.94-2.06 2.06-.94-2.06-.94-.94-2.06-.94 2.06-2.06.94zm-11 1L8.5 8.5l.94-2.06 2.06-.94-2.06-.94L8.5 2.5l-.94 2.06-2.06.94zm10 10l.94 2.06.94-2.06 2.06-.94-2.06-.94-.94-2.06-.94 2.06-2.06.94z\"/><path d=\"M17.41 7.96l-1.37-1.37c-.4-.4-.92-.59-1.43-.59-.52 0-1.04.2-1.43.59L10.3 9.45l-7.72 7.72c-.78.78-.78 2.05 0 2.83L4 21.41c.39.39.9.59 1.41.59.51 0 1.02-.2 1.41-.59l7.78-7.78 2.81-2.81c.8-.78.8-2.07 0-2.86zM5.41 20L4 18.59l7.72-7.72 1.47 1.35L5.41 20z\"/>\n",
              "  </svg>\n",
              "      </button>\n",
              "      \n",
              "  <style>\n",
              "    .colab-df-container {\n",
              "      display:flex;\n",
              "      flex-wrap:wrap;\n",
              "      gap: 12px;\n",
              "    }\n",
              "\n",
              "    .colab-df-convert {\n",
              "      background-color: #E8F0FE;\n",
              "      border: none;\n",
              "      border-radius: 50%;\n",
              "      cursor: pointer;\n",
              "      display: none;\n",
              "      fill: #1967D2;\n",
              "      height: 32px;\n",
              "      padding: 0 0 0 0;\n",
              "      width: 32px;\n",
              "    }\n",
              "\n",
              "    .colab-df-convert:hover {\n",
              "      background-color: #E2EBFA;\n",
              "      box-shadow: 0px 1px 2px rgba(60, 64, 67, 0.3), 0px 1px 3px 1px rgba(60, 64, 67, 0.15);\n",
              "      fill: #174EA6;\n",
              "    }\n",
              "\n",
              "    [theme=dark] .colab-df-convert {\n",
              "      background-color: #3B4455;\n",
              "      fill: #D2E3FC;\n",
              "    }\n",
              "\n",
              "    [theme=dark] .colab-df-convert:hover {\n",
              "      background-color: #434B5C;\n",
              "      box-shadow: 0px 1px 3px 1px rgba(0, 0, 0, 0.15);\n",
              "      filter: drop-shadow(0px 1px 2px rgba(0, 0, 0, 0.3));\n",
              "      fill: #FFFFFF;\n",
              "    }\n",
              "  </style>\n",
              "\n",
              "      <script>\n",
              "        const buttonEl =\n",
              "          document.querySelector('#df-830c0a94-bb4a-406d-8aa3-e1b62a944bd5 button.colab-df-convert');\n",
              "        buttonEl.style.display =\n",
              "          google.colab.kernel.accessAllowed ? 'block' : 'none';\n",
              "\n",
              "        async function convertToInteractive(key) {\n",
              "          const element = document.querySelector('#df-830c0a94-bb4a-406d-8aa3-e1b62a944bd5');\n",
              "          const dataTable =\n",
              "            await google.colab.kernel.invokeFunction('convertToInteractive',\n",
              "                                                     [key], {});\n",
              "          if (!dataTable) return;\n",
              "\n",
              "          const docLinkHtml = 'Like what you see? Visit the ' +\n",
              "            '<a target=\"_blank\" href=https://colab.research.google.com/notebooks/data_table.ipynb>data table notebook</a>'\n",
              "            + ' to learn more about interactive tables.';\n",
              "          element.innerHTML = '';\n",
              "          dataTable['output_type'] = 'display_data';\n",
              "          await google.colab.output.renderOutput(dataTable, element);\n",
              "          const docLink = document.createElement('div');\n",
              "          docLink.innerHTML = docLinkHtml;\n",
              "          element.appendChild(docLink);\n",
              "        }\n",
              "      </script>\n",
              "    </div>\n",
              "  </div>\n",
              "  "
            ]
          },
          "metadata": {},
          "execution_count": 55
        }
      ]
    },
    {
      "cell_type": "code",
      "source": [
        "df_nn.tail()"
      ],
      "metadata": {
        "colab": {
          "base_uri": "https://localhost:8080/",
          "height": 235
        },
        "id": "MWA_BxdQ0ZCt",
        "outputId": "c79517e0-adec-42f9-88cc-640a232a93fa"
      },
      "execution_count": null,
      "outputs": [
        {
          "output_type": "execute_result",
          "data": {
            "text/plain": [
              "        SalesID  SalePrice  MachineID  ModelID  ...  Blade_Type  \\\n",
              "412693  6333344    10000.0    1919201    21435  ...         NaN   \n",
              "412694  6333345    10500.0    1882122    21436  ...         NaN   \n",
              "412695  6333347    12500.0    1944213    21435  ...         NaN   \n",
              "412696  6333348    10000.0    1794518    21435  ...         NaN   \n",
              "412697  6333349    13000.0    1944743    21436  ...         NaN   \n",
              "\n",
              "        Travel_Controls  Differential_Type  Steering_Controls  \n",
              "412693              NaN                NaN                NaN  \n",
              "412694              NaN                NaN                NaN  \n",
              "412695              NaN                NaN                NaN  \n",
              "412696              NaN                NaN                NaN  \n",
              "412697              NaN                NaN                NaN  \n",
              "\n",
              "[5 rows x 53 columns]"
            ],
            "text/html": [
              "\n",
              "  <div id=\"df-a40dff9c-69a2-47ef-a2c5-f4996cc5c4b9\">\n",
              "    <div class=\"colab-df-container\">\n",
              "      <div>\n",
              "<style scoped>\n",
              "    .dataframe tbody tr th:only-of-type {\n",
              "        vertical-align: middle;\n",
              "    }\n",
              "\n",
              "    .dataframe tbody tr th {\n",
              "        vertical-align: top;\n",
              "    }\n",
              "\n",
              "    .dataframe thead th {\n",
              "        text-align: right;\n",
              "    }\n",
              "</style>\n",
              "<table border=\"1\" class=\"dataframe\">\n",
              "  <thead>\n",
              "    <tr style=\"text-align: right;\">\n",
              "      <th></th>\n",
              "      <th>SalesID</th>\n",
              "      <th>SalePrice</th>\n",
              "      <th>MachineID</th>\n",
              "      <th>ModelID</th>\n",
              "      <th>...</th>\n",
              "      <th>Blade_Type</th>\n",
              "      <th>Travel_Controls</th>\n",
              "      <th>Differential_Type</th>\n",
              "      <th>Steering_Controls</th>\n",
              "    </tr>\n",
              "  </thead>\n",
              "  <tbody>\n",
              "    <tr>\n",
              "      <th>412693</th>\n",
              "      <td>6333344</td>\n",
              "      <td>10000.0</td>\n",
              "      <td>1919201</td>\n",
              "      <td>21435</td>\n",
              "      <td>...</td>\n",
              "      <td>NaN</td>\n",
              "      <td>NaN</td>\n",
              "      <td>NaN</td>\n",
              "      <td>NaN</td>\n",
              "    </tr>\n",
              "    <tr>\n",
              "      <th>412694</th>\n",
              "      <td>6333345</td>\n",
              "      <td>10500.0</td>\n",
              "      <td>1882122</td>\n",
              "      <td>21436</td>\n",
              "      <td>...</td>\n",
              "      <td>NaN</td>\n",
              "      <td>NaN</td>\n",
              "      <td>NaN</td>\n",
              "      <td>NaN</td>\n",
              "    </tr>\n",
              "    <tr>\n",
              "      <th>412695</th>\n",
              "      <td>6333347</td>\n",
              "      <td>12500.0</td>\n",
              "      <td>1944213</td>\n",
              "      <td>21435</td>\n",
              "      <td>...</td>\n",
              "      <td>NaN</td>\n",
              "      <td>NaN</td>\n",
              "      <td>NaN</td>\n",
              "      <td>NaN</td>\n",
              "    </tr>\n",
              "    <tr>\n",
              "      <th>412696</th>\n",
              "      <td>6333348</td>\n",
              "      <td>10000.0</td>\n",
              "      <td>1794518</td>\n",
              "      <td>21435</td>\n",
              "      <td>...</td>\n",
              "      <td>NaN</td>\n",
              "      <td>NaN</td>\n",
              "      <td>NaN</td>\n",
              "      <td>NaN</td>\n",
              "    </tr>\n",
              "    <tr>\n",
              "      <th>412697</th>\n",
              "      <td>6333349</td>\n",
              "      <td>13000.0</td>\n",
              "      <td>1944743</td>\n",
              "      <td>21436</td>\n",
              "      <td>...</td>\n",
              "      <td>NaN</td>\n",
              "      <td>NaN</td>\n",
              "      <td>NaN</td>\n",
              "      <td>NaN</td>\n",
              "    </tr>\n",
              "  </tbody>\n",
              "</table>\n",
              "<p>5 rows × 53 columns</p>\n",
              "</div>\n",
              "      <button class=\"colab-df-convert\" onclick=\"convertToInteractive('df-a40dff9c-69a2-47ef-a2c5-f4996cc5c4b9')\"\n",
              "              title=\"Convert this dataframe to an interactive table.\"\n",
              "              style=\"display:none;\">\n",
              "        \n",
              "  <svg xmlns=\"http://www.w3.org/2000/svg\" height=\"24px\"viewBox=\"0 0 24 24\"\n",
              "       width=\"24px\">\n",
              "    <path d=\"M0 0h24v24H0V0z\" fill=\"none\"/>\n",
              "    <path d=\"M18.56 5.44l.94 2.06.94-2.06 2.06-.94-2.06-.94-.94-2.06-.94 2.06-2.06.94zm-11 1L8.5 8.5l.94-2.06 2.06-.94-2.06-.94L8.5 2.5l-.94 2.06-2.06.94zm10 10l.94 2.06.94-2.06 2.06-.94-2.06-.94-.94-2.06-.94 2.06-2.06.94z\"/><path d=\"M17.41 7.96l-1.37-1.37c-.4-.4-.92-.59-1.43-.59-.52 0-1.04.2-1.43.59L10.3 9.45l-7.72 7.72c-.78.78-.78 2.05 0 2.83L4 21.41c.39.39.9.59 1.41.59.51 0 1.02-.2 1.41-.59l7.78-7.78 2.81-2.81c.8-.78.8-2.07 0-2.86zM5.41 20L4 18.59l7.72-7.72 1.47 1.35L5.41 20z\"/>\n",
              "  </svg>\n",
              "      </button>\n",
              "      \n",
              "  <style>\n",
              "    .colab-df-container {\n",
              "      display:flex;\n",
              "      flex-wrap:wrap;\n",
              "      gap: 12px;\n",
              "    }\n",
              "\n",
              "    .colab-df-convert {\n",
              "      background-color: #E8F0FE;\n",
              "      border: none;\n",
              "      border-radius: 50%;\n",
              "      cursor: pointer;\n",
              "      display: none;\n",
              "      fill: #1967D2;\n",
              "      height: 32px;\n",
              "      padding: 0 0 0 0;\n",
              "      width: 32px;\n",
              "    }\n",
              "\n",
              "    .colab-df-convert:hover {\n",
              "      background-color: #E2EBFA;\n",
              "      box-shadow: 0px 1px 2px rgba(60, 64, 67, 0.3), 0px 1px 3px 1px rgba(60, 64, 67, 0.15);\n",
              "      fill: #174EA6;\n",
              "    }\n",
              "\n",
              "    [theme=dark] .colab-df-convert {\n",
              "      background-color: #3B4455;\n",
              "      fill: #D2E3FC;\n",
              "    }\n",
              "\n",
              "    [theme=dark] .colab-df-convert:hover {\n",
              "      background-color: #434B5C;\n",
              "      box-shadow: 0px 1px 3px 1px rgba(0, 0, 0, 0.15);\n",
              "      filter: drop-shadow(0px 1px 2px rgba(0, 0, 0, 0.3));\n",
              "      fill: #FFFFFF;\n",
              "    }\n",
              "  </style>\n",
              "\n",
              "      <script>\n",
              "        const buttonEl =\n",
              "          document.querySelector('#df-a40dff9c-69a2-47ef-a2c5-f4996cc5c4b9 button.colab-df-convert');\n",
              "        buttonEl.style.display =\n",
              "          google.colab.kernel.accessAllowed ? 'block' : 'none';\n",
              "\n",
              "        async function convertToInteractive(key) {\n",
              "          const element = document.querySelector('#df-a40dff9c-69a2-47ef-a2c5-f4996cc5c4b9');\n",
              "          const dataTable =\n",
              "            await google.colab.kernel.invokeFunction('convertToInteractive',\n",
              "                                                     [key], {});\n",
              "          if (!dataTable) return;\n",
              "\n",
              "          const docLinkHtml = 'Like what you see? Visit the ' +\n",
              "            '<a target=\"_blank\" href=https://colab.research.google.com/notebooks/data_table.ipynb>data table notebook</a>'\n",
              "            + ' to learn more about interactive tables.';\n",
              "          element.innerHTML = '';\n",
              "          dataTable['output_type'] = 'display_data';\n",
              "          await google.colab.output.renderOutput(dataTable, element);\n",
              "          const docLink = document.createElement('div');\n",
              "          docLink.innerHTML = docLinkHtml;\n",
              "          element.appendChild(docLink);\n",
              "        }\n",
              "      </script>\n",
              "    </div>\n",
              "  </div>\n",
              "  "
            ]
          },
          "metadata": {},
          "execution_count": 56
        }
      ]
    },
    {
      "cell_type": "code",
      "source": [
        "df_nn['ProductSize'].unique()"
      ],
      "metadata": {
        "colab": {
          "base_uri": "https://localhost:8080/"
        },
        "id": "1AJvWUSN0bfH",
        "outputId": "9b6264f1-ab6c-4ba1-b109-999e94249307"
      },
      "execution_count": null,
      "outputs": [
        {
          "output_type": "execute_result",
          "data": {
            "text/plain": [
              "array([nan, 'Medium', 'Small', 'Large / Medium', 'Mini', 'Large', 'Compact'], dtype=object)"
            ]
          },
          "metadata": {},
          "execution_count": 57
        }
      ]
    },
    {
      "cell_type": "code",
      "source": [
        "df_nn['Drive_System'].unique()"
      ],
      "metadata": {
        "colab": {
          "base_uri": "https://localhost:8080/"
        },
        "id": "3ahVupEX0d0t",
        "outputId": "ec5bf15a-6f76-4c15-ce31-485706bd31da"
      },
      "execution_count": null,
      "outputs": [
        {
          "output_type": "execute_result",
          "data": {
            "text/plain": [
              "array([nan, 'Four Wheel Drive', 'Two Wheel Drive', 'No', 'All Wheel Drive'], dtype=object)"
            ]
          },
          "metadata": {},
          "execution_count": 58
        }
      ]
    },
    {
      "cell_type": "code",
      "source": [
        "sizes = 'Large','Large / Medium','Medium','Small','Mini','Compact'\n",
        "df_nn['ProductSize'] = df_nn['ProductSize'].astype('category')\n",
        "df_nn['ProductSize'].cat.set_categories(sizes, ordered=True, inplace=True)"
      ],
      "metadata": {
        "colab": {
          "base_uri": "https://localhost:8080/"
        },
        "id": "o6upUE2c0f8C",
        "outputId": "d1692f9a-7a46-473e-fc7d-274775fe83dd"
      },
      "execution_count": null,
      "outputs": [
        {
          "output_type": "stream",
          "name": "stderr",
          "text": [
            "/usr/local/lib/python3.7/dist-packages/pandas/core/arrays/categorical.py:2631: FutureWarning: The `inplace` parameter in pandas.Categorical.set_categories is deprecated and will be removed in a future version. Removing unused categories will always return a new Categorical object.\n",
            "  res = method(*args, **kwargs)\n"
          ]
        }
      ]
    },
    {
      "cell_type": "code",
      "source": [
        "dep_var = 'SalePrice'"
      ],
      "metadata": {
        "id": "whoNQHwu0iuZ"
      },
      "execution_count": null,
      "outputs": []
    },
    {
      "cell_type": "code",
      "source": [
        "import matplotlib.pyplot as plt\n",
        "plt.hist(df_nn[dep_var])"
      ],
      "metadata": {
        "colab": {
          "base_uri": "https://localhost:8080/",
          "height": 321
        },
        "id": "hwYYE6_i0k9K",
        "outputId": "9e5c7555-1ac3-4758-ff83-42fd4592bd06"
      },
      "execution_count": null,
      "outputs": [
        {
          "output_type": "execute_result",
          "data": {
            "text/plain": [
              "(array([151074., 119019.,  58000.,  32444.,  22876.,  13474.,   9330.,   3884.,   2036.,    561.]),\n",
              " array([  4750.,  18475.,  32200.,  45925.,  59650.,  73375.,  87100., 100825., 114550., 128275., 142000.]),\n",
              " <a list of 10 Patch objects>)"
            ]
          },
          "metadata": {},
          "execution_count": 61
        },
        {
          "output_type": "display_data",
          "data": {
            "text/plain": [
              "<Figure size 432x288 with 1 Axes>"
            ],
            "image/png": "[encoded data removed]"
          },
          "metadata": {
            "needs_background": "light"
          }
        }
      ]
    },
    {
      "cell_type": "code",
      "source": [
        "df_nn[dep_var] = np.log(df_nn[dep_var]) # applying a log function to the dependent variable"
      ],
      "metadata": {
        "id": "wSB0P6720nen"
      },
      "execution_count": null,
      "outputs": []
    },
    {
      "cell_type": "code",
      "source": [
        "plt.hist(df_nn[dep_var])"
      ],
      "metadata": {
        "colab": {
          "base_uri": "https://localhost:8080/",
          "height": 321
        },
        "id": "_6eOe8330qra",
        "outputId": "b90047d0-7566-4d3c-d81d-d58e1eb4e65d"
      },
      "execution_count": null,
      "outputs": [
        {
          "output_type": "execute_result",
          "data": {
            "text/plain": [
              "(array([ 6008., 28652., 53542., 62872., 70605., 70694., 51722., 36833., 25443.,  6327.]),\n",
              " array([ 8.4658999 ,  8.80566814,  9.14543638,  9.48520463,  9.82497287, 10.16474112, 10.50450936, 10.8442776 , 11.18404585, 11.52381409, 11.86358234]),\n",
              " <a list of 10 Patch objects>)"
            ]
          },
          "metadata": {},
          "execution_count": 63
        },
        {
          "output_type": "display_data",
          "data": {
            "text/plain": [
              "<Figure size 432x288 with 1 Axes>"
            ],
            "image/png": "[encoded data removed]"
          },
          "metadata": {
            "needs_background": "light"
          }
        }
      ]
    },
    {
      "cell_type": "code",
      "source": [
        "df_nn = add_datepart(df_nn, 'saledate') # adding extra columns for handling dates"
      ],
      "metadata": {
        "id": "2xjpm4_m0s_k"
      },
      "execution_count": null,
      "outputs": []
    },
    {
      "cell_type": "code",
      "source": [
        "help(add_datepart)"
      ],
      "metadata": {
        "colab": {
          "base_uri": "https://localhost:8080/"
        },
        "id": "2aiim9nt0wDP",
        "outputId": "460be686-184c-4414-b8ba-589c80e359cb"
      },
      "execution_count": null,
      "outputs": [
        {
          "output_type": "stream",
          "name": "stdout",
          "text": [
            "Help on function add_datepart in module fastai.tabular.core:\n",
            "\n",
            "add_datepart(df, field_name, prefix=None, drop=True, time=False)\n",
            "    Helper function that adds columns relevant to a date in the column `field_name` of `df`.\n",
            "\n"
          ]
        }
      ]
    },
    {
      "cell_type": "code",
      "source": [
        "df_nn.columns"
      ],
      "metadata": {
        "colab": {
          "base_uri": "https://localhost:8080/"
        },
        "id": "LSasWIaV0y8n",
        "outputId": "02838f6a-a3c5-45e6-8bb7-3141b7adcdfc"
      },
      "execution_count": null,
      "outputs": [
        {
          "output_type": "execute_result",
          "data": {
            "text/plain": [
              "Index(['SalesID', 'SalePrice', 'MachineID', 'ModelID', 'datasource',\n",
              "       'auctioneerID', 'YearMade', 'MachineHoursCurrentMeter', 'UsageBand',\n",
              "       'fiModelDesc', 'fiBaseModel', 'fiSecondaryDesc', 'fiModelSeries',\n",
              "       'fiModelDescriptor', 'ProductSize', 'fiProductClassDesc', 'state',\n",
              "       'ProductGroup', 'ProductGroupDesc', 'Drive_System', 'Enclosure',\n",
              "       'Forks', 'Pad_Type', 'Ride_Control', 'Stick', 'Transmission',\n",
              "       'Turbocharged', 'Blade_Extension', 'Blade_Width', 'Enclosure_Type',\n",
              "       'Engine_Horsepower', 'Hydraulics', 'Pushblock', 'Ripper', 'Scarifier',\n",
              "       'Tip_Control', 'Tire_Size', 'Coupler', 'Coupler_System',\n",
              "       'Grouser_Tracks', 'Hydraulics_Flow', 'Track_Type',\n",
              "       'Undercarriage_Pad_Width', 'Stick_Length', 'Thumb', 'Pattern_Changer',\n",
              "       'Grouser_Type', 'Backhoe_Mounting', 'Blade_Type', 'Travel_Controls',\n",
              "       'Differential_Type', 'Steering_Controls', 'saleYear', 'saleMonth',\n",
              "       'saleWeek', 'saleDay', 'saleDayofweek', 'saleDayofyear',\n",
              "       'saleIs_month_end', 'saleIs_month_start', 'saleIs_quarter_end',\n",
              "       'saleIs_quarter_start', 'saleIs_year_end', 'saleIs_year_start',\n",
              "       'saleElapsed'],\n",
              "      dtype='object')"
            ]
          },
          "metadata": {},
          "execution_count": 66
        }
      ]
    },
    {
      "cell_type": "code",
      "source": [
        "df_nn.head()"
      ],
      "metadata": {
        "colab": {
          "base_uri": "https://localhost:8080/",
          "height": 235
        },
        "id": "AuIQ3pbO01dg",
        "outputId": "33cbab2a-0b59-48a7-d3b4-be8991dc83f5"
      },
      "execution_count": null,
      "outputs": [
        {
          "output_type": "execute_result",
          "data": {
            "text/plain": [
              "   SalesID  SalePrice  MachineID  ModelID  ...  saleIs_quarter_start  \\\n",
              "0  1139246  11.097410     999089     3157  ...                 False   \n",
              "1  1139248  10.950807     117657       77  ...                 False   \n",
              "2  1139249   9.210340     434808     7009  ...                 False   \n",
              "3  1139251  10.558414    1026470      332  ...                 False   \n",
              "4  1139253   9.305651    1057373    17311  ...                 False   \n",
              "\n",
              "   saleIs_year_end  saleIs_year_start   saleElapsed  \n",
              "0            False              False  1.163635e+09  \n",
              "1            False              False  1.080259e+09  \n",
              "2            False              False  1.077754e+09  \n",
              "3            False              False  1.305763e+09  \n",
              "4            False              False  1.248307e+09  \n",
              "\n",
              "[5 rows x 65 columns]"
            ],
            "text/html": [
              "\n",
              "  <div id=\"df-33338645-817d-412c-b5fc-7cb0f73a8747\">\n",
              "    <div class=\"colab-df-container\">\n",
              "      <div>\n",
              "<style scoped>\n",
              "    .dataframe tbody tr th:only-of-type {\n",
              "        vertical-align: middle;\n",
              "    }\n",
              "\n",
              "    .dataframe tbody tr th {\n",
              "        vertical-align: top;\n",
              "    }\n",
              "\n",
              "    .dataframe thead th {\n",
              "        text-align: right;\n",
              "    }\n",
              "</style>\n",
              "<table border=\"1\" class=\"dataframe\">\n",
              "  <thead>\n",
              "    <tr style=\"text-align: right;\">\n",
              "      <th></th>\n",
              "      <th>SalesID</th>\n",
              "      <th>SalePrice</th>\n",
              "      <th>MachineID</th>\n",
              "      <th>ModelID</th>\n",
              "      <th>...</th>\n",
              "      <th>saleIs_quarter_start</th>\n",
              "      <th>saleIs_year_end</th>\n",
              "      <th>saleIs_year_start</th>\n",
              "      <th>saleElapsed</th>\n",
              "    </tr>\n",
              "  </thead>\n",
              "  <tbody>\n",
              "    <tr>\n",
              "      <th>0</th>\n",
              "      <td>1139246</td>\n",
              "      <td>11.097410</td>\n",
              "      <td>999089</td>\n",
              "      <td>3157</td>\n",
              "      <td>...</td>\n",
              "      <td>False</td>\n",
              "      <td>False</td>\n",
              "      <td>False</td>\n",
              "      <td>1.163635e+09</td>\n",
              "    </tr>\n",
              "    <tr>\n",
              "      <th>1</th>\n",
              "      <td>1139248</td>\n",
              "      <td>10.950807</td>\n",
              "      <td>117657</td>\n",
              "      <td>77</td>\n",
              "      <td>...</td>\n",
              "      <td>False</td>\n",
              "      <td>False</td>\n",
              "      <td>False</td>\n",
              "      <td>1.080259e+09</td>\n",
              "    </tr>\n",
              "    <tr>\n",
              "      <th>2</th>\n",
              "      <td>1139249</td>\n",
              "      <td>9.210340</td>\n",
              "      <td>434808</td>\n",
              "      <td>7009</td>\n",
              "      <td>...</td>\n",
              "      <td>False</td>\n",
              "      <td>False</td>\n",
              "      <td>False</td>\n",
              "      <td>1.077754e+09</td>\n",
              "    </tr>\n",
              "    <tr>\n",
              "      <th>3</th>\n",
              "      <td>1139251</td>\n",
              "      <td>10.558414</td>\n",
              "      <td>1026470</td>\n",
              "      <td>332</td>\n",
              "      <td>...</td>\n",
              "      <td>False</td>\n",
              "      <td>False</td>\n",
              "      <td>False</td>\n",
              "      <td>1.305763e+09</td>\n",
              "    </tr>\n",
              "    <tr>\n",
              "      <th>4</th>\n",
              "      <td>1139253</td>\n",
              "      <td>9.305651</td>\n",
              "      <td>1057373</td>\n",
              "      <td>17311</td>\n",
              "      <td>...</td>\n",
              "      <td>False</td>\n",
              "      <td>False</td>\n",
              "      <td>False</td>\n",
              "      <td>1.248307e+09</td>\n",
              "    </tr>\n",
              "  </tbody>\n",
              "</table>\n",
              "<p>5 rows × 65 columns</p>\n",
              "</div>\n",
              "      <button class=\"colab-df-convert\" onclick=\"convertToInteractive('df-33338645-817d-412c-b5fc-7cb0f73a8747')\"\n",
              "              title=\"Convert this dataframe to an interactive table.\"\n",
              "              style=\"display:none;\">\n",
              "        \n",
              "  <svg xmlns=\"http://www.w3.org/2000/svg\" height=\"24px\"viewBox=\"0 0 24 24\"\n",
              "       width=\"24px\">\n",
              "    <path d=\"M0 0h24v24H0V0z\" fill=\"none\"/>\n",
              "    <path d=\"M18.56 5.44l.94 2.06.94-2.06 2.06-.94-2.06-.94-.94-2.06-.94 2.06-2.06.94zm-11 1L8.5 8.5l.94-2.06 2.06-.94-2.06-.94L8.5 2.5l-.94 2.06-2.06.94zm10 10l.94 2.06.94-2.06 2.06-.94-2.06-.94-.94-2.06-.94 2.06-2.06.94z\"/><path d=\"M17.41 7.96l-1.37-1.37c-.4-.4-.92-.59-1.43-.59-.52 0-1.04.2-1.43.59L10.3 9.45l-7.72 7.72c-.78.78-.78 2.05 0 2.83L4 21.41c.39.39.9.59 1.41.59.51 0 1.02-.2 1.41-.59l7.78-7.78 2.81-2.81c.8-.78.8-2.07 0-2.86zM5.41 20L4 18.59l7.72-7.72 1.47 1.35L5.41 20z\"/>\n",
              "  </svg>\n",
              "      </button>\n",
              "      \n",
              "  <style>\n",
              "    .colab-df-container {\n",
              "      display:flex;\n",
              "      flex-wrap:wrap;\n",
              "      gap: 12px;\n",
              "    }\n",
              "\n",
              "    .colab-df-convert {\n",
              "      background-color: #E8F0FE;\n",
              "      border: none;\n",
              "      border-radius: 50%;\n",
              "      cursor: pointer;\n",
              "      display: none;\n",
              "      fill: #1967D2;\n",
              "      height: 32px;\n",
              "      padding: 0 0 0 0;\n",
              "      width: 32px;\n",
              "    }\n",
              "\n",
              "    .colab-df-convert:hover {\n",
              "      background-color: #E2EBFA;\n",
              "      box-shadow: 0px 1px 2px rgba(60, 64, 67, 0.3), 0px 1px 3px 1px rgba(60, 64, 67, 0.15);\n",
              "      fill: #174EA6;\n",
              "    }\n",
              "\n",
              "    [theme=dark] .colab-df-convert {\n",
              "      background-color: #3B4455;\n",
              "      fill: #D2E3FC;\n",
              "    }\n",
              "\n",
              "    [theme=dark] .colab-df-convert:hover {\n",
              "      background-color: #434B5C;\n",
              "      box-shadow: 0px 1px 3px 1px rgba(0, 0, 0, 0.15);\n",
              "      filter: drop-shadow(0px 1px 2px rgba(0, 0, 0, 0.3));\n",
              "      fill: #FFFFFF;\n",
              "    }\n",
              "  </style>\n",
              "\n",
              "      <script>\n",
              "        const buttonEl =\n",
              "          document.querySelector('#df-33338645-817d-412c-b5fc-7cb0f73a8747 button.colab-df-convert');\n",
              "        buttonEl.style.display =\n",
              "          google.colab.kernel.accessAllowed ? 'block' : 'none';\n",
              "\n",
              "        async function convertToInteractive(key) {\n",
              "          const element = document.querySelector('#df-33338645-817d-412c-b5fc-7cb0f73a8747');\n",
              "          const dataTable =\n",
              "            await google.colab.kernel.invokeFunction('convertToInteractive',\n",
              "                                                     [key], {});\n",
              "          if (!dataTable) return;\n",
              "\n",
              "          const docLinkHtml = 'Like what you see? Visit the ' +\n",
              "            '<a target=\"_blank\" href=https://colab.research.google.com/notebooks/data_table.ipynb>data table notebook</a>'\n",
              "            + ' to learn more about interactive tables.';\n",
              "          element.innerHTML = '';\n",
              "          dataTable['output_type'] = 'display_data';\n",
              "          await google.colab.output.renderOutput(dataTable, element);\n",
              "          const docLink = document.createElement('div');\n",
              "          docLink.innerHTML = docLinkHtml;\n",
              "          element.appendChild(docLink);\n",
              "        }\n",
              "      </script>\n",
              "    </div>\n",
              "  </div>\n",
              "  "
            ]
          },
          "metadata": {},
          "execution_count": 67
        }
      ]
    },
    {
      "cell_type": "code",
      "source": [
        "df_nn.columns"
      ],
      "metadata": {
        "colab": {
          "base_uri": "https://localhost:8080/"
        },
        "id": "vv0n8F7v04Vx",
        "outputId": "587e6022-68c1-4635-a990-1643a5620370"
      },
      "execution_count": null,
      "outputs": [
        {
          "output_type": "execute_result",
          "data": {
            "text/plain": [
              "Index(['SalesID', 'SalePrice', 'MachineID', 'ModelID', 'datasource',\n",
              "       'auctioneerID', 'YearMade', 'MachineHoursCurrentMeter', 'UsageBand',\n",
              "       'fiModelDesc', 'fiBaseModel', 'fiSecondaryDesc', 'fiModelSeries',\n",
              "       'fiModelDescriptor', 'ProductSize', 'fiProductClassDesc', 'state',\n",
              "       'ProductGroup', 'ProductGroupDesc', 'Drive_System', 'Enclosure',\n",
              "       'Forks', 'Pad_Type', 'Ride_Control', 'Stick', 'Transmission',\n",
              "       'Turbocharged', 'Blade_Extension', 'Blade_Width', 'Enclosure_Type',\n",
              "       'Engine_Horsepower', 'Hydraulics', 'Pushblock', 'Ripper', 'Scarifier',\n",
              "       'Tip_Control', 'Tire_Size', 'Coupler', 'Coupler_System',\n",
              "       'Grouser_Tracks', 'Hydraulics_Flow', 'Track_Type',\n",
              "       'Undercarriage_Pad_Width', 'Stick_Length', 'Thumb', 'Pattern_Changer',\n",
              "       'Grouser_Type', 'Backhoe_Mounting', 'Blade_Type', 'Travel_Controls',\n",
              "       'Differential_Type', 'Steering_Controls', 'saleYear', 'saleMonth',\n",
              "       'saleWeek', 'saleDay', 'saleDayofweek', 'saleDayofyear',\n",
              "       'saleIs_month_end', 'saleIs_month_start', 'saleIs_quarter_end',\n",
              "       'saleIs_quarter_start', 'saleIs_year_end', 'saleIs_year_start',\n",
              "       'saleElapsed'],\n",
              "      dtype='object')"
            ]
          },
          "metadata": {},
          "execution_count": 68
        }
      ]
    },
    {
      "cell_type": "code",
      "source": [
        "finalColumns = list(['SalesID', 'YearMade', 'ProductSize', 'ModelID', 'Tire_Size'])"
      ],
      "metadata": {
        "id": "jW3bz0EM07GZ"
      },
      "execution_count": null,
      "outputs": []
    },
    {
      "cell_type": "code",
      "source": [
        "df_nn_final = df_nn[finalColumns + [dep_var]]"
      ],
      "metadata": {
        "id": "e30iWLar090C"
      },
      "execution_count": null,
      "outputs": []
    },
    {
      "cell_type": "code",
      "source": [
        "df_nn_final.head()"
      ],
      "metadata": {
        "colab": {
          "base_uri": "https://localhost:8080/",
          "height": 206
        },
        "id": "8UWMq67W0_-R",
        "outputId": "606d6a06-cc1f-4b8d-89a3-290c621ea460"
      },
      "execution_count": null,
      "outputs": [
        {
          "output_type": "execute_result",
          "data": {
            "text/plain": [
              "   SalesID  YearMade ProductSize  ModelID            Tire_Size  SalePrice\n",
              "0  1139246      2004         NaN     3157  None or Unspecified  11.097410\n",
              "1  1139248      1996      Medium       77                 23.5  10.950807\n",
              "2  1139249      2001         NaN     7009                  NaN   9.210340\n",
              "3  1139251      2001       Small      332                  NaN  10.558414\n",
              "4  1139253      2007         NaN    17311                  NaN   9.305651"
            ],
            "text/html": [
              "\n",
              "  <div id=\"df-d9b9979e-88e8-490f-af15-5147ce1e9cef\">\n",
              "    <div class=\"colab-df-container\">\n",
              "      <div>\n",
              "<style scoped>\n",
              "    .dataframe tbody tr th:only-of-type {\n",
              "        vertical-align: middle;\n",
              "    }\n",
              "\n",
              "    .dataframe tbody tr th {\n",
              "        vertical-align: top;\n",
              "    }\n",
              "\n",
              "    .dataframe thead th {\n",
              "        text-align: right;\n",
              "    }\n",
              "</style>\n",
              "<table border=\"1\" class=\"dataframe\">\n",
              "  <thead>\n",
              "    <tr style=\"text-align: right;\">\n",
              "      <th></th>\n",
              "      <th>SalesID</th>\n",
              "      <th>YearMade</th>\n",
              "      <th>ProductSize</th>\n",
              "      <th>ModelID</th>\n",
              "      <th>Tire_Size</th>\n",
              "      <th>SalePrice</th>\n",
              "    </tr>\n",
              "  </thead>\n",
              "  <tbody>\n",
              "    <tr>\n",
              "      <th>0</th>\n",
              "      <td>1139246</td>\n",
              "      <td>2004</td>\n",
              "      <td>NaN</td>\n",
              "      <td>3157</td>\n",
              "      <td>None or Unspecified</td>\n",
              "      <td>11.097410</td>\n",
              "    </tr>\n",
              "    <tr>\n",
              "      <th>1</th>\n",
              "      <td>1139248</td>\n",
              "      <td>1996</td>\n",
              "      <td>Medium</td>\n",
              "      <td>77</td>\n",
              "      <td>23.5</td>\n",
              "      <td>10.950807</td>\n",
              "    </tr>\n",
              "    <tr>\n",
              "      <th>2</th>\n",
              "      <td>1139249</td>\n",
              "      <td>2001</td>\n",
              "      <td>NaN</td>\n",
              "      <td>7009</td>\n",
              "      <td>NaN</td>\n",
              "      <td>9.210340</td>\n",
              "    </tr>\n",
              "    <tr>\n",
              "      <th>3</th>\n",
              "      <td>1139251</td>\n",
              "      <td>2001</td>\n",
              "      <td>Small</td>\n",
              "      <td>332</td>\n",
              "      <td>NaN</td>\n",
              "      <td>10.558414</td>\n",
              "    </tr>\n",
              "    <tr>\n",
              "      <th>4</th>\n",
              "      <td>1139253</td>\n",
              "      <td>2007</td>\n",
              "      <td>NaN</td>\n",
              "      <td>17311</td>\n",
              "      <td>NaN</td>\n",
              "      <td>9.305651</td>\n",
              "    </tr>\n",
              "  </tbody>\n",
              "</table>\n",
              "</div>\n",
              "      <button class=\"colab-df-convert\" onclick=\"convertToInteractive('df-d9b9979e-88e8-490f-af15-5147ce1e9cef')\"\n",
              "              title=\"Convert this dataframe to an interactive table.\"\n",
              "              style=\"display:none;\">\n",
              "        \n",
              "  <svg xmlns=\"http://www.w3.org/2000/svg\" height=\"24px\"viewBox=\"0 0 24 24\"\n",
              "       width=\"24px\">\n",
              "    <path d=\"M0 0h24v24H0V0z\" fill=\"none\"/>\n",
              "    <path d=\"M18.56 5.44l.94 2.06.94-2.06 2.06-.94-2.06-.94-.94-2.06-.94 2.06-2.06.94zm-11 1L8.5 8.5l.94-2.06 2.06-.94-2.06-.94L8.5 2.5l-.94 2.06-2.06.94zm10 10l.94 2.06.94-2.06 2.06-.94-2.06-.94-.94-2.06-.94 2.06-2.06.94z\"/><path d=\"M17.41 7.96l-1.37-1.37c-.4-.4-.92-.59-1.43-.59-.52 0-1.04.2-1.43.59L10.3 9.45l-7.72 7.72c-.78.78-.78 2.05 0 2.83L4 21.41c.39.39.9.59 1.41.59.51 0 1.02-.2 1.41-.59l7.78-7.78 2.81-2.81c.8-.78.8-2.07 0-2.86zM5.41 20L4 18.59l7.72-7.72 1.47 1.35L5.41 20z\"/>\n",
              "  </svg>\n",
              "      </button>\n",
              "      \n",
              "  <style>\n",
              "    .colab-df-container {\n",
              "      display:flex;\n",
              "      flex-wrap:wrap;\n",
              "      gap: 12px;\n",
              "    }\n",
              "\n",
              "    .colab-df-convert {\n",
              "      background-color: #E8F0FE;\n",
              "      border: none;\n",
              "      border-radius: 50%;\n",
              "      cursor: pointer;\n",
              "      display: none;\n",
              "      fill: #1967D2;\n",
              "      height: 32px;\n",
              "      padding: 0 0 0 0;\n",
              "      width: 32px;\n",
              "    }\n",
              "\n",
              "    .colab-df-convert:hover {\n",
              "      background-color: #E2EBFA;\n",
              "      box-shadow: 0px 1px 2px rgba(60, 64, 67, 0.3), 0px 1px 3px 1px rgba(60, 64, 67, 0.15);\n",
              "      fill: #174EA6;\n",
              "    }\n",
              "\n",
              "    [theme=dark] .colab-df-convert {\n",
              "      background-color: #3B4455;\n",
              "      fill: #D2E3FC;\n",
              "    }\n",
              "\n",
              "    [theme=dark] .colab-df-convert:hover {\n",
              "      background-color: #434B5C;\n",
              "      box-shadow: 0px 1px 3px 1px rgba(0, 0, 0, 0.15);\n",
              "      filter: drop-shadow(0px 1px 2px rgba(0, 0, 0, 0.3));\n",
              "      fill: #FFFFFF;\n",
              "    }\n",
              "  </style>\n",
              "\n",
              "      <script>\n",
              "        const buttonEl =\n",
              "          document.querySelector('#df-d9b9979e-88e8-490f-af15-5147ce1e9cef button.colab-df-convert');\n",
              "        buttonEl.style.display =\n",
              "          google.colab.kernel.accessAllowed ? 'block' : 'none';\n",
              "\n",
              "        async function convertToInteractive(key) {\n",
              "          const element = document.querySelector('#df-d9b9979e-88e8-490f-af15-5147ce1e9cef');\n",
              "          const dataTable =\n",
              "            await google.colab.kernel.invokeFunction('convertToInteractive',\n",
              "                                                     [key], {});\n",
              "          if (!dataTable) return;\n",
              "\n",
              "          const docLinkHtml = 'Like what you see? Visit the ' +\n",
              "            '<a target=\"_blank\" href=https://colab.research.google.com/notebooks/data_table.ipynb>data table notebook</a>'\n",
              "            + ' to learn more about interactive tables.';\n",
              "          element.innerHTML = '';\n",
              "          dataTable['output_type'] = 'display_data';\n",
              "          await google.colab.output.renderOutput(dataTable, element);\n",
              "          const docLink = document.createElement('div');\n",
              "          docLink.innerHTML = docLinkHtml;\n",
              "          element.appendChild(docLink);\n",
              "        }\n",
              "      </script>\n",
              "    </div>\n",
              "  </div>\n",
              "  "
            ]
          },
          "metadata": {},
          "execution_count": 71
        }
      ]
    },
    {
      "cell_type": "code",
      "source": [
        "df_nn_final[:20]"
      ],
      "metadata": {
        "colab": {
          "base_uri": "https://localhost:8080/",
          "height": 676
        },
        "id": "za8xvxLz1CDa",
        "outputId": "ce56b978-4bb1-4e48-c264-07bf22e7b78c"
      },
      "execution_count": null,
      "outputs": [
        {
          "output_type": "execute_result",
          "data": {
            "text/plain": [
              "    SalesID  YearMade     ProductSize  ModelID            Tire_Size  SalePrice\n",
              "0   1139246      2004             NaN     3157  None or Unspecified  11.097410\n",
              "1   1139248      1996          Medium       77                 23.5  10.950807\n",
              "2   1139249      2001             NaN     7009                  NaN   9.210340\n",
              "3   1139251      2001           Small      332                  NaN  10.558414\n",
              "4   1139253      2007             NaN    17311                  NaN   9.305651\n",
              "5   1139255      2004             NaN     4605                  NaN  10.184900\n",
              "6   1139256      1993  Large / Medium     1937                  NaN   9.952278\n",
              "7   1139261      2001             NaN     3539                  NaN  10.203592\n",
              "8   1139272      2008            Mini    36003                  NaN   9.975808\n",
              "9   1139275      1000           Large     3883  None or Unspecified  11.082143\n",
              "10  1139278      2004             NaN     4605                  NaN  10.085809\n",
              "11  1139282      1998             NaN     5255                  NaN  10.021271\n",
              "12  1139283      1998  Large / Medium     2232                  NaN  10.491274\n",
              "13  1139284      2001             NaN     3542                  NaN  10.325482\n",
              "14  1139290      2004             NaN     5162                  NaN  10.239960\n",
              "15  1139291      1999             NaN     4604                  NaN   9.852194\n",
              "16  1139292      1999            Mini     9510                  NaN   9.510445\n",
              "17  1139299      2003            Mini    21442                  NaN   9.159047\n",
              "18  1139301      2001            Mini     7040                  NaN   9.433484\n",
              "19  1139304      1991             NaN     3177                  NaN   9.350102"
            ],
            "text/html": [
              "\n",
              "  <div id=\"df-fce9b164-f7e6-4a3a-a9a3-66cae1d3c7de\">\n",
              "    <div class=\"colab-df-container\">\n",
              "      <div>\n",
              "<style scoped>\n",
              "    .dataframe tbody tr th:only-of-type {\n",
              "        vertical-align: middle;\n",
              "    }\n",
              "\n",
              "    .dataframe tbody tr th {\n",
              "        vertical-align: top;\n",
              "    }\n",
              "\n",
              "    .dataframe thead th {\n",
              "        text-align: right;\n",
              "    }\n",
              "</style>\n",
              "<table border=\"1\" class=\"dataframe\">\n",
              "  <thead>\n",
              "    <tr style=\"text-align: right;\">\n",
              "      <th></th>\n",
              "      <th>SalesID</th>\n",
              "      <th>YearMade</th>\n",
              "      <th>ProductSize</th>\n",
              "      <th>ModelID</th>\n",
              "      <th>Tire_Size</th>\n",
              "      <th>SalePrice</th>\n",
              "    </tr>\n",
              "  </thead>\n",
              "  <tbody>\n",
              "    <tr>\n",
              "      <th>0</th>\n",
              "      <td>1139246</td>\n",
              "      <td>2004</td>\n",
              "      <td>NaN</td>\n",
              "      <td>3157</td>\n",
              "      <td>None or Unspecified</td>\n",
              "      <td>11.097410</td>\n",
              "    </tr>\n",
              "    <tr>\n",
              "      <th>1</th>\n",
              "      <td>1139248</td>\n",
              "      <td>1996</td>\n",
              "      <td>Medium</td>\n",
              "      <td>77</td>\n",
              "      <td>23.5</td>\n",
              "      <td>10.950807</td>\n",
              "    </tr>\n",
              "    <tr>\n",
              "      <th>2</th>\n",
              "      <td>1139249</td>\n",
              "      <td>2001</td>\n",
              "      <td>NaN</td>\n",
              "      <td>7009</td>\n",
              "      <td>NaN</td>\n",
              "      <td>9.210340</td>\n",
              "    </tr>\n",
              "    <tr>\n",
              "      <th>3</th>\n",
              "      <td>1139251</td>\n",
              "      <td>2001</td>\n",
              "      <td>Small</td>\n",
              "      <td>332</td>\n",
              "      <td>NaN</td>\n",
              "      <td>10.558414</td>\n",
              "    </tr>\n",
              "    <tr>\n",
              "      <th>4</th>\n",
              "      <td>1139253</td>\n",
              "      <td>2007</td>\n",
              "      <td>NaN</td>\n",
              "      <td>17311</td>\n",
              "      <td>NaN</td>\n",
              "      <td>9.305651</td>\n",
              "    </tr>\n",
              "    <tr>\n",
              "      <th>5</th>\n",
              "      <td>1139255</td>\n",
              "      <td>2004</td>\n",
              "      <td>NaN</td>\n",
              "      <td>4605</td>\n",
              "      <td>NaN</td>\n",
              "      <td>10.184900</td>\n",
              "    </tr>\n",
              "    <tr>\n",
              "      <th>6</th>\n",
              "      <td>1139256</td>\n",
              "      <td>1993</td>\n",
              "      <td>Large / Medium</td>\n",
              "      <td>1937</td>\n",
              "      <td>NaN</td>\n",
              "      <td>9.952278</td>\n",
              "    </tr>\n",
              "    <tr>\n",
              "      <th>7</th>\n",
              "      <td>1139261</td>\n",
              "      <td>2001</td>\n",
              "      <td>NaN</td>\n",
              "      <td>3539</td>\n",
              "      <td>NaN</td>\n",
              "      <td>10.203592</td>\n",
              "    </tr>\n",
              "    <tr>\n",
              "      <th>8</th>\n",
              "      <td>1139272</td>\n",
              "      <td>2008</td>\n",
              "      <td>Mini</td>\n",
              "      <td>36003</td>\n",
              "      <td>NaN</td>\n",
              "      <td>9.975808</td>\n",
              "    </tr>\n",
              "    <tr>\n",
              "      <th>9</th>\n",
              "      <td>1139275</td>\n",
              "      <td>1000</td>\n",
              "      <td>Large</td>\n",
              "      <td>3883</td>\n",
              "      <td>None or Unspecified</td>\n",
              "      <td>11.082143</td>\n",
              "    </tr>\n",
              "    <tr>\n",
              "      <th>10</th>\n",
              "      <td>1139278</td>\n",
              "      <td>2004</td>\n",
              "      <td>NaN</td>\n",
              "      <td>4605</td>\n",
              "      <td>NaN</td>\n",
              "      <td>10.085809</td>\n",
              "    </tr>\n",
              "    <tr>\n",
              "      <th>11</th>\n",
              "      <td>1139282</td>\n",
              "      <td>1998</td>\n",
              "      <td>NaN</td>\n",
              "      <td>5255</td>\n",
              "      <td>NaN</td>\n",
              "      <td>10.021271</td>\n",
              "    </tr>\n",
              "    <tr>\n",
              "      <th>12</th>\n",
              "      <td>1139283</td>\n",
              "      <td>1998</td>\n",
              "      <td>Large / Medium</td>\n",
              "      <td>2232</td>\n",
              "      <td>NaN</td>\n",
              "      <td>10.491274</td>\n",
              "    </tr>\n",
              "    <tr>\n",
              "      <th>13</th>\n",
              "      <td>1139284</td>\n",
              "      <td>2001</td>\n",
              "      <td>NaN</td>\n",
              "      <td>3542</td>\n",
              "      <td>NaN</td>\n",
              "      <td>10.325482</td>\n",
              "    </tr>\n",
              "    <tr>\n",
              "      <th>14</th>\n",
              "      <td>1139290</td>\n",
              "      <td>2004</td>\n",
              "      <td>NaN</td>\n",
              "      <td>5162</td>\n",
              "      <td>NaN</td>\n",
              "      <td>10.239960</td>\n",
              "    </tr>\n",
              "    <tr>\n",
              "      <th>15</th>\n",
              "      <td>1139291</td>\n",
              "      <td>1999</td>\n",
              "      <td>NaN</td>\n",
              "      <td>4604</td>\n",
              "      <td>NaN</td>\n",
              "      <td>9.852194</td>\n",
              "    </tr>\n",
              "    <tr>\n",
              "      <th>16</th>\n",
              "      <td>1139292</td>\n",
              "      <td>1999</td>\n",
              "      <td>Mini</td>\n",
              "      <td>9510</td>\n",
              "      <td>NaN</td>\n",
              "      <td>9.510445</td>\n",
              "    </tr>\n",
              "    <tr>\n",
              "      <th>17</th>\n",
              "      <td>1139299</td>\n",
              "      <td>2003</td>\n",
              "      <td>Mini</td>\n",
              "      <td>21442</td>\n",
              "      <td>NaN</td>\n",
              "      <td>9.159047</td>\n",
              "    </tr>\n",
              "    <tr>\n",
              "      <th>18</th>\n",
              "      <td>1139301</td>\n",
              "      <td>2001</td>\n",
              "      <td>Mini</td>\n",
              "      <td>7040</td>\n",
              "      <td>NaN</td>\n",
              "      <td>9.433484</td>\n",
              "    </tr>\n",
              "    <tr>\n",
              "      <th>19</th>\n",
              "      <td>1139304</td>\n",
              "      <td>1991</td>\n",
              "      <td>NaN</td>\n",
              "      <td>3177</td>\n",
              "      <td>NaN</td>\n",
              "      <td>9.350102</td>\n",
              "    </tr>\n",
              "  </tbody>\n",
              "</table>\n",
              "</div>\n",
              "      <button class=\"colab-df-convert\" onclick=\"convertToInteractive('df-fce9b164-f7e6-4a3a-a9a3-66cae1d3c7de')\"\n",
              "              title=\"Convert this dataframe to an interactive table.\"\n",
              "              style=\"display:none;\">\n",
              "        \n",
              "  <svg xmlns=\"http://www.w3.org/2000/svg\" height=\"24px\"viewBox=\"0 0 24 24\"\n",
              "       width=\"24px\">\n",
              "    <path d=\"M0 0h24v24H0V0z\" fill=\"none\"/>\n",
              "    <path d=\"M18.56 5.44l.94 2.06.94-2.06 2.06-.94-2.06-.94-.94-2.06-.94 2.06-2.06.94zm-11 1L8.5 8.5l.94-2.06 2.06-.94-2.06-.94L8.5 2.5l-.94 2.06-2.06.94zm10 10l.94 2.06.94-2.06 2.06-.94-2.06-.94-.94-2.06-.94 2.06-2.06.94z\"/><path d=\"M17.41 7.96l-1.37-1.37c-.4-.4-.92-.59-1.43-.59-.52 0-1.04.2-1.43.59L10.3 9.45l-7.72 7.72c-.78.78-.78 2.05 0 2.83L4 21.41c.39.39.9.59 1.41.59.51 0 1.02-.2 1.41-.59l7.78-7.78 2.81-2.81c.8-.78.8-2.07 0-2.86zM5.41 20L4 18.59l7.72-7.72 1.47 1.35L5.41 20z\"/>\n",
              "  </svg>\n",
              "      </button>\n",
              "      \n",
              "  <style>\n",
              "    .colab-df-container {\n",
              "      display:flex;\n",
              "      flex-wrap:wrap;\n",
              "      gap: 12px;\n",
              "    }\n",
              "\n",
              "    .colab-df-convert {\n",
              "      background-color: #E8F0FE;\n",
              "      border: none;\n",
              "      border-radius: 50%;\n",
              "      cursor: pointer;\n",
              "      display: none;\n",
              "      fill: #1967D2;\n",
              "      height: 32px;\n",
              "      padding: 0 0 0 0;\n",
              "      width: 32px;\n",
              "    }\n",
              "\n",
              "    .colab-df-convert:hover {\n",
              "      background-color: #E2EBFA;\n",
              "      box-shadow: 0px 1px 2px rgba(60, 64, 67, 0.3), 0px 1px 3px 1px rgba(60, 64, 67, 0.15);\n",
              "      fill: #174EA6;\n",
              "    }\n",
              "\n",
              "    [theme=dark] .colab-df-convert {\n",
              "      background-color: #3B4455;\n",
              "      fill: #D2E3FC;\n",
              "    }\n",
              "\n",
              "    [theme=dark] .colab-df-convert:hover {\n",
              "      background-color: #434B5C;\n",
              "      box-shadow: 0px 1px 3px 1px rgba(0, 0, 0, 0.15);\n",
              "      filter: drop-shadow(0px 1px 2px rgba(0, 0, 0, 0.3));\n",
              "      fill: #FFFFFF;\n",
              "    }\n",
              "  </style>\n",
              "\n",
              "      <script>\n",
              "        const buttonEl =\n",
              "          document.querySelector('#df-fce9b164-f7e6-4a3a-a9a3-66cae1d3c7de button.colab-df-convert');\n",
              "        buttonEl.style.display =\n",
              "          google.colab.kernel.accessAllowed ? 'block' : 'none';\n",
              "\n",
              "        async function convertToInteractive(key) {\n",
              "          const element = document.querySelector('#df-fce9b164-f7e6-4a3a-a9a3-66cae1d3c7de');\n",
              "          const dataTable =\n",
              "            await google.colab.kernel.invokeFunction('convertToInteractive',\n",
              "                                                     [key], {});\n",
              "          if (!dataTable) return;\n",
              "\n",
              "          const docLinkHtml = 'Like what you see? Visit the ' +\n",
              "            '<a target=\"_blank\" href=https://colab.research.google.com/notebooks/data_table.ipynb>data table notebook</a>'\n",
              "            + ' to learn more about interactive tables.';\n",
              "          element.innerHTML = '';\n",
              "          dataTable['output_type'] = 'display_data';\n",
              "          await google.colab.output.renderOutput(dataTable, element);\n",
              "          const docLink = document.createElement('div');\n",
              "          docLink.innerHTML = docLinkHtml;\n",
              "          element.appendChild(docLink);\n",
              "        }\n",
              "      </script>\n",
              "    </div>\n",
              "  </div>\n",
              "  "
            ]
          },
          "metadata": {},
          "execution_count": 72
        }
      ]
    },
    {
      "cell_type": "code",
      "source": [
        "df_nn_final.head().T"
      ],
      "metadata": {
        "colab": {
          "base_uri": "https://localhost:8080/",
          "height": 237
        },
        "id": "lBiX9WIX1GO1",
        "outputId": "85eeed50-8b6b-4758-cf2a-57f5f26cb5b7"
      },
      "execution_count": null,
      "outputs": [
        {
          "output_type": "execute_result",
          "data": {
            "text/plain": [
              "                               0          1        2          3         4\n",
              "SalesID                  1139246    1139248  1139249    1139251   1139253\n",
              "YearMade                    2004       1996     2001       2001      2007\n",
              "ProductSize                  NaN     Medium      NaN      Small       NaN\n",
              "ModelID                     3157         77     7009        332     17311\n",
              "Tire_Size    None or Unspecified       23.5      NaN        NaN       NaN\n",
              "SalePrice               11.09741  10.950807  9.21034  10.558414  9.305651"
            ],
            "text/html": [
              "\n",
              "  <div id=\"df-4a421472-e442-4a03-ba4e-e8b6b90932bb\">\n",
              "    <div class=\"colab-df-container\">\n",
              "      <div>\n",
              "<style scoped>\n",
              "    .dataframe tbody tr th:only-of-type {\n",
              "        vertical-align: middle;\n",
              "    }\n",
              "\n",
              "    .dataframe tbody tr th {\n",
              "        vertical-align: top;\n",
              "    }\n",
              "\n",
              "    .dataframe thead th {\n",
              "        text-align: right;\n",
              "    }\n",
              "</style>\n",
              "<table border=\"1\" class=\"dataframe\">\n",
              "  <thead>\n",
              "    <tr style=\"text-align: right;\">\n",
              "      <th></th>\n",
              "      <th>0</th>\n",
              "      <th>1</th>\n",
              "      <th>2</th>\n",
              "      <th>3</th>\n",
              "      <th>4</th>\n",
              "    </tr>\n",
              "  </thead>\n",
              "  <tbody>\n",
              "    <tr>\n",
              "      <th>SalesID</th>\n",
              "      <td>1139246</td>\n",
              "      <td>1139248</td>\n",
              "      <td>1139249</td>\n",
              "      <td>1139251</td>\n",
              "      <td>1139253</td>\n",
              "    </tr>\n",
              "    <tr>\n",
              "      <th>YearMade</th>\n",
              "      <td>2004</td>\n",
              "      <td>1996</td>\n",
              "      <td>2001</td>\n",
              "      <td>2001</td>\n",
              "      <td>2007</td>\n",
              "    </tr>\n",
              "    <tr>\n",
              "      <th>ProductSize</th>\n",
              "      <td>NaN</td>\n",
              "      <td>Medium</td>\n",
              "      <td>NaN</td>\n",
              "      <td>Small</td>\n",
              "      <td>NaN</td>\n",
              "    </tr>\n",
              "    <tr>\n",
              "      <th>ModelID</th>\n",
              "      <td>3157</td>\n",
              "      <td>77</td>\n",
              "      <td>7009</td>\n",
              "      <td>332</td>\n",
              "      <td>17311</td>\n",
              "    </tr>\n",
              "    <tr>\n",
              "      <th>Tire_Size</th>\n",
              "      <td>None or Unspecified</td>\n",
              "      <td>23.5</td>\n",
              "      <td>NaN</td>\n",
              "      <td>NaN</td>\n",
              "      <td>NaN</td>\n",
              "    </tr>\n",
              "    <tr>\n",
              "      <th>SalePrice</th>\n",
              "      <td>11.09741</td>\n",
              "      <td>10.950807</td>\n",
              "      <td>9.21034</td>\n",
              "      <td>10.558414</td>\n",
              "      <td>9.305651</td>\n",
              "    </tr>\n",
              "  </tbody>\n",
              "</table>\n",
              "</div>\n",
              "      <button class=\"colab-df-convert\" onclick=\"convertToInteractive('df-4a421472-e442-4a03-ba4e-e8b6b90932bb')\"\n",
              "              title=\"Convert this dataframe to an interactive table.\"\n",
              "              style=\"display:none;\">\n",
              "        \n",
              "  <svg xmlns=\"http://www.w3.org/2000/svg\" height=\"24px\"viewBox=\"0 0 24 24\"\n",
              "       width=\"24px\">\n",
              "    <path d=\"M0 0h24v24H0V0z\" fill=\"none\"/>\n",
              "    <path d=\"M18.56 5.44l.94 2.06.94-2.06 2.06-.94-2.06-.94-.94-2.06-.94 2.06-2.06.94zm-11 1L8.5 8.5l.94-2.06 2.06-.94-2.06-.94L8.5 2.5l-.94 2.06-2.06.94zm10 10l.94 2.06.94-2.06 2.06-.94-2.06-.94-.94-2.06-.94 2.06-2.06.94z\"/><path d=\"M17.41 7.96l-1.37-1.37c-.4-.4-.92-.59-1.43-.59-.52 0-1.04.2-1.43.59L10.3 9.45l-7.72 7.72c-.78.78-.78 2.05 0 2.83L4 21.41c.39.39.9.59 1.41.59.51 0 1.02-.2 1.41-.59l7.78-7.78 2.81-2.81c.8-.78.8-2.07 0-2.86zM5.41 20L4 18.59l7.72-7.72 1.47 1.35L5.41 20z\"/>\n",
              "  </svg>\n",
              "      </button>\n",
              "      \n",
              "  <style>\n",
              "    .colab-df-container {\n",
              "      display:flex;\n",
              "      flex-wrap:wrap;\n",
              "      gap: 12px;\n",
              "    }\n",
              "\n",
              "    .colab-df-convert {\n",
              "      background-color: #E8F0FE;\n",
              "      border: none;\n",
              "      border-radius: 50%;\n",
              "      cursor: pointer;\n",
              "      display: none;\n",
              "      fill: #1967D2;\n",
              "      height: 32px;\n",
              "      padding: 0 0 0 0;\n",
              "      width: 32px;\n",
              "    }\n",
              "\n",
              "    .colab-df-convert:hover {\n",
              "      background-color: #E2EBFA;\n",
              "      box-shadow: 0px 1px 2px rgba(60, 64, 67, 0.3), 0px 1px 3px 1px rgba(60, 64, 67, 0.15);\n",
              "      fill: #174EA6;\n",
              "    }\n",
              "\n",
              "    [theme=dark] .colab-df-convert {\n",
              "      background-color: #3B4455;\n",
              "      fill: #D2E3FC;\n",
              "    }\n",
              "\n",
              "    [theme=dark] .colab-df-convert:hover {\n",
              "      background-color: #434B5C;\n",
              "      box-shadow: 0px 1px 3px 1px rgba(0, 0, 0, 0.15);\n",
              "      filter: drop-shadow(0px 1px 2px rgba(0, 0, 0, 0.3));\n",
              "      fill: #FFFFFF;\n",
              "    }\n",
              "  </style>\n",
              "\n",
              "      <script>\n",
              "        const buttonEl =\n",
              "          document.querySelector('#df-4a421472-e442-4a03-ba4e-e8b6b90932bb button.colab-df-convert');\n",
              "        buttonEl.style.display =\n",
              "          google.colab.kernel.accessAllowed ? 'block' : 'none';\n",
              "\n",
              "        async function convertToInteractive(key) {\n",
              "          const element = document.querySelector('#df-4a421472-e442-4a03-ba4e-e8b6b90932bb');\n",
              "          const dataTable =\n",
              "            await google.colab.kernel.invokeFunction('convertToInteractive',\n",
              "                                                     [key], {});\n",
              "          if (!dataTable) return;\n",
              "\n",
              "          const docLinkHtml = 'Like what you see? Visit the ' +\n",
              "            '<a target=\"_blank\" href=https://colab.research.google.com/notebooks/data_table.ipynb>data table notebook</a>'\n",
              "            + ' to learn more about interactive tables.';\n",
              "          element.innerHTML = '';\n",
              "          dataTable['output_type'] = 'display_data';\n",
              "          await google.colab.output.renderOutput(dataTable, element);\n",
              "          const docLink = document.createElement('div');\n",
              "          docLink.innerHTML = docLinkHtml;\n",
              "          element.appendChild(docLink);\n",
              "        }\n",
              "      </script>\n",
              "    </div>\n",
              "  </div>\n",
              "  "
            ]
          },
          "metadata": {},
          "execution_count": 73
        }
      ]
    },
    {
      "cell_type": "code",
      "source": [
        "df_nn_final.columns"
      ],
      "metadata": {
        "colab": {
          "base_uri": "https://localhost:8080/"
        },
        "id": "1fCXHV2g1IkF",
        "outputId": "a04fce55-ddf4-47c7-ffba-45d0551f2f3d"
      },
      "execution_count": null,
      "outputs": [
        {
          "output_type": "execute_result",
          "data": {
            "text/plain": [
              "Index(['SalesID', 'YearMade', 'ProductSize', 'ModelID', 'Tire_Size',\n",
              "       'SalePrice'],\n",
              "      dtype='object')"
            ]
          },
          "metadata": {},
          "execution_count": 74
        }
      ]
    },
    {
      "cell_type": "code",
      "source": [
        "cont_nn,cat_nn = cont_cat_split(df_nn_final, max_card=9000, dep_var=dep_var)"
      ],
      "metadata": {
        "id": "buRX2rg61LMY"
      },
      "execution_count": null,
      "outputs": []
    },
    {
      "cell_type": "code",
      "source": [
        "cont_nn"
      ],
      "metadata": {
        "colab": {
          "base_uri": "https://localhost:8080/"
        },
        "id": "5IuAUCLE1NUP",
        "outputId": "4a90aa81-cc40-44c2-8761-cf7c9d05ca01"
      },
      "execution_count": null,
      "outputs": [
        {
          "output_type": "execute_result",
          "data": {
            "text/plain": [
              "['SalesID']"
            ]
          },
          "metadata": {},
          "execution_count": 76
        }
      ]
    },
    {
      "cell_type": "code",
      "source": [
        "cat_nn"
      ],
      "metadata": {
        "colab": {
          "base_uri": "https://localhost:8080/"
        },
        "id": "644mKJPS1PJP",
        "outputId": "b92f6c2f-ab20-4a95-fe21-0e6a05555b73"
      },
      "execution_count": null,
      "outputs": [
        {
          "output_type": "execute_result",
          "data": {
            "text/plain": [
              "['YearMade', 'ProductSize', 'ModelID', 'Tire_Size']"
            ]
          },
          "metadata": {},
          "execution_count": 77
        }
      ]
    },
    {
      "cell_type": "code",
      "source": [
        "df_nn_final[cat_nn].nunique()"
      ],
      "metadata": {
        "colab": {
          "base_uri": "https://localhost:8080/"
        },
        "id": "CQFZDU9r1Q0s",
        "outputId": "5749b5bb-aea7-422c-aaf4-c45f9a07cdb7"
      },
      "execution_count": null,
      "outputs": [
        {
          "output_type": "execute_result",
          "data": {
            "text/plain": [
              "YearMade         73\n",
              "ProductSize       6\n",
              "ModelID        5281\n",
              "Tire_Size        17\n",
              "dtype: int64"
            ]
          },
          "metadata": {},
          "execution_count": 78
        }
      ]
    },
    {
      "cell_type": "code",
      "source": [
        "df_nn_final['YearMade'].unique()"
      ],
      "metadata": {
        "colab": {
          "base_uri": "https://localhost:8080/"
        },
        "id": "9y2p2aeS1TdP",
        "outputId": "021ffa98-406d-4914-b0f4-71fae6fef768"
      },
      "execution_count": null,
      "outputs": [
        {
          "output_type": "execute_result",
          "data": {
            "text/plain": [
              "array([2004, 1996, 2001, 2007, 1993, 2008, 1000, 1998, 1999, 2003, 1991, 2000, 2005, 1995, 2006, 2002, 1984, 1988, 1980, 1992, 1987, 1997, 1971, 1978, 1989, 1985, 1979, 1976, 1994, 1982, 1990, 1974,\n",
              "       1968, 1966, 1983, 1986, 1981, 1970, 1977, 1975, 1973, 1965, 1967, 2009, 2010, 1969, 1972, 1964, 1957, 1958, 1963, 1919, 1920, 1950, 1948, 1952, 1942, 1956, 1954, 1953, 1955, 1959, 1960, 1961,\n",
              "       1962, 1951, 1937, 1949, 1947, 2012, 2013, 2011, 2014])"
            ]
          },
          "metadata": {},
          "execution_count": 79
        }
      ]
    },
    {
      "cell_type": "code",
      "source": [
        "len(df_nn_final['YearMade'].unique())"
      ],
      "metadata": {
        "colab": {
          "base_uri": "https://localhost:8080/"
        },
        "id": "L2PG0Vgw1XlS",
        "outputId": "bae22a6d-b62c-4ee6-b093-8e3757708da5"
      },
      "execution_count": null,
      "outputs": [
        {
          "output_type": "execute_result",
          "data": {
            "text/plain": [
              "73"
            ]
          },
          "metadata": {},
          "execution_count": 80
        }
      ]
    },
    {
      "cell_type": "code",
      "source": [
        "df_nn_final['ProductSize'].unique()"
      ],
      "metadata": {
        "colab": {
          "base_uri": "https://localhost:8080/"
        },
        "id": "22wPsqm21Zh5",
        "outputId": "85865cd7-31a8-4b44-faec-a1f01ff5bbc7"
      },
      "execution_count": null,
      "outputs": [
        {
          "output_type": "execute_result",
          "data": {
            "text/plain": [
              "[NaN, 'Medium', 'Small', 'Large / Medium', 'Mini', 'Large', 'Compact']\n",
              "Categories (6, object): ['Large' < 'Large / Medium' < 'Medium' < 'Small' < 'Mini' < 'Compact']"
            ]
          },
          "metadata": {},
          "execution_count": 81
        }
      ]
    },
    {
      "cell_type": "code",
      "source": [
        "df_nn_final['Tire_Size'].unique()"
      ],
      "metadata": {
        "colab": {
          "base_uri": "https://localhost:8080/"
        },
        "id": "LuUtRr7R1bR3",
        "outputId": "1688db5f-e9b3-4258-ac34-69ff83f04ec6"
      },
      "execution_count": null,
      "outputs": [
        {
          "output_type": "execute_result",
          "data": {
            "text/plain": [
              "array(['None or Unspecified', '23.5', nan, '13\"', '26.5', '29.5', '14\"', '20.5', '17.5\"', '15.5\"', '20.5\"', '17.5', '7.0\"', '15.5', '23.5\"', '10\"', '23.1\"', '10 inch'], dtype=object)"
            ]
          },
          "metadata": {},
          "execution_count": 82
        }
      ]
    },
    {
      "cell_type": "code",
      "source": [
        "((df_nn.saleYear == 2011) & (df_nn.saleMonth<10)) | (df_nn.saleYear<2011)"
      ],
      "metadata": {
        "colab": {
          "base_uri": "https://localhost:8080/"
        },
        "id": "z3NLEy1Q1dKA",
        "outputId": "1fbcdec1-4b51-41c5-f5bb-0cc5a46f9c65"
      },
      "execution_count": null,
      "outputs": [
        {
          "output_type": "execute_result",
          "data": {
            "text/plain": [
              "0          True\n",
              "1          True\n",
              "2          True\n",
              "3          True\n",
              "4          True\n",
              "          ...  \n",
              "412693    False\n",
              "412694    False\n",
              "412695    False\n",
              "412696    False\n",
              "412697    False\n",
              "Length: 412698, dtype: bool"
            ]
          },
          "metadata": {},
          "execution_count": 84
        }
      ]
    },
    {
      "cell_type": "code",
      "source": [
        "cond = ((df_nn.saleYear<2011) |((df_nn.saleYear == 2011) & (df_nn.saleMonth<10)))\n",
        "train_idx = np.where( cond)[0] # before November 2011\n",
        "valid_idx = np.where(~cond)[0] # after November 2011."
      ],
      "metadata": {
        "id": "El6bR64a1e5z"
      },
      "execution_count": null,
      "outputs": []
    },
    {
      "cell_type": "code",
      "source": [
        "splits = (list(train_idx),list(valid_idx))"
      ],
      "metadata": {
        "id": "AITHlqG01iH3"
      },
      "execution_count": null,
      "outputs": []
    },
    {
      "cell_type": "code",
      "source": [
        "procs_nn = [Categorify, FillMissing, Normalize]"
      ],
      "metadata": {
        "id": "SuEdWkUA1kOy"
      },
      "execution_count": null,
      "outputs": []
    },
    {
      "cell_type": "code",
      "source": [
        "to_nn = TabularPandas(df_nn_final, procs_nn, cat_nn, cont_nn, splits=splits, y_names=dep_var)"
      ],
      "metadata": {
        "id": "D0OUla8x1mD8"
      },
      "execution_count": null,
      "outputs": []
    },
    {
      "cell_type": "code",
      "source": [
        "type(to_nn)"
      ],
      "metadata": {
        "colab": {
          "base_uri": "https://localhost:8080/"
        },
        "id": "fgjKXjxC1oPS",
        "outputId": "b2a8b377-19e5-48dd-afbe-f0b719bb0e47"
      },
      "execution_count": null,
      "outputs": [
        {
          "output_type": "execute_result",
          "data": {
            "text/plain": [
              "fastai.tabular.core.TabularPandas"
            ]
          },
          "metadata": {},
          "execution_count": 89
        }
      ]
    },
    {
      "cell_type": "code",
      "source": [
        "dls = to_nn.dataloaders(1024)"
      ],
      "metadata": {
        "id": "IFmON9_W1qOf"
      },
      "execution_count": null,
      "outputs": []
    },
    {
      "cell_type": "code",
      "source": [
        "y = to_nn.train.y\n",
        "y.min(),y.max()"
      ],
      "metadata": {
        "colab": {
          "base_uri": "https://localhost:8080/"
        },
        "id": "B6hPF4K31sJz",
        "outputId": "412193bd-86f3-4fd0-9037-75a3b47ff399"
      },
      "execution_count": null,
      "outputs": [
        {
          "output_type": "execute_result",
          "data": {
            "text/plain": [
              "(8.465899467468262, 11.863582611083984)"
            ]
          },
          "metadata": {},
          "execution_count": 91
        }
      ]
    },
    {
      "cell_type": "code",
      "source": [
        "learn = tabular_learner(dls, y_range=(8,12), layers=[500,250],\n",
        "                        n_out=1, loss_func=F.mse_loss)"
      ],
      "metadata": {
        "id": "KZFRtmVX1t-e"
      },
      "execution_count": null,
      "outputs": []
    },
    {
      "cell_type": "code",
      "source": [
        "learn.model"
      ],
      "metadata": {
        "colab": {
          "base_uri": "https://localhost:8080/"
        },
        "id": "XHsQECCI1w07",
        "outputId": "2cb08353-5347-44d6-b380-13d89c3f0521"
      },
      "execution_count": null,
      "outputs": [
        {
          "output_type": "execute_result",
          "data": {
            "text/plain": [
              "TabularModel(\n",
              "  (embeds): ModuleList(\n",
              "    (0): Embedding(72, 18)\n",
              "    (1): Embedding(7, 5)\n",
              "    (2): Embedding(5173, 192)\n",
              "    (3): Embedding(18, 8)\n",
              "  )\n",
              "  (emb_drop): Dropout(p=0.0, inplace=False)\n",
              "  (bn_cont): BatchNorm1d(1, eps=1e-05, momentum=0.1, affine=True, track_running_stats=True)\n",
              "  (layers): Sequential(\n",
              "    (0): LinBnDrop(\n",
              "      (0): Linear(in_features=224, out_features=500, bias=False)\n",
              "      (1): ReLU(inplace=True)\n",
              "      (2): BatchNorm1d(500, eps=1e-05, momentum=0.1, affine=True, track_running_stats=True)\n",
              "    )\n",
              "    (1): LinBnDrop(\n",
              "      (0): Linear(in_features=500, out_features=250, bias=False)\n",
              "      (1): ReLU(inplace=True)\n",
              "      (2): BatchNorm1d(250, eps=1e-05, momentum=0.1, affine=True, track_running_stats=True)\n",
              "    )\n",
              "    (2): LinBnDrop(\n",
              "      (0): Linear(in_features=250, out_features=1, bias=True)\n",
              "    )\n",
              "    (3): SigmoidRange(low=8, high=12)\n",
              "  )\n",
              ")"
            ]
          },
          "metadata": {},
          "execution_count": 93
        }
      ]
    },
    {
      "cell_type": "code",
      "source": [
        "learn.lr_find()"
      ],
      "metadata": {
        "colab": {
          "base_uri": "https://localhost:8080/",
          "height": 302
        },
        "id": "XSh4X25y14fZ",
        "outputId": "8435a19d-74bf-473b-e02b-55ecf80cfcb0"
      },
      "execution_count": null,
      "outputs": [
        {
          "output_type": "display_data",
          "data": {
            "text/plain": [
              "<IPython.core.display.HTML object>"
            ],
            "text/html": [
              "\n",
              "<style>\n",
              "    /* Turns off some styling */\n",
              "    progress {\n",
              "        /* gets rid of default border in Firefox and Opera. */\n",
              "        border: none;\n",
              "        /* Needs to be in here for Safari polyfill so background images work as expected. */\n",
              "        background-size: auto;\n",
              "    }\n",
              "    .progress-bar-interrupted, .progress-bar-interrupted::-webkit-progress-bar {\n",
              "        background: #F44336;\n",
              "    }\n",
              "</style>\n"
            ]
          },
          "metadata": {}
        },
        {
          "output_type": "display_data",
          "data": {
            "text/plain": [
              "<IPython.core.display.HTML object>"
            ],
            "text/html": [
              ""
            ]
          },
          "metadata": {}
        },
        {
          "output_type": "execute_result",
          "data": {
            "text/plain": [
              "SuggestedLRs(valley=0.0002290867705596611)"
            ]
          },
          "metadata": {},
          "execution_count": 94
        },
        {
          "output_type": "display_data",
          "data": {
            "text/plain": [
              "<Figure size 432x288 with 1 Axes>"
            ],
            "image/png": "[encoded data removed]"
          },
          "metadata": {
            "needs_background": "light"
          }
        }
      ]
    },
    {
      "cell_type": "code",
      "source": [
        "learn.fit_one_cycle(5, 1e-3)"
      ],
      "metadata": {
        "colab": {
          "base_uri": "https://localhost:8080/",
          "height": 206
        },
        "id": "twh00F7618Ju",
        "outputId": "656a5f3a-756a-4eb6-9d31-9f57df524af2"
      },
      "execution_count": null,
      "outputs": [
        {
          "output_type": "display_data",
          "data": {
            "text/plain": [
              "<IPython.core.display.HTML object>"
            ],
            "text/html": [
              "\n",
              "<style>\n",
              "    /* Turns off some styling */\n",
              "    progress {\n",
              "        /* gets rid of default border in Firefox and Opera. */\n",
              "        border: none;\n",
              "        /* Needs to be in here for Safari polyfill so background images work as expected. */\n",
              "        background-size: auto;\n",
              "    }\n",
              "    .progress-bar-interrupted, .progress-bar-interrupted::-webkit-progress-bar {\n",
              "        background: #F44336;\n",
              "    }\n",
              "</style>\n"
            ]
          },
          "metadata": {}
        },
        {
          "output_type": "display_data",
          "data": {
            "text/plain": [
              "<IPython.core.display.HTML object>"
            ],
            "text/html": [
              "<table border=\"1\" class=\"dataframe\">\n",
              "  <thead>\n",
              "    <tr style=\"text-align: left;\">\n",
              "      <th>epoch</th>\n",
              "      <th>train_loss</th>\n",
              "      <th>valid_loss</th>\n",
              "      <th>time</th>\n",
              "    </tr>\n",
              "  </thead>\n",
              "  <tbody>\n",
              "    <tr>\n",
              "      <td>0</td>\n",
              "      <td>0.099773</td>\n",
              "      <td>0.152894</td>\n",
              "      <td>00:22</td>\n",
              "    </tr>\n",
              "    <tr>\n",
              "      <td>1</td>\n",
              "      <td>0.089114</td>\n",
              "      <td>0.202999</td>\n",
              "      <td>00:22</td>\n",
              "    </tr>\n",
              "    <tr>\n",
              "      <td>2</td>\n",
              "      <td>0.084433</td>\n",
              "      <td>0.074011</td>\n",
              "      <td>00:23</td>\n",
              "    </tr>\n",
              "    <tr>\n",
              "      <td>3</td>\n",
              "      <td>0.078545</td>\n",
              "      <td>0.063666</td>\n",
              "      <td>00:21</td>\n",
              "    </tr>\n",
              "    <tr>\n",
              "      <td>4</td>\n",
              "      <td>0.075127</td>\n",
              "      <td>0.064181</td>\n",
              "      <td>00:21</td>\n",
              "    </tr>\n",
              "  </tbody>\n",
              "</table>"
            ]
          },
          "metadata": {}
        }
      ]
    },
    {
      "cell_type": "code",
      "source": [
        "test_df = df_nn.copy()\n",
        "test_df.drop(['SalePrice'], axis=1, inplace=True)"
      ],
      "metadata": {
        "id": "aAO9mzaA2AUR"
      },
      "execution_count": null,
      "outputs": []
    },
    {
      "cell_type": "code",
      "source": [
        "df_nn[:10]"
      ],
      "metadata": {
        "colab": {
          "base_uri": "https://localhost:8080/",
          "height": 392
        },
        "id": "l6ZULJKi2H8b",
        "outputId": "3cc05008-3f48-4346-c896-ba9ea95890d7"
      },
      "execution_count": null,
      "outputs": [
        {
          "output_type": "execute_result",
          "data": {
            "text/plain": [
              "   SalesID  SalePrice  MachineID  ModelID  ...  saleIs_quarter_start  \\\n",
              "0  1139246  11.097410     999089     3157  ...                 False   \n",
              "1  1139248  10.950807     117657       77  ...                 False   \n",
              "2  1139249   9.210340     434808     7009  ...                 False   \n",
              "3  1139251  10.558414    1026470      332  ...                 False   \n",
              "4  1139253   9.305651    1057373    17311  ...                 False   \n",
              "5  1139255  10.184900    1001274     4605  ...                 False   \n",
              "6  1139256   9.952278     772701     1937  ...                 False   \n",
              "7  1139261  10.203592     902002     3539  ...                 False   \n",
              "8  1139272   9.975808    1036251    36003  ...                 False   \n",
              "9  1139275  11.082143    1016474     3883  ...                 False   \n",
              "\n",
              "   saleIs_year_end  saleIs_year_start   saleElapsed  \n",
              "0            False              False  1.163635e+09  \n",
              "1            False              False  1.080259e+09  \n",
              "2            False              False  1.077754e+09  \n",
              "3            False              False  1.305763e+09  \n",
              "4            False              False  1.248307e+09  \n",
              "5            False              False  1.229558e+09  \n",
              "6            False              False  1.093478e+09  \n",
              "7            False              False  1.132186e+09  \n",
              "8            False              False  1.251331e+09  \n",
              "9            False              False  1.186618e+09  \n",
              "\n",
              "[10 rows x 65 columns]"
            ],
            "text/html": [
              "\n",
              "  <div id=\"df-374331f2-4d12-4f12-bbf8-4b854898dcaf\">\n",
              "    <div class=\"colab-df-container\">\n",
              "      <div>\n",
              "<style scoped>\n",
              "    .dataframe tbody tr th:only-of-type {\n",
              "        vertical-align: middle;\n",
              "    }\n",
              "\n",
              "    .dataframe tbody tr th {\n",
              "        vertical-align: top;\n",
              "    }\n",
              "\n",
              "    .dataframe thead th {\n",
              "        text-align: right;\n",
              "    }\n",
              "</style>\n",
              "<table border=\"1\" class=\"dataframe\">\n",
              "  <thead>\n",
              "    <tr style=\"text-align: right;\">\n",
              "      <th></th>\n",
              "      <th>SalesID</th>\n",
              "      <th>SalePrice</th>\n",
              "      <th>MachineID</th>\n",
              "      <th>ModelID</th>\n",
              "      <th>...</th>\n",
              "      <th>saleIs_quarter_start</th>\n",
              "      <th>saleIs_year_end</th>\n",
              "      <th>saleIs_year_start</th>\n",
              "      <th>saleElapsed</th>\n",
              "    </tr>\n",
              "  </thead>\n",
              "  <tbody>\n",
              "    <tr>\n",
              "      <th>0</th>\n",
              "      <td>1139246</td>\n",
              "      <td>11.097410</td>\n",
              "      <td>999089</td>\n",
              "      <td>3157</td>\n",
              "      <td>...</td>\n",
              "      <td>False</td>\n",
              "      <td>False</td>\n",
              "      <td>False</td>\n",
              "      <td>1.163635e+09</td>\n",
              "    </tr>\n",
              "    <tr>\n",
              "      <th>1</th>\n",
              "      <td>1139248</td>\n",
              "      <td>10.950807</td>\n",
              "      <td>117657</td>\n",
              "      <td>77</td>\n",
              "      <td>...</td>\n",
              "      <td>False</td>\n",
              "      <td>False</td>\n",
              "      <td>False</td>\n",
              "      <td>1.080259e+09</td>\n",
              "    </tr>\n",
              "    <tr>\n",
              "      <th>2</th>\n",
              "      <td>1139249</td>\n",
              "      <td>9.210340</td>\n",
              "      <td>434808</td>\n",
              "      <td>7009</td>\n",
              "      <td>...</td>\n",
              "      <td>False</td>\n",
              "      <td>False</td>\n",
              "      <td>False</td>\n",
              "      <td>1.077754e+09</td>\n",
              "    </tr>\n",
              "    <tr>\n",
              "      <th>3</th>\n",
              "      <td>1139251</td>\n",
              "      <td>10.558414</td>\n",
              "      <td>1026470</td>\n",
              "      <td>332</td>\n",
              "      <td>...</td>\n",
              "      <td>False</td>\n",
              "      <td>False</td>\n",
              "      <td>False</td>\n",
              "      <td>1.305763e+09</td>\n",
              "    </tr>\n",
              "    <tr>\n",
              "      <th>4</th>\n",
              "      <td>1139253</td>\n",
              "      <td>9.305651</td>\n",
              "      <td>1057373</td>\n",
              "      <td>17311</td>\n",
              "      <td>...</td>\n",
              "      <td>False</td>\n",
              "      <td>False</td>\n",
              "      <td>False</td>\n",
              "      <td>1.248307e+09</td>\n",
              "    </tr>\n",
              "    <tr>\n",
              "      <th>5</th>\n",
              "      <td>1139255</td>\n",
              "      <td>10.184900</td>\n",
              "      <td>1001274</td>\n",
              "      <td>4605</td>\n",
              "      <td>...</td>\n",
              "      <td>False</td>\n",
              "      <td>False</td>\n",
              "      <td>False</td>\n",
              "      <td>1.229558e+09</td>\n",
              "    </tr>\n",
              "    <tr>\n",
              "      <th>6</th>\n",
              "      <td>1139256</td>\n",
              "      <td>9.952278</td>\n",
              "      <td>772701</td>\n",
              "      <td>1937</td>\n",
              "      <td>...</td>\n",
              "      <td>False</td>\n",
              "      <td>False</td>\n",
              "      <td>False</td>\n",
              "      <td>1.093478e+09</td>\n",
              "    </tr>\n",
              "    <tr>\n",
              "      <th>7</th>\n",
              "      <td>1139261</td>\n",
              "      <td>10.203592</td>\n",
              "      <td>902002</td>\n",
              "      <td>3539</td>\n",
              "      <td>...</td>\n",
              "      <td>False</td>\n",
              "      <td>False</td>\n",
              "      <td>False</td>\n",
              "      <td>1.132186e+09</td>\n",
              "    </tr>\n",
              "    <tr>\n",
              "      <th>8</th>\n",
              "      <td>1139272</td>\n",
              "      <td>9.975808</td>\n",
              "      <td>1036251</td>\n",
              "      <td>36003</td>\n",
              "      <td>...</td>\n",
              "      <td>False</td>\n",
              "      <td>False</td>\n",
              "      <td>False</td>\n",
              "      <td>1.251331e+09</td>\n",
              "    </tr>\n",
              "    <tr>\n",
              "      <th>9</th>\n",
              "      <td>1139275</td>\n",
              "      <td>11.082143</td>\n",
              "      <td>1016474</td>\n",
              "      <td>3883</td>\n",
              "      <td>...</td>\n",
              "      <td>False</td>\n",
              "      <td>False</td>\n",
              "      <td>False</td>\n",
              "      <td>1.186618e+09</td>\n",
              "    </tr>\n",
              "  </tbody>\n",
              "</table>\n",
              "<p>10 rows × 65 columns</p>\n",
              "</div>\n",
              "      <button class=\"colab-df-convert\" onclick=\"convertToInteractive('df-374331f2-4d12-4f12-bbf8-4b854898dcaf')\"\n",
              "              title=\"Convert this dataframe to an interactive table.\"\n",
              "              style=\"display:none;\">\n",
              "        \n",
              "  <svg xmlns=\"http://www.w3.org/2000/svg\" height=\"24px\"viewBox=\"0 0 24 24\"\n",
              "       width=\"24px\">\n",
              "    <path d=\"M0 0h24v24H0V0z\" fill=\"none\"/>\n",
              "    <path d=\"M18.56 5.44l.94 2.06.94-2.06 2.06-.94-2.06-.94-.94-2.06-.94 2.06-2.06.94zm-11 1L8.5 8.5l.94-2.06 2.06-.94-2.06-.94L8.5 2.5l-.94 2.06-2.06.94zm10 10l.94 2.06.94-2.06 2.06-.94-2.06-.94-.94-2.06-.94 2.06-2.06.94z\"/><path d=\"M17.41 7.96l-1.37-1.37c-.4-.4-.92-.59-1.43-.59-.52 0-1.04.2-1.43.59L10.3 9.45l-7.72 7.72c-.78.78-.78 2.05 0 2.83L4 21.41c.39.39.9.59 1.41.59.51 0 1.02-.2 1.41-.59l7.78-7.78 2.81-2.81c.8-.78.8-2.07 0-2.86zM5.41 20L4 18.59l7.72-7.72 1.47 1.35L5.41 20z\"/>\n",
              "  </svg>\n",
              "      </button>\n",
              "      \n",
              "  <style>\n",
              "    .colab-df-container {\n",
              "      display:flex;\n",
              "      flex-wrap:wrap;\n",
              "      gap: 12px;\n",
              "    }\n",
              "\n",
              "    .colab-df-convert {\n",
              "      background-color: #E8F0FE;\n",
              "      border: none;\n",
              "      border-radius: 50%;\n",
              "      cursor: pointer;\n",
              "      display: none;\n",
              "      fill: #1967D2;\n",
              "      height: 32px;\n",
              "      padding: 0 0 0 0;\n",
              "      width: 32px;\n",
              "    }\n",
              "\n",
              "    .colab-df-convert:hover {\n",
              "      background-color: #E2EBFA;\n",
              "      box-shadow: 0px 1px 2px rgba(60, 64, 67, 0.3), 0px 1px 3px 1px rgba(60, 64, 67, 0.15);\n",
              "      fill: #174EA6;\n",
              "    }\n",
              "\n",
              "    [theme=dark] .colab-df-convert {\n",
              "      background-color: #3B4455;\n",
              "      fill: #D2E3FC;\n",
              "    }\n",
              "\n",
              "    [theme=dark] .colab-df-convert:hover {\n",
              "      background-color: #434B5C;\n",
              "      box-shadow: 0px 1px 3px 1px rgba(0, 0, 0, 0.15);\n",
              "      filter: drop-shadow(0px 1px 2px rgba(0, 0, 0, 0.3));\n",
              "      fill: #FFFFFF;\n",
              "    }\n",
              "  </style>\n",
              "\n",
              "      <script>\n",
              "        const buttonEl =\n",
              "          document.querySelector('#df-374331f2-4d12-4f12-bbf8-4b854898dcaf button.colab-df-convert');\n",
              "        buttonEl.style.display =\n",
              "          google.colab.kernel.accessAllowed ? 'block' : 'none';\n",
              "\n",
              "        async function convertToInteractive(key) {\n",
              "          const element = document.querySelector('#df-374331f2-4d12-4f12-bbf8-4b854898dcaf');\n",
              "          const dataTable =\n",
              "            await google.colab.kernel.invokeFunction('convertToInteractive',\n",
              "                                                     [key], {});\n",
              "          if (!dataTable) return;\n",
              "\n",
              "          const docLinkHtml = 'Like what you see? Visit the ' +\n",
              "            '<a target=\"_blank\" href=https://colab.research.google.com/notebooks/data_table.ipynb>data table notebook</a>'\n",
              "            + ' to learn more about interactive tables.';\n",
              "          element.innerHTML = '';\n",
              "          dataTable['output_type'] = 'display_data';\n",
              "          await google.colab.output.renderOutput(dataTable, element);\n",
              "          const docLink = document.createElement('div');\n",
              "          docLink.innerHTML = docLinkHtml;\n",
              "          element.appendChild(docLink);\n",
              "        }\n",
              "      </script>\n",
              "    </div>\n",
              "  </div>\n",
              "  "
            ]
          },
          "metadata": {},
          "execution_count": 97
        }
      ]
    },
    {
      "cell_type": "code",
      "source": [
        "test_df[:10]"
      ],
      "metadata": {
        "colab": {
          "base_uri": "https://localhost:8080/",
          "height": 392
        },
        "id": "y4jqogDq2J8k",
        "outputId": "7c5fbcb4-410c-4ea9-8629-52ed16a2d216"
      },
      "execution_count": null,
      "outputs": [
        {
          "output_type": "execute_result",
          "data": {
            "text/plain": [
              "   SalesID  MachineID  ModelID  datasource  ...  saleIs_quarter_start  \\\n",
              "0  1139246     999089     3157         121  ...                 False   \n",
              "1  1139248     117657       77         121  ...                 False   \n",
              "2  1139249     434808     7009         121  ...                 False   \n",
              "3  1139251    1026470      332         121  ...                 False   \n",
              "4  1139253    1057373    17311         121  ...                 False   \n",
              "5  1139255    1001274     4605         121  ...                 False   \n",
              "6  1139256     772701     1937         121  ...                 False   \n",
              "7  1139261     902002     3539         121  ...                 False   \n",
              "8  1139272    1036251    36003         121  ...                 False   \n",
              "9  1139275    1016474     3883         121  ...                 False   \n",
              "\n",
              "   saleIs_year_end  saleIs_year_start   saleElapsed  \n",
              "0            False              False  1.163635e+09  \n",
              "1            False              False  1.080259e+09  \n",
              "2            False              False  1.077754e+09  \n",
              "3            False              False  1.305763e+09  \n",
              "4            False              False  1.248307e+09  \n",
              "5            False              False  1.229558e+09  \n",
              "6            False              False  1.093478e+09  \n",
              "7            False              False  1.132186e+09  \n",
              "8            False              False  1.251331e+09  \n",
              "9            False              False  1.186618e+09  \n",
              "\n",
              "[10 rows x 64 columns]"
            ],
            "text/html": [
              "\n",
              "  <div id=\"df-05c1858a-ee85-4bc2-b638-93d49d80fc3e\">\n",
              "    <div class=\"colab-df-container\">\n",
              "      <div>\n",
              "<style scoped>\n",
              "    .dataframe tbody tr th:only-of-type {\n",
              "        vertical-align: middle;\n",
              "    }\n",
              "\n",
              "    .dataframe tbody tr th {\n",
              "        vertical-align: top;\n",
              "    }\n",
              "\n",
              "    .dataframe thead th {\n",
              "        text-align: right;\n",
              "    }\n",
              "</style>\n",
              "<table border=\"1\" class=\"dataframe\">\n",
              "  <thead>\n",
              "    <tr style=\"text-align: right;\">\n",
              "      <th></th>\n",
              "      <th>SalesID</th>\n",
              "      <th>MachineID</th>\n",
              "      <th>ModelID</th>\n",
              "      <th>datasource</th>\n",
              "      <th>...</th>\n",
              "      <th>saleIs_quarter_start</th>\n",
              "      <th>saleIs_year_end</th>\n",
              "      <th>saleIs_year_start</th>\n",
              "      <th>saleElapsed</th>\n",
              "    </tr>\n",
              "  </thead>\n",
              "  <tbody>\n",
              "    <tr>\n",
              "      <th>0</th>\n",
              "      <td>1139246</td>\n",
              "      <td>999089</td>\n",
              "      <td>3157</td>\n",
              "      <td>121</td>\n",
              "      <td>...</td>\n",
              "      <td>False</td>\n",
              "      <td>False</td>\n",
              "      <td>False</td>\n",
              "      <td>1.163635e+09</td>\n",
              "    </tr>\n",
              "    <tr>\n",
              "      <th>1</th>\n",
              "      <td>1139248</td>\n",
              "      <td>117657</td>\n",
              "      <td>77</td>\n",
              "      <td>121</td>\n",
              "      <td>...</td>\n",
              "      <td>False</td>\n",
              "      <td>False</td>\n",
              "      <td>False</td>\n",
              "      <td>1.080259e+09</td>\n",
              "    </tr>\n",
              "    <tr>\n",
              "      <th>2</th>\n",
              "      <td>1139249</td>\n",
              "      <td>434808</td>\n",
              "      <td>7009</td>\n",
              "      <td>121</td>\n",
              "      <td>...</td>\n",
              "      <td>False</td>\n",
              "      <td>False</td>\n",
              "      <td>False</td>\n",
              "      <td>1.077754e+09</td>\n",
              "    </tr>\n",
              "    <tr>\n",
              "      <th>3</th>\n",
              "      <td>1139251</td>\n",
              "      <td>1026470</td>\n",
              "      <td>332</td>\n",
              "      <td>121</td>\n",
              "      <td>...</td>\n",
              "      <td>False</td>\n",
              "      <td>False</td>\n",
              "      <td>False</td>\n",
              "      <td>1.305763e+09</td>\n",
              "    </tr>\n",
              "    <tr>\n",
              "      <th>4</th>\n",
              "      <td>1139253</td>\n",
              "      <td>1057373</td>\n",
              "      <td>17311</td>\n",
              "      <td>121</td>\n",
              "      <td>...</td>\n",
              "      <td>False</td>\n",
              "      <td>False</td>\n",
              "      <td>False</td>\n",
              "      <td>1.248307e+09</td>\n",
              "    </tr>\n",
              "    <tr>\n",
              "      <th>5</th>\n",
              "      <td>1139255</td>\n",
              "      <td>1001274</td>\n",
              "      <td>4605</td>\n",
              "      <td>121</td>\n",
              "      <td>...</td>\n",
              "      <td>False</td>\n",
              "      <td>False</td>\n",
              "      <td>False</td>\n",
              "      <td>1.229558e+09</td>\n",
              "    </tr>\n",
              "    <tr>\n",
              "      <th>6</th>\n",
              "      <td>1139256</td>\n",
              "      <td>772701</td>\n",
              "      <td>1937</td>\n",
              "      <td>121</td>\n",
              "      <td>...</td>\n",
              "      <td>False</td>\n",
              "      <td>False</td>\n",
              "      <td>False</td>\n",
              "      <td>1.093478e+09</td>\n",
              "    </tr>\n",
              "    <tr>\n",
              "      <th>7</th>\n",
              "      <td>1139261</td>\n",
              "      <td>902002</td>\n",
              "      <td>3539</td>\n",
              "      <td>121</td>\n",
              "      <td>...</td>\n",
              "      <td>False</td>\n",
              "      <td>False</td>\n",
              "      <td>False</td>\n",
              "      <td>1.132186e+09</td>\n",
              "    </tr>\n",
              "    <tr>\n",
              "      <th>8</th>\n",
              "      <td>1139272</td>\n",
              "      <td>1036251</td>\n",
              "      <td>36003</td>\n",
              "      <td>121</td>\n",
              "      <td>...</td>\n",
              "      <td>False</td>\n",
              "      <td>False</td>\n",
              "      <td>False</td>\n",
              "      <td>1.251331e+09</td>\n",
              "    </tr>\n",
              "    <tr>\n",
              "      <th>9</th>\n",
              "      <td>1139275</td>\n",
              "      <td>1016474</td>\n",
              "      <td>3883</td>\n",
              "      <td>121</td>\n",
              "      <td>...</td>\n",
              "      <td>False</td>\n",
              "      <td>False</td>\n",
              "      <td>False</td>\n",
              "      <td>1.186618e+09</td>\n",
              "    </tr>\n",
              "  </tbody>\n",
              "</table>\n",
              "<p>10 rows × 64 columns</p>\n",
              "</div>\n",
              "      <button class=\"colab-df-convert\" onclick=\"convertToInteractive('df-05c1858a-ee85-4bc2-b638-93d49d80fc3e')\"\n",
              "              title=\"Convert this dataframe to an interactive table.\"\n",
              "              style=\"display:none;\">\n",
              "        \n",
              "  <svg xmlns=\"http://www.w3.org/2000/svg\" height=\"24px\"viewBox=\"0 0 24 24\"\n",
              "       width=\"24px\">\n",
              "    <path d=\"M0 0h24v24H0V0z\" fill=\"none\"/>\n",
              "    <path d=\"M18.56 5.44l.94 2.06.94-2.06 2.06-.94-2.06-.94-.94-2.06-.94 2.06-2.06.94zm-11 1L8.5 8.5l.94-2.06 2.06-.94-2.06-.94L8.5 2.5l-.94 2.06-2.06.94zm10 10l.94 2.06.94-2.06 2.06-.94-2.06-.94-.94-2.06-.94 2.06-2.06.94z\"/><path d=\"M17.41 7.96l-1.37-1.37c-.4-.4-.92-.59-1.43-.59-.52 0-1.04.2-1.43.59L10.3 9.45l-7.72 7.72c-.78.78-.78 2.05 0 2.83L4 21.41c.39.39.9.59 1.41.59.51 0 1.02-.2 1.41-.59l7.78-7.78 2.81-2.81c.8-.78.8-2.07 0-2.86zM5.41 20L4 18.59l7.72-7.72 1.47 1.35L5.41 20z\"/>\n",
              "  </svg>\n",
              "      </button>\n",
              "      \n",
              "  <style>\n",
              "    .colab-df-container {\n",
              "      display:flex;\n",
              "      flex-wrap:wrap;\n",
              "      gap: 12px;\n",
              "    }\n",
              "\n",
              "    .colab-df-convert {\n",
              "      background-color: #E8F0FE;\n",
              "      border: none;\n",
              "      border-radius: 50%;\n",
              "      cursor: pointer;\n",
              "      display: none;\n",
              "      fill: #1967D2;\n",
              "      height: 32px;\n",
              "      padding: 0 0 0 0;\n",
              "      width: 32px;\n",
              "    }\n",
              "\n",
              "    .colab-df-convert:hover {\n",
              "      background-color: #E2EBFA;\n",
              "      box-shadow: 0px 1px 2px rgba(60, 64, 67, 0.3), 0px 1px 3px 1px rgba(60, 64, 67, 0.15);\n",
              "      fill: #174EA6;\n",
              "    }\n",
              "\n",
              "    [theme=dark] .colab-df-convert {\n",
              "      background-color: #3B4455;\n",
              "      fill: #D2E3FC;\n",
              "    }\n",
              "\n",
              "    [theme=dark] .colab-df-convert:hover {\n",
              "      background-color: #434B5C;\n",
              "      box-shadow: 0px 1px 3px 1px rgba(0, 0, 0, 0.15);\n",
              "      filter: drop-shadow(0px 1px 2px rgba(0, 0, 0, 0.3));\n",
              "      fill: #FFFFFF;\n",
              "    }\n",
              "  </style>\n",
              "\n",
              "      <script>\n",
              "        const buttonEl =\n",
              "          document.querySelector('#df-05c1858a-ee85-4bc2-b638-93d49d80fc3e button.colab-df-convert');\n",
              "        buttonEl.style.display =\n",
              "          google.colab.kernel.accessAllowed ? 'block' : 'none';\n",
              "\n",
              "        async function convertToInteractive(key) {\n",
              "          const element = document.querySelector('#df-05c1858a-ee85-4bc2-b638-93d49d80fc3e');\n",
              "          const dataTable =\n",
              "            await google.colab.kernel.invokeFunction('convertToInteractive',\n",
              "                                                     [key], {});\n",
              "          if (!dataTable) return;\n",
              "\n",
              "          const docLinkHtml = 'Like what you see? Visit the ' +\n",
              "            '<a target=\"_blank\" href=https://colab.research.google.com/notebooks/data_table.ipynb>data table notebook</a>'\n",
              "            + ' to learn more about interactive tables.';\n",
              "          element.innerHTML = '';\n",
              "          dataTable['output_type'] = 'display_data';\n",
              "          await google.colab.output.renderOutput(dataTable, element);\n",
              "          const docLink = document.createElement('div');\n",
              "          docLink.innerHTML = docLinkHtml;\n",
              "          element.appendChild(docLink);\n",
              "        }\n",
              "      </script>\n",
              "    </div>\n",
              "  </div>\n",
              "  "
            ]
          },
          "metadata": {},
          "execution_count": 98
        }
      ]
    },
    {
      "cell_type": "code",
      "source": [
        "pd.options.display.max_columns = 64\n",
        "test_df[test_df.SalesID==1139272]"
      ],
      "metadata": {
        "colab": {
          "base_uri": "https://localhost:8080/",
          "height": 179
        },
        "id": "U_ulPO9u2Lwx",
        "outputId": "c1caca1e-342b-4345-e04e-a7583d7e1f15"
      },
      "execution_count": null,
      "outputs": [
        {
          "output_type": "execute_result",
          "data": {
            "text/plain": [
              "   SalesID  MachineID  ModelID  datasource  auctioneerID  YearMade  \\\n",
              "8  1139272    1036251    36003         121           3.0      2008   \n",
              "\n",
              "   MachineHoursCurrentMeter UsageBand fiModelDesc fiBaseModel fiSecondaryDesc  \\\n",
              "8                     302.0       Low      430HAG         430             HAG   \n",
              "\n",
              "  fiModelSeries fiModelDescriptor ProductSize  \\\n",
              "8           NaN               NaN        Mini   \n",
              "\n",
              "                                    fiProductClassDesc  state ProductGroup  \\\n",
              "8  Hydraulic Excavator, Track - 3.0 to 4.0 Metric Tons  Texas          TEX   \n",
              "\n",
              "   ProductGroupDesc Drive_System Enclosure Forks Pad_Type Ride_Control Stick  \\\n",
              "8  Track Excavators          NaN     EROPS   NaN      NaN          NaN   NaN   \n",
              "\n",
              "  Transmission Turbocharged Blade_Extension Blade_Width Enclosure_Type  \\\n",
              "8          NaN          NaN             NaN         NaN            NaN   \n",
              "\n",
              "  Engine_Horsepower Hydraulics Pushblock Ripper Scarifier Tip_Control  \\\n",
              "8               NaN  Auxiliary       NaN    NaN       NaN         NaN   \n",
              "\n",
              "  Tire_Size Coupler Coupler_System Grouser_Tracks Hydraulics_Flow Track_Type  \\\n",
              "8       NaN  Manual            NaN            NaN             NaN     Rubber   \n",
              "\n",
              "  Undercarriage_Pad_Width         Stick_Length                Thumb  \\\n",
              "8     None or Unspecified  None or Unspecified  None or Unspecified   \n",
              "\n",
              "       Pattern_Changer Grouser_Type Backhoe_Mounting Blade_Type  \\\n",
              "8  None or Unspecified       Double              NaN        NaN   \n",
              "\n",
              "  Travel_Controls Differential_Type Steering_Controls  saleYear  saleMonth  \\\n",
              "8             NaN               NaN               NaN      2009          8   \n",
              "\n",
              "   saleWeek  saleDay  saleDayofweek  saleDayofyear  saleIs_month_end  \\\n",
              "8        35       27              3            239             False   \n",
              "\n",
              "   saleIs_month_start  saleIs_quarter_end  saleIs_quarter_start  \\\n",
              "8               False               False                 False   \n",
              "\n",
              "   saleIs_year_end  saleIs_year_start   saleElapsed  \n",
              "8            False              False  1.251331e+09  "
            ],
            "text/html": [
              "\n",
              "  <div id=\"df-667cc4b6-12b6-4bd4-81d2-f96bebcec737\">\n",
              "    <div class=\"colab-df-container\">\n",
              "      <div>\n",
              "<style scoped>\n",
              "    .dataframe tbody tr th:only-of-type {\n",
              "        vertical-align: middle;\n",
              "    }\n",
              "\n",
              "    .dataframe tbody tr th {\n",
              "        vertical-align: top;\n",
              "    }\n",
              "\n",
              "    .dataframe thead th {\n",
              "        text-align: right;\n",
              "    }\n",
              "</style>\n",
              "<table border=\"1\" class=\"dataframe\">\n",
              "  <thead>\n",
              "    <tr style=\"text-align: right;\">\n",
              "      <th></th>\n",
              "      <th>SalesID</th>\n",
              "      <th>MachineID</th>\n",
              "      <th>ModelID</th>\n",
              "      <th>datasource</th>\n",
              "      <th>auctioneerID</th>\n",
              "      <th>YearMade</th>\n",
              "      <th>MachineHoursCurrentMeter</th>\n",
              "      <th>UsageBand</th>\n",
              "      <th>fiModelDesc</th>\n",
              "      <th>fiBaseModel</th>\n",
              "      <th>fiSecondaryDesc</th>\n",
              "      <th>fiModelSeries</th>\n",
              "      <th>fiModelDescriptor</th>\n",
              "      <th>ProductSize</th>\n",
              "      <th>fiProductClassDesc</th>\n",
              "      <th>state</th>\n",
              "      <th>ProductGroup</th>\n",
              "      <th>ProductGroupDesc</th>\n",
              "      <th>Drive_System</th>\n",
              "      <th>Enclosure</th>\n",
              "      <th>Forks</th>\n",
              "      <th>Pad_Type</th>\n",
              "      <th>Ride_Control</th>\n",
              "      <th>Stick</th>\n",
              "      <th>Transmission</th>\n",
              "      <th>Turbocharged</th>\n",
              "      <th>Blade_Extension</th>\n",
              "      <th>Blade_Width</th>\n",
              "      <th>Enclosure_Type</th>\n",
              "      <th>Engine_Horsepower</th>\n",
              "      <th>Hydraulics</th>\n",
              "      <th>Pushblock</th>\n",
              "      <th>Ripper</th>\n",
              "      <th>Scarifier</th>\n",
              "      <th>Tip_Control</th>\n",
              "      <th>Tire_Size</th>\n",
              "      <th>Coupler</th>\n",
              "      <th>Coupler_System</th>\n",
              "      <th>Grouser_Tracks</th>\n",
              "      <th>Hydraulics_Flow</th>\n",
              "      <th>Track_Type</th>\n",
              "      <th>Undercarriage_Pad_Width</th>\n",
              "      <th>Stick_Length</th>\n",
              "      <th>Thumb</th>\n",
              "      <th>Pattern_Changer</th>\n",
              "      <th>Grouser_Type</th>\n",
              "      <th>Backhoe_Mounting</th>\n",
              "      <th>Blade_Type</th>\n",
              "      <th>Travel_Controls</th>\n",
              "      <th>Differential_Type</th>\n",
              "      <th>Steering_Controls</th>\n",
              "      <th>saleYear</th>\n",
              "      <th>saleMonth</th>\n",
              "      <th>saleWeek</th>\n",
              "      <th>saleDay</th>\n",
              "      <th>saleDayofweek</th>\n",
              "      <th>saleDayofyear</th>\n",
              "      <th>saleIs_month_end</th>\n",
              "      <th>saleIs_month_start</th>\n",
              "      <th>saleIs_quarter_end</th>\n",
              "      <th>saleIs_quarter_start</th>\n",
              "      <th>saleIs_year_end</th>\n",
              "      <th>saleIs_year_start</th>\n",
              "      <th>saleElapsed</th>\n",
              "    </tr>\n",
              "  </thead>\n",
              "  <tbody>\n",
              "    <tr>\n",
              "      <th>8</th>\n",
              "      <td>1139272</td>\n",
              "      <td>1036251</td>\n",
              "      <td>36003</td>\n",
              "      <td>121</td>\n",
              "      <td>3.0</td>\n",
              "      <td>2008</td>\n",
              "      <td>302.0</td>\n",
              "      <td>Low</td>\n",
              "      <td>430HAG</td>\n",
              "      <td>430</td>\n",
              "      <td>HAG</td>\n",
              "      <td>NaN</td>\n",
              "      <td>NaN</td>\n",
              "      <td>Mini</td>\n",
              "      <td>Hydraulic Excavator, Track - 3.0 to 4.0 Metric Tons</td>\n",
              "      <td>Texas</td>\n",
              "      <td>TEX</td>\n",
              "      <td>Track Excavators</td>\n",
              "      <td>NaN</td>\n",
              "      <td>EROPS</td>\n",
              "      <td>NaN</td>\n",
              "      <td>NaN</td>\n",
              "      <td>NaN</td>\n",
              "      <td>NaN</td>\n",
              "      <td>NaN</td>\n",
              "      <td>NaN</td>\n",
              "      <td>NaN</td>\n",
              "      <td>NaN</td>\n",
              "      <td>NaN</td>\n",
              "      <td>NaN</td>\n",
              "      <td>Auxiliary</td>\n",
              "      <td>NaN</td>\n",
              "      <td>NaN</td>\n",
              "      <td>NaN</td>\n",
              "      <td>NaN</td>\n",
              "      <td>NaN</td>\n",
              "      <td>Manual</td>\n",
              "      <td>NaN</td>\n",
              "      <td>NaN</td>\n",
              "      <td>NaN</td>\n",
              "      <td>Rubber</td>\n",
              "      <td>None or Unspecified</td>\n",
              "      <td>None or Unspecified</td>\n",
              "      <td>None or Unspecified</td>\n",
              "      <td>None or Unspecified</td>\n",
              "      <td>Double</td>\n",
              "      <td>NaN</td>\n",
              "      <td>NaN</td>\n",
              "      <td>NaN</td>\n",
              "      <td>NaN</td>\n",
              "      <td>NaN</td>\n",
              "      <td>2009</td>\n",
              "      <td>8</td>\n",
              "      <td>35</td>\n",
              "      <td>27</td>\n",
              "      <td>3</td>\n",
              "      <td>239</td>\n",
              "      <td>False</td>\n",
              "      <td>False</td>\n",
              "      <td>False</td>\n",
              "      <td>False</td>\n",
              "      <td>False</td>\n",
              "      <td>False</td>\n",
              "      <td>1.251331e+09</td>\n",
              "    </tr>\n",
              "  </tbody>\n",
              "</table>\n",
              "</div>\n",
              "      <button class=\"colab-df-convert\" onclick=\"convertToInteractive('df-667cc4b6-12b6-4bd4-81d2-f96bebcec737')\"\n",
              "              title=\"Convert this dataframe to an interactive table.\"\n",
              "              style=\"display:none;\">\n",
              "        \n",
              "  <svg xmlns=\"http://www.w3.org/2000/svg\" height=\"24px\"viewBox=\"0 0 24 24\"\n",
              "       width=\"24px\">\n",
              "    <path d=\"M0 0h24v24H0V0z\" fill=\"none\"/>\n",
              "    <path d=\"M18.56 5.44l.94 2.06.94-2.06 2.06-.94-2.06-.94-.94-2.06-.94 2.06-2.06.94zm-11 1L8.5 8.5l.94-2.06 2.06-.94-2.06-.94L8.5 2.5l-.94 2.06-2.06.94zm10 10l.94 2.06.94-2.06 2.06-.94-2.06-.94-.94-2.06-.94 2.06-2.06.94z\"/><path d=\"M17.41 7.96l-1.37-1.37c-.4-.4-.92-.59-1.43-.59-.52 0-1.04.2-1.43.59L10.3 9.45l-7.72 7.72c-.78.78-.78 2.05 0 2.83L4 21.41c.39.39.9.59 1.41.59.51 0 1.02-.2 1.41-.59l7.78-7.78 2.81-2.81c.8-.78.8-2.07 0-2.86zM5.41 20L4 18.59l7.72-7.72 1.47 1.35L5.41 20z\"/>\n",
              "  </svg>\n",
              "      </button>\n",
              "      \n",
              "  <style>\n",
              "    .colab-df-container {\n",
              "      display:flex;\n",
              "      flex-wrap:wrap;\n",
              "      gap: 12px;\n",
              "    }\n",
              "\n",
              "    .colab-df-convert {\n",
              "      background-color: #E8F0FE;\n",
              "      border: none;\n",
              "      border-radius: 50%;\n",
              "      cursor: pointer;\n",
              "      display: none;\n",
              "      fill: #1967D2;\n",
              "      height: 32px;\n",
              "      padding: 0 0 0 0;\n",
              "      width: 32px;\n",
              "    }\n",
              "\n",
              "    .colab-df-convert:hover {\n",
              "      background-color: #E2EBFA;\n",
              "      box-shadow: 0px 1px 2px rgba(60, 64, 67, 0.3), 0px 1px 3px 1px rgba(60, 64, 67, 0.15);\n",
              "      fill: #174EA6;\n",
              "    }\n",
              "\n",
              "    [theme=dark] .colab-df-convert {\n",
              "      background-color: #3B4455;\n",
              "      fill: #D2E3FC;\n",
              "    }\n",
              "\n",
              "    [theme=dark] .colab-df-convert:hover {\n",
              "      background-color: #434B5C;\n",
              "      box-shadow: 0px 1px 3px 1px rgba(0, 0, 0, 0.15);\n",
              "      filter: drop-shadow(0px 1px 2px rgba(0, 0, 0, 0.3));\n",
              "      fill: #FFFFFF;\n",
              "    }\n",
              "  </style>\n",
              "\n",
              "      <script>\n",
              "        const buttonEl =\n",
              "          document.querySelector('#df-667cc4b6-12b6-4bd4-81d2-f96bebcec737 button.colab-df-convert');\n",
              "        buttonEl.style.display =\n",
              "          google.colab.kernel.accessAllowed ? 'block' : 'none';\n",
              "\n",
              "        async function convertToInteractive(key) {\n",
              "          const element = document.querySelector('#df-667cc4b6-12b6-4bd4-81d2-f96bebcec737');\n",
              "          const dataTable =\n",
              "            await google.colab.kernel.invokeFunction('convertToInteractive',\n",
              "                                                     [key], {});\n",
              "          if (!dataTable) return;\n",
              "\n",
              "          const docLinkHtml = 'Like what you see? Visit the ' +\n",
              "            '<a target=\"_blank\" href=https://colab.research.google.com/notebooks/data_table.ipynb>data table notebook</a>'\n",
              "            + ' to learn more about interactive tables.';\n",
              "          element.innerHTML = '';\n",
              "          dataTable['output_type'] = 'display_data';\n",
              "          await google.colab.output.renderOutput(dataTable, element);\n",
              "          const docLink = document.createElement('div');\n",
              "          docLink.innerHTML = docLinkHtml;\n",
              "          element.appendChild(docLink);\n",
              "        }\n",
              "      </script>\n",
              "    </div>\n",
              "  </div>\n",
              "  "
            ]
          },
          "metadata": {},
          "execution_count": 99
        }
      ]
    },
    {
      "cell_type": "code",
      "source": [
        "SalesID1139272=test_df[test_df.SalesID==1139272]"
      ],
      "metadata": {
        "id": "2KhwMnfo2OBD"
      },
      "execution_count": null,
      "outputs": []
    },
    {
      "cell_type": "code",
      "source": [
        "SalesID1139272"
      ],
      "metadata": {
        "colab": {
          "base_uri": "https://localhost:8080/",
          "height": 179
        },
        "id": "prWRSqBk2QFp",
        "outputId": "12fd5ace-ebf4-41a9-ec68-983be43e358f"
      },
      "execution_count": null,
      "outputs": [
        {
          "output_type": "execute_result",
          "data": {
            "text/plain": [
              "   SalesID  MachineID  ModelID  datasource  auctioneerID  YearMade  \\\n",
              "8  1139272    1036251    36003         121           3.0      2008   \n",
              "\n",
              "   MachineHoursCurrentMeter UsageBand fiModelDesc fiBaseModel fiSecondaryDesc  \\\n",
              "8                     302.0       Low      430HAG         430             HAG   \n",
              "\n",
              "  fiModelSeries fiModelDescriptor ProductSize  \\\n",
              "8           NaN               NaN        Mini   \n",
              "\n",
              "                                    fiProductClassDesc  state ProductGroup  \\\n",
              "8  Hydraulic Excavator, Track - 3.0 to 4.0 Metric Tons  Texas          TEX   \n",
              "\n",
              "   ProductGroupDesc Drive_System Enclosure Forks Pad_Type Ride_Control Stick  \\\n",
              "8  Track Excavators          NaN     EROPS   NaN      NaN          NaN   NaN   \n",
              "\n",
              "  Transmission Turbocharged Blade_Extension Blade_Width Enclosure_Type  \\\n",
              "8          NaN          NaN             NaN         NaN            NaN   \n",
              "\n",
              "  Engine_Horsepower Hydraulics Pushblock Ripper Scarifier Tip_Control  \\\n",
              "8               NaN  Auxiliary       NaN    NaN       NaN         NaN   \n",
              "\n",
              "  Tire_Size Coupler Coupler_System Grouser_Tracks Hydraulics_Flow Track_Type  \\\n",
              "8       NaN  Manual            NaN            NaN             NaN     Rubber   \n",
              "\n",
              "  Undercarriage_Pad_Width         Stick_Length                Thumb  \\\n",
              "8     None or Unspecified  None or Unspecified  None or Unspecified   \n",
              "\n",
              "       Pattern_Changer Grouser_Type Backhoe_Mounting Blade_Type  \\\n",
              "8  None or Unspecified       Double              NaN        NaN   \n",
              "\n",
              "  Travel_Controls Differential_Type Steering_Controls  saleYear  saleMonth  \\\n",
              "8             NaN               NaN               NaN      2009          8   \n",
              "\n",
              "   saleWeek  saleDay  saleDayofweek  saleDayofyear  saleIs_month_end  \\\n",
              "8        35       27              3            239             False   \n",
              "\n",
              "   saleIs_month_start  saleIs_quarter_end  saleIs_quarter_start  \\\n",
              "8               False               False                 False   \n",
              "\n",
              "   saleIs_year_end  saleIs_year_start   saleElapsed  \n",
              "8            False              False  1.251331e+09  "
            ],
            "text/html": [
              "\n",
              "  <div id=\"df-6f1fcc6c-b7f6-461d-9208-98acd02fff0c\">\n",
              "    <div class=\"colab-df-container\">\n",
              "      <div>\n",
              "<style scoped>\n",
              "    .dataframe tbody tr th:only-of-type {\n",
              "        vertical-align: middle;\n",
              "    }\n",
              "\n",
              "    .dataframe tbody tr th {\n",
              "        vertical-align: top;\n",
              "    }\n",
              "\n",
              "    .dataframe thead th {\n",
              "        text-align: right;\n",
              "    }\n",
              "</style>\n",
              "<table border=\"1\" class=\"dataframe\">\n",
              "  <thead>\n",
              "    <tr style=\"text-align: right;\">\n",
              "      <th></th>\n",
              "      <th>SalesID</th>\n",
              "      <th>MachineID</th>\n",
              "      <th>ModelID</th>\n",
              "      <th>datasource</th>\n",
              "      <th>auctioneerID</th>\n",
              "      <th>YearMade</th>\n",
              "      <th>MachineHoursCurrentMeter</th>\n",
              "      <th>UsageBand</th>\n",
              "      <th>fiModelDesc</th>\n",
              "      <th>fiBaseModel</th>\n",
              "      <th>fiSecondaryDesc</th>\n",
              "      <th>fiModelSeries</th>\n",
              "      <th>fiModelDescriptor</th>\n",
              "      <th>ProductSize</th>\n",
              "      <th>fiProductClassDesc</th>\n",
              "      <th>state</th>\n",
              "      <th>ProductGroup</th>\n",
              "      <th>ProductGroupDesc</th>\n",
              "      <th>Drive_System</th>\n",
              "      <th>Enclosure</th>\n",
              "      <th>Forks</th>\n",
              "      <th>Pad_Type</th>\n",
              "      <th>Ride_Control</th>\n",
              "      <th>Stick</th>\n",
              "      <th>Transmission</th>\n",
              "      <th>Turbocharged</th>\n",
              "      <th>Blade_Extension</th>\n",
              "      <th>Blade_Width</th>\n",
              "      <th>Enclosure_Type</th>\n",
              "      <th>Engine_Horsepower</th>\n",
              "      <th>Hydraulics</th>\n",
              "      <th>Pushblock</th>\n",
              "      <th>Ripper</th>\n",
              "      <th>Scarifier</th>\n",
              "      <th>Tip_Control</th>\n",
              "      <th>Tire_Size</th>\n",
              "      <th>Coupler</th>\n",
              "      <th>Coupler_System</th>\n",
              "      <th>Grouser_Tracks</th>\n",
              "      <th>Hydraulics_Flow</th>\n",
              "      <th>Track_Type</th>\n",
              "      <th>Undercarriage_Pad_Width</th>\n",
              "      <th>Stick_Length</th>\n",
              "      <th>Thumb</th>\n",
              "      <th>Pattern_Changer</th>\n",
              "      <th>Grouser_Type</th>\n",
              "      <th>Backhoe_Mounting</th>\n",
              "      <th>Blade_Type</th>\n",
              "      <th>Travel_Controls</th>\n",
              "      <th>Differential_Type</th>\n",
              "      <th>Steering_Controls</th>\n",
              "      <th>saleYear</th>\n",
              "      <th>saleMonth</th>\n",
              "      <th>saleWeek</th>\n",
              "      <th>saleDay</th>\n",
              "      <th>saleDayofweek</th>\n",
              "      <th>saleDayofyear</th>\n",
              "      <th>saleIs_month_end</th>\n",
              "      <th>saleIs_month_start</th>\n",
              "      <th>saleIs_quarter_end</th>\n",
              "      <th>saleIs_quarter_start</th>\n",
              "      <th>saleIs_year_end</th>\n",
              "      <th>saleIs_year_start</th>\n",
              "      <th>saleElapsed</th>\n",
              "    </tr>\n",
              "  </thead>\n",
              "  <tbody>\n",
              "    <tr>\n",
              "      <th>8</th>\n",
              "      <td>1139272</td>\n",
              "      <td>1036251</td>\n",
              "      <td>36003</td>\n",
              "      <td>121</td>\n",
              "      <td>3.0</td>\n",
              "      <td>2008</td>\n",
              "      <td>302.0</td>\n",
              "      <td>Low</td>\n",
              "      <td>430HAG</td>\n",
              "      <td>430</td>\n",
              "      <td>HAG</td>\n",
              "      <td>NaN</td>\n",
              "      <td>NaN</td>\n",
              "      <td>Mini</td>\n",
              "      <td>Hydraulic Excavator, Track - 3.0 to 4.0 Metric Tons</td>\n",
              "      <td>Texas</td>\n",
              "      <td>TEX</td>\n",
              "      <td>Track Excavators</td>\n",
              "      <td>NaN</td>\n",
              "      <td>EROPS</td>\n",
              "      <td>NaN</td>\n",
              "      <td>NaN</td>\n",
              "      <td>NaN</td>\n",
              "      <td>NaN</td>\n",
              "      <td>NaN</td>\n",
              "      <td>NaN</td>\n",
              "      <td>NaN</td>\n",
              "      <td>NaN</td>\n",
              "      <td>NaN</td>\n",
              "      <td>NaN</td>\n",
              "      <td>Auxiliary</td>\n",
              "      <td>NaN</td>\n",
              "      <td>NaN</td>\n",
              "      <td>NaN</td>\n",
              "      <td>NaN</td>\n",
              "      <td>NaN</td>\n",
              "      <td>Manual</td>\n",
              "      <td>NaN</td>\n",
              "      <td>NaN</td>\n",
              "      <td>NaN</td>\n",
              "      <td>Rubber</td>\n",
              "      <td>None or Unspecified</td>\n",
              "      <td>None or Unspecified</td>\n",
              "      <td>None or Unspecified</td>\n",
              "      <td>None or Unspecified</td>\n",
              "      <td>Double</td>\n",
              "      <td>NaN</td>\n",
              "      <td>NaN</td>\n",
              "      <td>NaN</td>\n",
              "      <td>NaN</td>\n",
              "      <td>NaN</td>\n",
              "      <td>2009</td>\n",
              "      <td>8</td>\n",
              "      <td>35</td>\n",
              "      <td>27</td>\n",
              "      <td>3</td>\n",
              "      <td>239</td>\n",
              "      <td>False</td>\n",
              "      <td>False</td>\n",
              "      <td>False</td>\n",
              "      <td>False</td>\n",
              "      <td>False</td>\n",
              "      <td>False</td>\n",
              "      <td>1.251331e+09</td>\n",
              "    </tr>\n",
              "  </tbody>\n",
              "</table>\n",
              "</div>\n",
              "      <button class=\"colab-df-convert\" onclick=\"convertToInteractive('df-6f1fcc6c-b7f6-461d-9208-98acd02fff0c')\"\n",
              "              title=\"Convert this dataframe to an interactive table.\"\n",
              "              style=\"display:none;\">\n",
              "        \n",
              "  <svg xmlns=\"http://www.w3.org/2000/svg\" height=\"24px\"viewBox=\"0 0 24 24\"\n",
              "       width=\"24px\">\n",
              "    <path d=\"M0 0h24v24H0V0z\" fill=\"none\"/>\n",
              "    <path d=\"M18.56 5.44l.94 2.06.94-2.06 2.06-.94-2.06-.94-.94-2.06-.94 2.06-2.06.94zm-11 1L8.5 8.5l.94-2.06 2.06-.94-2.06-.94L8.5 2.5l-.94 2.06-2.06.94zm10 10l.94 2.06.94-2.06 2.06-.94-2.06-.94-.94-2.06-.94 2.06-2.06.94z\"/><path d=\"M17.41 7.96l-1.37-1.37c-.4-.4-.92-.59-1.43-.59-.52 0-1.04.2-1.43.59L10.3 9.45l-7.72 7.72c-.78.78-.78 2.05 0 2.83L4 21.41c.39.39.9.59 1.41.59.51 0 1.02-.2 1.41-.59l7.78-7.78 2.81-2.81c.8-.78.8-2.07 0-2.86zM5.41 20L4 18.59l7.72-7.72 1.47 1.35L5.41 20z\"/>\n",
              "  </svg>\n",
              "      </button>\n",
              "      \n",
              "  <style>\n",
              "    .colab-df-container {\n",
              "      display:flex;\n",
              "      flex-wrap:wrap;\n",
              "      gap: 12px;\n",
              "    }\n",
              "\n",
              "    .colab-df-convert {\n",
              "      background-color: #E8F0FE;\n",
              "      border: none;\n",
              "      border-radius: 50%;\n",
              "      cursor: pointer;\n",
              "      display: none;\n",
              "      fill: #1967D2;\n",
              "      height: 32px;\n",
              "      padding: 0 0 0 0;\n",
              "      width: 32px;\n",
              "    }\n",
              "\n",
              "    .colab-df-convert:hover {\n",
              "      background-color: #E2EBFA;\n",
              "      box-shadow: 0px 1px 2px rgba(60, 64, 67, 0.3), 0px 1px 3px 1px rgba(60, 64, 67, 0.15);\n",
              "      fill: #174EA6;\n",
              "    }\n",
              "\n",
              "    [theme=dark] .colab-df-convert {\n",
              "      background-color: #3B4455;\n",
              "      fill: #D2E3FC;\n",
              "    }\n",
              "\n",
              "    [theme=dark] .colab-df-convert:hover {\n",
              "      background-color: #434B5C;\n",
              "      box-shadow: 0px 1px 3px 1px rgba(0, 0, 0, 0.15);\n",
              "      filter: drop-shadow(0px 1px 2px rgba(0, 0, 0, 0.3));\n",
              "      fill: #FFFFFF;\n",
              "    }\n",
              "  </style>\n",
              "\n",
              "      <script>\n",
              "        const buttonEl =\n",
              "          document.querySelector('#df-6f1fcc6c-b7f6-461d-9208-98acd02fff0c button.colab-df-convert');\n",
              "        buttonEl.style.display =\n",
              "          google.colab.kernel.accessAllowed ? 'block' : 'none';\n",
              "\n",
              "        async function convertToInteractive(key) {\n",
              "          const element = document.querySelector('#df-6f1fcc6c-b7f6-461d-9208-98acd02fff0c');\n",
              "          const dataTable =\n",
              "            await google.colab.kernel.invokeFunction('convertToInteractive',\n",
              "                                                     [key], {});\n",
              "          if (!dataTable) return;\n",
              "\n",
              "          const docLinkHtml = 'Like what you see? Visit the ' +\n",
              "            '<a target=\"_blank\" href=https://colab.research.google.com/notebooks/data_table.ipynb>data table notebook</a>'\n",
              "            + ' to learn more about interactive tables.';\n",
              "          element.innerHTML = '';\n",
              "          dataTable['output_type'] = 'display_data';\n",
              "          await google.colab.output.renderOutput(dataTable, element);\n",
              "          const docLink = document.createElement('div');\n",
              "          docLink.innerHTML = docLinkHtml;\n",
              "          element.appendChild(docLink);\n",
              "        }\n",
              "      </script>\n",
              "    </div>\n",
              "  </div>\n",
              "  "
            ]
          },
          "metadata": {},
          "execution_count": 101
        }
      ]
    },
    {
      "cell_type": "code",
      "source": [
        "dl = learn.dls.test_dl(SalesID1139272)"
      ],
      "metadata": {
        "id": "09lMWz-V2Sv5"
      },
      "execution_count": null,
      "outputs": []
    },
    {
      "cell_type": "code",
      "source": [
        "learn.get_preds(dl=dl)"
      ],
      "metadata": {
        "colab": {
          "base_uri": "https://localhost:8080/",
          "height": 36
        },
        "id": "E9CacgLv2Ux9",
        "outputId": "d054cf18-11c8-45da-839f-fb1522ba7b72"
      },
      "execution_count": null,
      "outputs": [
        {
          "output_type": "display_data",
          "data": {
            "text/plain": [
              "<IPython.core.display.HTML object>"
            ],
            "text/html": [
              "\n",
              "<style>\n",
              "    /* Turns off some styling */\n",
              "    progress {\n",
              "        /* gets rid of default border in Firefox and Opera. */\n",
              "        border: none;\n",
              "        /* Needs to be in here for Safari polyfill so background images work as expected. */\n",
              "        background-size: auto;\n",
              "    }\n",
              "    .progress-bar-interrupted, .progress-bar-interrupted::-webkit-progress-bar {\n",
              "        background: #F44336;\n",
              "    }\n",
              "</style>\n"
            ]
          },
          "metadata": {}
        },
        {
          "output_type": "display_data",
          "data": {
            "text/plain": [
              "<IPython.core.display.HTML object>"
            ],
            "text/html": [
              ""
            ]
          },
          "metadata": {}
        },
        {
          "output_type": "execute_result",
          "data": {
            "text/plain": [
              "(tensor([[10.0418]]), None)"
            ]
          },
          "metadata": {},
          "execution_count": 103
        }
      ]
    },
    {
      "cell_type": "code",
      "source": [
        "df_nn[df_nn.SalesID==1139272].SalePrice"
      ],
      "metadata": {
        "colab": {
          "base_uri": "https://localhost:8080/"
        },
        "id": "wgCj3C1n2YHj",
        "outputId": "bfd0936d-5930-4923-9e82-114edfa4cbbc"
      },
      "execution_count": null,
      "outputs": [
        {
          "output_type": "execute_result",
          "data": {
            "text/plain": [
              "8    9.975808\n",
              "Name: SalePrice, dtype: float64"
            ]
          },
          "metadata": {},
          "execution_count": 104
        }
      ]
    },
    {
      "cell_type": "code",
      "source": [
        "SalePrice_emb = learn.model.embeds[3].weight #checking embeddings for Drive_System\n",
        "SalePrice_emb"
      ],
      "metadata": {
        "colab": {
          "base_uri": "https://localhost:8080/"
        },
        "id": "ePMI1Uxr2aL-",
        "outputId": "04d14aba-9636-4420-d287-92afb2df3c36"
      },
      "execution_count": null,
      "outputs": [
        {
          "output_type": "execute_result",
          "data": {
            "text/plain": [
              "Parameter containing:\n",
              "tensor([[-2.7771e-03,  2.0892e-03, -2.0662e-02,  5.3372e-02, -1.3302e-02, -1.5297e-02,  2.1967e-02, -2.9981e-02],\n",
              "        [-3.6627e-02,  2.5940e-02, -3.6176e-02,  1.0579e-02, -3.5422e-02, -3.3954e-02, -1.2142e-03, -4.0179e-02],\n",
              "        [ 2.5681e-02,  2.3264e-02,  9.1657e-03, -1.4978e-02,  1.2479e-02,  1.7794e-02, -2.2639e-05,  3.1134e-02],\n",
              "        [ 1.4117e-02,  1.8946e-02,  9.8250e-03,  1.1775e-02,  1.5727e-02,  1.7149e-02, -2.1581e-02,  3.4299e-02],\n",
              "        [ 3.2328e-02,  2.6384e-02,  2.1680e-02, -1.5840e-02,  6.3921e-03,  1.7465e-02, -3.7442e-02,  3.0170e-02],\n",
              "        [-1.3161e-02,  4.7482e-02, -4.9831e-02, -2.2915e-03,  7.9079e-03,  8.4184e-03, -5.6371e-02,  3.8485e-03],\n",
              "        [ 2.7493e-02, -5.1452e-03,  1.4737e-02, -1.9107e-02,  2.6982e-02,  1.3987e-02, -6.2528e-02,  3.9210e-02],\n",
              "        [-2.8605e-03,  3.4851e-02,  2.7946e-03, -5.7143e-02, -2.1361e-02,  1.0347e-02, -1.6810e-02, -1.3935e-03],\n",
              "        [ 5.4612e-02,  1.8918e-02,  1.5367e-02,  1.2606e-02,  3.0973e-02,  1.0905e-02, -5.5376e-02,  1.7914e-02],\n",
              "        [-2.5571e-03,  5.2774e-02, -9.0271e-03, -1.0723e-02, -1.2703e-02,  1.5097e-02, -3.5830e-02,  3.5117e-02],\n",
              "        [ 4.0028e-02,  3.2435e-02,  3.2975e-02,  2.2550e-02,  6.4086e-02,  3.8550e-02, -6.2826e-02,  4.8886e-02],\n",
              "        [-1.9235e-02,  5.1494e-03, -3.2832e-03, -2.8102e-02,  2.1072e-03, -8.9099e-03, -1.0035e-02, -1.8790e-02],\n",
              "        [ 3.6989e-02,  4.6579e-02, -5.3938e-03,  1.1724e-02,  8.2424e-03, -1.3741e-02, -3.9204e-02,  1.7373e-02],\n",
              "        [ 3.0678e-02,  1.0667e-02,  4.2492e-02,  2.2038e-02,  4.8382e-02,  3.5533e-02, -3.2286e-02,  3.5895e-02],\n",
              "        [ 4.8354e-02,  2.7854e-02, -5.0946e-02,  3.1910e-02,  1.0618e-02, -3.4665e-03, -3.6780e-02,  1.0799e-02],\n",
              "        [ 5.3199e-02,  7.2609e-02,  4.0452e-03,  1.9129e-03,  1.3469e-02, -1.1009e-04, -3.2705e-02, -1.9836e-02],\n",
              "        [ 1.8869e-02,  4.0173e-03, -4.1670e-03,  1.9633e-02,  8.5185e-03, -3.9661e-03, -1.1825e-02,  2.5388e-02],\n",
              "        [ 1.9578e-02, -2.9287e-02,  3.0441e-02,  7.0327e-02,  3.1472e-02,  4.7178e-02,  4.4115e-02,  3.3688e-02]], requires_grad=True)"
            ]
          },
          "metadata": {},
          "execution_count": 105
        }
      ]
    },
    {
      "cell_type": "code",
      "source": [
        "SalePrice_emb.T"
      ],
      "metadata": {
        "colab": {
          "base_uri": "https://localhost:8080/"
        },
        "id": "_wM1TuFN2ci9",
        "outputId": "bc3b4f84-b6b7-4ca8-f050-6b33fcf1bf90"
      },
      "execution_count": null,
      "outputs": [
        {
          "output_type": "execute_result",
          "data": {
            "text/plain": [
              "tensor([[-2.7771e-03, -3.6627e-02,  2.5681e-02,  1.4117e-02,  3.2328e-02, -1.3161e-02,  2.7493e-02, -2.8605e-03,  5.4612e-02, -2.5571e-03,  4.0028e-02, -1.9235e-02,  3.6989e-02,  3.0678e-02,\n",
              "          4.8354e-02,  5.3199e-02,  1.8869e-02,  1.9578e-02],\n",
              "        [ 2.0892e-03,  2.5940e-02,  2.3264e-02,  1.8946e-02,  2.6384e-02,  4.7482e-02, -5.1452e-03,  3.4851e-02,  1.8918e-02,  5.2774e-02,  3.2435e-02,  5.1494e-03,  4.6579e-02,  1.0667e-02,\n",
              "          2.7854e-02,  7.2609e-02,  4.0173e-03, -2.9287e-02],\n",
              "        [-2.0662e-02, -3.6176e-02,  9.1657e-03,  9.8250e-03,  2.1680e-02, -4.9831e-02,  1.4737e-02,  2.7946e-03,  1.5367e-02, -9.0271e-03,  3.2975e-02, -3.2832e-03, -5.3938e-03,  4.2492e-02,\n",
              "         -5.0946e-02,  4.0452e-03, -4.1670e-03,  3.0441e-02],\n",
              "        [ 5.3372e-02,  1.0579e-02, -1.4978e-02,  1.1775e-02, -1.5840e-02, -2.2915e-03, -1.9107e-02, -5.7143e-02,  1.2606e-02, -1.0723e-02,  2.2550e-02, -2.8102e-02,  1.1724e-02,  2.2038e-02,\n",
              "          3.1910e-02,  1.9129e-03,  1.9633e-02,  7.0327e-02],\n",
              "        [-1.3302e-02, -3.5422e-02,  1.2479e-02,  1.5727e-02,  6.3921e-03,  7.9079e-03,  2.6982e-02, -2.1361e-02,  3.0973e-02, -1.2703e-02,  6.4086e-02,  2.1072e-03,  8.2424e-03,  4.8382e-02,\n",
              "          1.0618e-02,  1.3469e-02,  8.5185e-03,  3.1472e-02],\n",
              "        [-1.5297e-02, -3.3954e-02,  1.7794e-02,  1.7149e-02,  1.7465e-02,  8.4184e-03,  1.3987e-02,  1.0347e-02,  1.0905e-02,  1.5097e-02,  3.8550e-02, -8.9099e-03, -1.3741e-02,  3.5533e-02,\n",
              "         -3.4665e-03, -1.1009e-04, -3.9661e-03,  4.7178e-02],\n",
              "        [ 2.1967e-02, -1.2142e-03, -2.2639e-05, -2.1581e-02, -3.7442e-02, -5.6371e-02, -6.2528e-02, -1.6810e-02, -5.5376e-02, -3.5830e-02, -6.2826e-02, -1.0035e-02, -3.9204e-02, -3.2286e-02,\n",
              "         -3.6780e-02, -3.2705e-02, -1.1825e-02,  4.4115e-02],\n",
              "        [-2.9981e-02, -4.0179e-02,  3.1134e-02,  3.4299e-02,  3.0170e-02,  3.8485e-03,  3.9210e-02, -1.3935e-03,  1.7914e-02,  3.5117e-02,  4.8886e-02, -1.8790e-02,  1.7373e-02,  3.5895e-02,\n",
              "          1.0799e-02, -1.9836e-02,  2.5388e-02,  3.3688e-02]], grad_fn=<PermuteBackward0>)"
            ]
          },
          "metadata": {},
          "execution_count": 106
        }
      ]
    },
    {
      "cell_type": "code",
      "source": [
        "SalePrice_emb[1]"
      ],
      "metadata": {
        "colab": {
          "base_uri": "https://localhost:8080/"
        },
        "id": "j93y4dJ-2fQx",
        "outputId": "6ec19a91-05de-4337-cca2-b2fad53cc012"
      },
      "execution_count": null,
      "outputs": [
        {
          "output_type": "execute_result",
          "data": {
            "text/plain": [
              "tensor([-0.0366,  0.0259, -0.0362,  0.0106, -0.0354, -0.0340, -0.0012, -0.0402], grad_fn=<SelectBackward0>)"
            ]
          },
          "metadata": {},
          "execution_count": 107
        }
      ]
    },
    {
      "cell_type": "code",
      "source": [
        "df_nn_final['SalePrice'].unique()"
      ],
      "metadata": {
        "colab": {
          "base_uri": "https://localhost:8080/"
        },
        "id": "5Drveozx2g-W",
        "outputId": "ea941323-ea38-48c2-ac00-9f3cfd989462"
      },
      "execution_count": null,
      "outputs": [
        {
          "output_type": "execute_result",
          "data": {
            "text/plain": [
              "array([11.09741002, 10.95080655,  9.21034037, 10.55841352,  9.30565055, 10.18490001,  9.95227772, 10.20359214,  9.97580821, 11.08214255, 10.08580911, 10.02127059, 10.49127422, 10.32548196,\n",
              "       10.23995979,  9.85219426,  9.51044496,  9.15904708,  9.43348392,  9.35010231, 10.62132735, 10.4487146 , 10.16585182, 11.19821472, 10.40426284,  9.6485953 , 10.87804719, 10.73639668,\n",
              "       11.39639165, 10.83958091,  9.54681261, 10.35774282,  9.82552601,  9.01796848,  9.92818017, 10.57131693, 10.96819829,  8.95544812, 10.37349118,  9.39266193, 11.22524339,  8.61250337,\n",
              "       10.25765937, 10.47728798, 10.30895266,  9.04782144, 10.51867319, 10.04324949,  8.99961934, 10.27505111, 11.53272809, 10.46310334, 10.41930072,  9.61580548, 11.15625052,  8.9226583 ,\n",
              "        9.47270464, 10.69194491, 11.1124479 ,  9.74096862, 10.858999  , 10.81977828, 10.1266311 , 10.14643373,  9.76995616, 11.06663836,  9.680344  , 10.93310697,  8.77955746,  9.87816974,\n",
              "       10.6454249 , 11.32659589, 10.71441777, 10.29214554,  9.79812704,  9.10497986, 10.34174248,  9.17988116,  9.25913054, 10.1064284 , 11.00209984,  9.90348755, 11.36210258,  9.58190393,\n",
              "       10.89673933,  9.99879773, 10.59663473, 11.05089001, 10.22194128, 11.74403719, 10.79957558,  9.71111566, 11.21182037, 11.33857208, 11.45105006, 10.75790288,  8.65695513, 11.01862914,\n",
              "       11.23848862, 11.03488966, 10.70324447, 10.66895539, 10.0647557 , 11.75194237, 10.38899537, 10.77895629, 10.54534144, 11.31447453, 10.4341158 ,  9.18502256, 11.50287513, 11.35040654,\n",
              "       11.17043516, 11.30220443, 11.2515607 , 11.48246626, 11.70354582, 11.59910316,  8.98719682,  8.56598336, 11.04292184,  9.59899836, 11.12726298, 11.1844214 , 11.85651517, 11.44035477,\n",
              "        9.33697302, 10.98529272,  8.69951475, 11.46163217, 11.26446411,  8.74033674,  9.32812341,  8.81729778, 11.14186178, 11.3736634 , 10.82972862,  8.51719319, 10.78931908,  9.37160852,\n",
              "       11.27720313,  9.07680898, 10.91508846, 11.38509209, 11.68687877, 11.37939407, 11.75978554, 11.60823564,  9.28266103, 10.68051622, 11.47210347, 11.29290204, 11.57119437, 11.49272276,\n",
              "        8.85366543, 11.5228758 , 10.65725935, 11.6351431 ,  8.4658999 , 10.86856845, 11.45635511,  9.41328122, 10.63344871,  9.13237883, 11.28978191, 10.50506754, 11.6784399 , 11.40756495,\n",
              "       11.51292546, 10.58405595, 10.53209621,  9.00577321, 11.58988651,  9.03001682, 11.82041016, 11.71177632, 10.76848499,  9.90747957, 11.41861479,  9.63233478, 11.56171563,  9.56451219,\n",
              "       11.69524702,  8.88875675, 11.42954386, 10.98019501, 10.7254676 , 11.64395373, 11.62625415,  9.23503298, 11.71993963, 11.54248427, 11.72803684, 10.97678203, 10.88743693, 10.24067382,\n",
              "       11.61728548, 10.80972795, 10.74720759, 11.0744205 , 11.66992921,  9.83894903, 11.73606902,  9.95702832,  8.79482493, 10.60905725,  9.49175283, 11.63955812, 10.94199592, 11.58058411,\n",
              "       11.55214618, 11.8277362 ,  9.01188943, 11.65268741,  8.59415423, 11.66134547, 10.46538645, 10.37583219, 11.86358234,  8.73230457,  9.69584819, 11.27180886,  9.44145209, 11.81303006,\n",
              "        9.45328655, 10.84933709, 11.39667251,  9.62112464, 11.7872183 , 11.7905572 ,  9.78414079,  8.4763712 ,  9.85639595, 11.8493977 ,  9.03598698,  9.66459564, 11.7829526 ,  9.60238246,\n",
              "        9.75266466, 11.11988288, 11.25803322,  9.13776968, 11.83500896, 10.27849345,  9.29192036, 10.01234196, 10.89209895,  9.36734412, 11.77528973, 10.13459927,  9.4294759 , 10.22484615,\n",
              "        9.38848656,  9.75556742,  8.5754621 , 11.42409425, 11.24504602, 11.05879518,  9.44935727,  9.5287941 , 10.95954023,  9.59994706, 10.90595598, 11.79810441, 11.14908203, 11.76756768,\n",
              "       11.01039864,  9.27799902,  8.5564139 ,  9.96175646, 11.4019939 ,  9.50300999,  9.51782507,  9.05951748,  9.86786037, 11.06272446,  8.68270763,  9.22522898, 10.44144184,  9.94030153,\n",
              "        9.31919478,  9.77565418, 10.0604913 , 10.39206757,  9.39681994, 11.070537  ,  9.36306146,  9.35444072,  9.21930011, 10.13658143, 10.52137225, 11.48760766,  9.0710783 , 11.80559508,\n",
              "        9.26860928,  9.28730141, 11.20504069, 10.41181005,  8.64822145, 11.57590026,  9.51414183,  9.65502619,  8.76405327,  9.86526634,  9.87302835, 11.72399644,  8.49699048,  8.53699582,\n",
              "        9.082507  ,  9.332558  , 10.98189713,  8.93590353,  8.83927669, 11.21215815, 10.99373159, 10.21585004, 11.19134184, 10.15618991,  8.80986281, 10.19428975,  9.37585481,  9.89090877,\n",
              "        9.72615354,  8.63052188, 11.32055357,  9.31470039,  8.71604405, 10.28363485,  9.17471319,  9.81192036,  9.63560811,  9.82010594,  9.08817274, 10.0961719 , 10.03232042,  9.53964412,\n",
              "        8.86785006, 11.10495723,  9.11602969,  9.52515111,  9.42141134,  9.48036751,  9.91591007,  9.2202907 ,  8.99342737,  8.96187901,  9.56801482,  9.48797211,  9.56099724,  8.83200393,\n",
              "        8.82467789,  9.02401079,  9.96411217, 10.24884874,  9.53242387, 10.07533781,  9.19013766, 10.05406041,  9.46498259,  9.41735454,  9.67092478,  9.53604051,  9.23989917,  9.55393008,\n",
              "        9.62575581,  9.98736904,  9.98044859, 10.01009729,  9.29651807,  9.66776522,  9.26388114,  9.66141599,  8.94897561,  8.97461804,  8.48673398,  8.74830491,  8.90245559,  9.12695876,\n",
              "       10.23099112,  9.16951838,  9.69892039,  9.62245002,  9.09380656,  9.14846497, 10.03889219, 10.17542127, 10.11658077,  9.93304635,  9.59560277, 11.50791292,  8.89562963,  9.04192172,\n",
              "        9.20029004,  9.12150916,  9.230143  ,  8.96826881,  9.20532783,  9.15377002,  9.24956109,  9.0653146 ,  9.09940881,  8.97144846,  8.92850782,  9.40096073,  9.42545175,  9.5214948 ,\n",
              "        9.32366906,  9.58877681,  9.45720045,  9.54323479,  9.74683374,  9.57498349,  9.92573816,  9.7350689 ,  9.62905071,  8.90923528,  8.88183631,  8.6911465 ,  9.80917687, 10.30058441,\n",
              "       10.33364527, 11.43496392, 10.69761065, 10.45593485, 11.02679245, 11.13458902, 10.96387863, 11.58524613, 11.53761808, 11.6307085 , 10.2128088 , 11.16336799, 11.3083583 , 11.59450545,\n",
              "       11.71586631,  9.80366722, 10.07744086, 10.24707726,  9.35876038,  8.91596931,  9.19522673,  8.6656132 ,  8.78722033,  9.2447418 ,  9.38429368,  8.65869275,  9.14313162,  9.26908087,\n",
              "        8.60520407,  9.79255599,  9.92329018,  9.90098442, 10.39665824, 10.61521112, 10.62740639, 11.08980542, 10.9241383 , 10.87331905,  9.49551931,  9.90847509,  9.86266556,  9.72663104,\n",
              "        9.64212279, 10.21097225, 10.22918769,  9.60911649,  9.72764496,  9.81465634,  9.68657455, 10.34977466, 10.15812977, 10.365648  , 10.65135963, 10.5118935 , 10.59036512, 10.11050172,\n",
              "       10.26639305, 10.55189884, 10.02570519, 10.31725146,  9.88837391, 10.63825641, 10.52540722, 10.48430555,  9.72913417,  9.39889248,  9.55923513,  9.94750444,  9.97697033,  9.83091686,\n",
              "       10.21464198,  9.69738547,  9.69276652,  9.99652242, 10.90135827, 10.38282251,  9.84161215, 10.57770672,  9.48227409,  9.67407439, 10.12262308, 10.09823163, 10.15424627, 10.53874075,\n",
              "        9.78131992, 11.33260191, 11.60367983, 11.67419361, 11.49781183, 10.99792447, 10.82476583, 11.6483301 , 11.2185544 , 11.69107165, 10.56488603, 11.23188794, 11.75587164, 11.36789969,\n",
              "       11.2708539 , 11.44571672,  9.98506754,  9.94510923, 11.17745273, 10.02459838, 10.80466465, 10.47022081, 11.35627165, 11.2835123 ,  9.40919123,  9.79862691,  9.91343788,  9.89343722,\n",
              "        9.65181592, 11.56646623, 11.41310513, 11.55694235, 10.57643203, 11.29601246, 11.34450681, 11.39075783, 11.68266824,  9.87431618, 11.8313792 , 11.79433792, 10.59162219, 10.49819466,\n",
              "       10.4267357 , 11.10645986, 10.68624689, 10.85417971, 10.71995795, 10.38127332, 10.75256953, 11.38224714, 10.73203937, 11.46688153, 10.67475251,  9.75990582, 10.94552949, 10.79446048,\n",
              "        9.07280096, 11.69940503,  9.27331517,  9.57844969,  9.3079207 ,  9.88328485, 11.18580932, 10.56098165, 11.65702581, 10.453053  , 10.56746336, 10.98104643, 10.60286528, 11.74799759,\n",
              "       11.84222921, 11.31142109, 11.73206099, 10.16392689, 10.00784757, 10.65254237, 10.07323033, 11.13093271, 11.36326469,  9.723164  ,  9.89847501, 10.10744828, 10.08163374,  9.75846178,\n",
              "       10.66312447, 11.03891381, 11.14620019, 11.47729829, 11.46268425, 11.00625785, 11.66564655, 10.76320793, 11.15981559, 10.73094707, 10.71774556, 10.43778553, 10.29552964, 10.2327913 ,\n",
              "       10.51596683, 10.40728856, 11.34154385, 11.51791301,  9.8362788 , 10.94641094,  9.8469172 , 11.38053628, 10.727663  , 10.68223887,  9.34136863, 11.32176496, 11.54732689,  9.73210594,\n",
              "       10.0145816 ,  9.05368656, 10.71663753, 10.56874953, 10.84153978, 10.63945473, 11.04691386,  9.96293501,  9.73802311, 10.22012145, 10.0475879 , 10.33201793, 10.77373435, 10.78415111,\n",
              "       11.77721096, 10.77478092, 11.16690782, 11.32357929, 11.76368418, 10.88275308, 10.05620864, 10.20728901, 10.74181674, 10.52674861, 10.70548914, 11.6127708 , 11.57838544, 11.77143616,\n",
              "       11.41089274, 10.00333289, 10.99959671, 11.17605315, 11.26574534, 11.52781408, 10.91962362, 10.54006438, 10.64304111, 10.43117029,  9.83290413, 10.23369018,  9.7201655 ,  9.49837238,\n",
              "       10.64780302,  8.92930284,  9.77849106,  8.99776577,  9.77491527, 10.37427213,  9.91095957, 10.34093571,  9.64775624,  9.38008315,  9.76422549,  9.28377669,  9.70198318, 10.15521856,\n",
              "        9.0234082 ,  8.50410795,  9.71534911,  9.71715797,  9.38219063, 10.33851146, 10.84836574, 10.70604952,  9.78975879, 10.67011751,  9.20783724,  9.9711462 , 10.86379517, 10.32384127,\n",
              "       10.5941316 ,  9.91837617,  9.85744361, 10.74073508,  8.94246093, 10.08996712,  9.44541249, 10.22557105,  9.81738485, 10.15034763,  9.11052004,  9.96085983,  9.93788898, 11.11542853,\n",
              "       10.97249937, 10.70884672,  9.15967846,  8.62155321,  8.67419694,  8.75621009,  8.98092721,  8.60337089,  8.8607829 ,  8.50714286,  9.46109909,  9.14259672,  8.80237213,  8.87486764,\n",
              "        9.12554472,  9.16429643,  9.29348595,  9.05602301,  8.54675199, 10.37661131,  9.28079884,  8.58485184,  8.77183541,  9.60575514,  9.56261565,  8.66129354,  9.09661161,  8.93748123,\n",
              "        8.51458981,  8.8660174 ,  9.01066918,  9.06242024,  9.0484095 ,  9.19725513, 10.06794211, 10.28874995, 10.54599912, 10.13855967, 10.11354586, 10.43705266, 10.00106788, 10.58088638,\n",
              "        9.78695374, 10.30644953, 10.09203966, 10.27073145,  9.53676227, 10.1952239 ,  9.80438519, 10.79599776, 10.39053265, 10.62010709, 11.26061054, 10.25238231, 10.54796956, 11.05485041,\n",
              "       10.75203463,  9.461877  ,  9.06670092, 10.46809088, 10.78518684, 10.80669304, 10.07006075, 11.40979579, 11.13823202, 10.16535169, 10.35296955, 11.08367983, 11.09968017, 11.21922532,\n",
              "       10.92683736, 11.72298378,  9.96467672,  9.91403177, 10.69421506, 10.89812725, 10.81727515, 10.95474614, 11.24013201, 10.77425777, 10.09410791,  9.81874632,  9.46203251,  9.85482238,\n",
              "       11.23717196, 11.20775808, 10.82774645, 11.01698845, 11.63403629, 11.67504431,  9.87945097, 10.19241884, 10.13062313, 11.03084925,  9.61326893, 10.79137881, 10.91735861, 10.65784742,\n",
              "       11.3991967 , 11.091712  , 11.31325427, 10.58025125, 11.61050579, 11.66607564, 11.19065195, 11.24700488, 11.48965684, 11.03408289, 11.00833039,  9.76594814, 11.78676213,  9.54430948,\n",
              "       11.28727878, 10.99078608, 11.16123806, 10.48290597, 10.44290063, 11.69732819, 10.61888534, 11.23321156, 11.31964407,  9.92695991, 10.88181368, 11.06741931, 10.88556602,  9.67413728,\n",
              "       10.86283777, 10.88837108, 10.83565163, 10.49888408, 10.03897952,  9.12434666,  9.23259098,  9.53784394,  9.0682006 ,  9.88251925,  9.85875166,  9.63069409, 10.20496158, 10.49750477,\n",
              "       10.85851811, 10.28192399,  9.10830765, 10.37903827,  9.46614471,  9.50203937, 11.27403356, 10.85707407, 11.22190449, 10.12966649,  9.70503661,  9.25435726,  9.77451717,  9.80228505,\n",
              "        9.86401881, 10.56617553,  9.58362658,  9.12967247,  9.03121371, 11.48914494, 11.14764215,  9.30109474,  9.90598443, 10.42228135, 11.16867304, 10.83810924, 11.30035087, 10.40653299,\n",
              "       10.66429338, 10.85321306, 11.5302741 , 10.5865844 , 10.60720368, 10.90778916, 10.81476574, 10.7964073 , 11.3509946 ,  9.02038979, 10.16199825, 10.44581184, 11.13604781, 11.21519306,\n",
              "       10.11455852, 10.57387775, 10.77268668, 11.31751867, 11.67078355, 11.28476937, 10.32875529, 11.06819964, 10.63585545, 10.93756132, 11.03327546, 11.04452056, 10.65960953, 10.81376021,\n",
              "        9.96646235, 10.37972173, 10.24352486, 10.74015482, 10.261162  , 10.96992094, 11.08674732, 10.06900199, 10.16969059, 10.19615717, 10.46024211, 10.51053203, 10.45737267, 10.83368119,\n",
              "       11.15910359, 10.14250445, 10.916905  , 10.2646524 ,  9.98966525, 10.43998092, 11.36442546, 11.24373798, 11.84150953, 10.31890299, 11.02841715, 10.39818379, 11.3337988 , 10.47163824,\n",
              "       11.13019984, 10.76426557, 10.53475933, 11.2935249 , 11.03650127, 10.05190756, 10.18111929, 10.35456317, 11.03003921, 10.73856823, 11.09892403, 10.31228045, 10.49957302, 10.94376426,\n",
              "       10.55059079, 10.6237634 , 10.5789798 , 10.99541085, 10.18866649, 10.32219789, 10.67127828, 11.02271913, 10.94022444, 10.61152335, 10.41331268, 10.53741537, 10.01681624, 10.84739345,\n",
              "       10.19988157, 10.59913161])"
            ]
          },
          "metadata": {},
          "execution_count": 108
        }
      ]
    },
    {
      "cell_type": "code",
      "source": [
        "import torch.nn.functional as F\n",
        "F.cosine_similarity(SalePrice_emb[1],SalePrice_emb[3],dim=0)"
      ],
      "metadata": {
        "colab": {
          "base_uri": "https://localhost:8080/"
        },
        "id": "VCPjI4NJ2jO4",
        "outputId": "41339734-f4e3-41b7-afdc-a9670cbd3ea8"
      },
      "execution_count": null,
      "outputs": [
        {
          "output_type": "execute_result",
          "data": {
            "text/plain": [
              "tensor(-0.5831, grad_fn=<DivBackward0>)"
            ]
          },
          "metadata": {},
          "execution_count": 109
        }
      ]
    },
    {
      "cell_type": "code",
      "source": [
        "F.cosine_similarity(SalePrice_emb[1],SalePrice_emb[2],dim=0)"
      ],
      "metadata": {
        "colab": {
          "base_uri": "https://localhost:8080/"
        },
        "id": "2nMgLIlK2lwy",
        "outputId": "ee7b6c78-41ac-45b4-d583-2bc5d68d5975"
      },
      "execution_count": null,
      "outputs": [
        {
          "output_type": "execute_result",
          "data": {
            "text/plain": [
              "tensor(-0.6660, grad_fn=<DivBackward0>)"
            ]
          },
          "metadata": {},
          "execution_count": 110
        }
      ]
    },
    {
      "cell_type": "code",
      "source": [
        "SalePrice_emb"
      ],
      "metadata": {
        "colab": {
          "base_uri": "https://localhost:8080/"
        },
        "id": "tbjpy4rq2nu2",
        "outputId": "3072c9a2-79c3-49e1-d61a-b9dcde8dbc08"
      },
      "execution_count": null,
      "outputs": [
        {
          "output_type": "execute_result",
          "data": {
            "text/plain": [
              "Parameter containing:\n",
              "tensor([[-2.7771e-03,  2.0892e-03, -2.0662e-02,  5.3372e-02, -1.3302e-02, -1.5297e-02,  2.1967e-02, -2.9981e-02],\n",
              "        [-3.6627e-02,  2.5940e-02, -3.6176e-02,  1.0579e-02, -3.5422e-02, -3.3954e-02, -1.2142e-03, -4.0179e-02],\n",
              "        [ 2.5681e-02,  2.3264e-02,  9.1657e-03, -1.4978e-02,  1.2479e-02,  1.7794e-02, -2.2639e-05,  3.1134e-02],\n",
              "        [ 1.4117e-02,  1.8946e-02,  9.8250e-03,  1.1775e-02,  1.5727e-02,  1.7149e-02, -2.1581e-02,  3.4299e-02],\n",
              "        [ 3.2328e-02,  2.6384e-02,  2.1680e-02, -1.5840e-02,  6.3921e-03,  1.7465e-02, -3.7442e-02,  3.0170e-02],\n",
              "        [-1.3161e-02,  4.7482e-02, -4.9831e-02, -2.2915e-03,  7.9079e-03,  8.4184e-03, -5.6371e-02,  3.8485e-03],\n",
              "        [ 2.7493e-02, -5.1452e-03,  1.4737e-02, -1.9107e-02,  2.6982e-02,  1.3987e-02, -6.2528e-02,  3.9210e-02],\n",
              "        [-2.8605e-03,  3.4851e-02,  2.7946e-03, -5.7143e-02, -2.1361e-02,  1.0347e-02, -1.6810e-02, -1.3935e-03],\n",
              "        [ 5.4612e-02,  1.8918e-02,  1.5367e-02,  1.2606e-02,  3.0973e-02,  1.0905e-02, -5.5376e-02,  1.7914e-02],\n",
              "        [-2.5571e-03,  5.2774e-02, -9.0271e-03, -1.0723e-02, -1.2703e-02,  1.5097e-02, -3.5830e-02,  3.5117e-02],\n",
              "        [ 4.0028e-02,  3.2435e-02,  3.2975e-02,  2.2550e-02,  6.4086e-02,  3.8550e-02, -6.2826e-02,  4.8886e-02],\n",
              "        [-1.9235e-02,  5.1494e-03, -3.2832e-03, -2.8102e-02,  2.1072e-03, -8.9099e-03, -1.0035e-02, -1.8790e-02],\n",
              "        [ 3.6989e-02,  4.6579e-02, -5.3938e-03,  1.1724e-02,  8.2424e-03, -1.3741e-02, -3.9204e-02,  1.7373e-02],\n",
              "        [ 3.0678e-02,  1.0667e-02,  4.2492e-02,  2.2038e-02,  4.8382e-02,  3.5533e-02, -3.2286e-02,  3.5895e-02],\n",
              "        [ 4.8354e-02,  2.7854e-02, -5.0946e-02,  3.1910e-02,  1.0618e-02, -3.4665e-03, -3.6780e-02,  1.0799e-02],\n",
              "        [ 5.3199e-02,  7.2609e-02,  4.0452e-03,  1.9129e-03,  1.3469e-02, -1.1009e-04, -3.2705e-02, -1.9836e-02],\n",
              "        [ 1.8869e-02,  4.0173e-03, -4.1670e-03,  1.9633e-02,  8.5185e-03, -3.9661e-03, -1.1825e-02,  2.5388e-02],\n",
              "        [ 1.9578e-02, -2.9287e-02,  3.0441e-02,  7.0327e-02,  3.1472e-02,  4.7178e-02,  4.4115e-02,  3.3688e-02]], requires_grad=True)"
            ]
          },
          "metadata": {},
          "execution_count": 111
        }
      ]
    },
    {
      "cell_type": "code",
      "source": [
        "SalePrice_emb[1]"
      ],
      "metadata": {
        "colab": {
          "base_uri": "https://localhost:8080/"
        },
        "id": "RQ11n6gH2pXV",
        "outputId": "0ecd4723-28bc-4b12-d10d-beb2429479cd"
      },
      "execution_count": null,
      "outputs": [
        {
          "output_type": "execute_result",
          "data": {
            "text/plain": [
              "tensor([-0.0366,  0.0259, -0.0362,  0.0106, -0.0354, -0.0340, -0.0012, -0.0402], grad_fn=<SelectBackward0>)"
            ]
          },
          "metadata": {},
          "execution_count": 112
        }
      ]
    },
    {
      "cell_type": "code",
      "source": [
        "F.cosine_similarity(SalePrice_emb[1],SalePrice_emb[0],dim=0)"
      ],
      "metadata": {
        "colab": {
          "base_uri": "https://localhost:8080/"
        },
        "id": "93BgC27C2rUv",
        "outputId": "3e067e16-513c-486f-c62c-ee417827a73f"
      },
      "execution_count": null,
      "outputs": [
        {
          "output_type": "execute_result",
          "data": {
            "text/plain": [
              "tensor(0.5908, grad_fn=<DivBackward0>)"
            ]
          },
          "metadata": {},
          "execution_count": 113
        }
      ]
    },
    {
      "cell_type": "code",
      "source": [
        "F.cosine_similarity(SalePrice_emb[1],SalePrice_emb[1],dim=0)"
      ],
      "metadata": {
        "colab": {
          "base_uri": "https://localhost:8080/"
        },
        "id": "sIJS_MPz2tlH",
        "outputId": "7308d0bb-0e03-46c5-993e-0165588bdf9b"
      },
      "execution_count": null,
      "outputs": [
        {
          "output_type": "execute_result",
          "data": {
            "text/plain": [
              "tensor(1., grad_fn=<DivBackward0>)"
            ]
          },
          "metadata": {},
          "execution_count": 114
        }
      ]
    },
    {
      "cell_type": "code",
      "source": [
        "F.cosine_similarity(SalePrice_emb[1],SalePrice_emb[2],dim=0)"
      ],
      "metadata": {
        "colab": {
          "base_uri": "https://localhost:8080/"
        },
        "id": "UU04C6j72wCk",
        "outputId": "2d282248-66c5-4f8d-cf7f-2e7ee77191ba"
      },
      "execution_count": null,
      "outputs": [
        {
          "output_type": "execute_result",
          "data": {
            "text/plain": [
              "tensor(-0.6660, grad_fn=<DivBackward0>)"
            ]
          },
          "metadata": {},
          "execution_count": 115
        }
      ]
    },
    {
      "cell_type": "code",
      "source": [
        "F.cosine_similarity(SalePrice_emb[1],SalePrice_emb[3],dim=0)"
      ],
      "metadata": {
        "colab": {
          "base_uri": "https://localhost:8080/"
        },
        "id": "Ot0OdnFB2yUG",
        "outputId": "069b296e-e692-4b96-d5d5-be17627fe466"
      },
      "execution_count": null,
      "outputs": [
        {
          "output_type": "execute_result",
          "data": {
            "text/plain": [
              "tensor(-0.5831, grad_fn=<DivBackward0>)"
            ]
          },
          "metadata": {},
          "execution_count": 116
        }
      ]
    },
    {
      "cell_type": "code",
      "source": [
        "F.cosine_similarity(SalePrice_emb[1],SalePrice_emb[4],dim=0)"
      ],
      "metadata": {
        "colab": {
          "base_uri": "https://localhost:8080/"
        },
        "id": "-GPVbcmF20YO",
        "outputId": "f2e96101-82e7-40be-9221-625ed743e2ff"
      },
      "execution_count": null,
      "outputs": [
        {
          "output_type": "execute_result",
          "data": {
            "text/plain": [
              "tensor(-0.5563, grad_fn=<DivBackward0>)"
            ]
          },
          "metadata": {},
          "execution_count": 117
        }
      ]
    },
    {
      "cell_type": "code",
      "source": [],
      "metadata": {
        "id": "3qcEEUC922I3"
      },
      "execution_count": null,
      "outputs": []
    },
    {
      "cell_type": "markdown",
      "source": [
        " 'YearMade' - 2008, 'ProductSize' - Mini, 'ModelID' - 36003, and 'Tire_Size' - NaN, SalePrice - 9.975808 for SalesID = 1139272"
      ],
      "metadata": {
        "id": "mpBxCplS4h1C"
      }
    },
    {
      "cell_type": "markdown",
      "source": [
        "**Actual saleprice - 9.975808, predicted saleprice - 9.975808. Prediction is exact!**"
      ],
      "metadata": {
        "id": "YEK47DYqHyxW"
      }
    }
  ]
}