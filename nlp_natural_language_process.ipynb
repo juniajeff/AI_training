{
  "cells": [
    {
      "cell_type": "markdown",
      "metadata": {
        "id": "view-in-github",
        "colab_type": "text"
      },
      "source": [
        "<a href=\"https://colab.research.google.com/github/juniajeff/AI_training/blob/main/nlp_natural_language_process.ipynb\" target=\"_parent\"><img src=\"https://colab.research.google.com/assets/colab-badge.svg\" alt=\"Open In Colab\"/></a>"
      ]
    },
    {
      "cell_type": "code",
      "execution_count": null,
      "metadata": {
        "colab": {
          "base_uri": "https://localhost:8080/"
        },
        "id": "_LtLe0l4rPmL",
        "outputId": "2827ac67-1c75-4879-debf-899df47dfec9"
      },
      "outputs": [
        {
          "output_type": "stream",
          "name": "stdout",
          "text": [
            "Found existing installation: folium 0.12.1.post1\n",
            "Uninstalling folium-0.12.1.post1:\n",
            "  Would remove:\n",
            "    /usr/local/lib/python3.7/dist-packages/folium-0.12.1.post1.dist-info/*\n",
            "    /usr/local/lib/python3.7/dist-packages/folium/*\n",
            "Proceed (y/n)? \u001b[31mERROR: Operation cancelled by user\u001b[0m\n"
          ]
        }
      ],
      "source": [
        "!pip uninstall folium"
      ]
    },
    {
      "cell_type": "code",
      "execution_count": null,
      "metadata": {
        "colab": {
          "base_uri": "https://localhost:8080/"
        },
        "id": "AoZAORcQrYMt",
        "outputId": "9a52a062-d165-42f6-9477-908a5c63e3c8"
      },
      "outputs": [
        {
          "output_type": "stream",
          "name": "stdout",
          "text": [
            "Looking in indexes: https://pypi.org/simple, https://us-python.pkg.dev/colab-wheels/public/simple/\n",
            "Collecting folium==0.9.1\n",
            "  Downloading folium-0.9.1-py2.py3-none-any.whl (91 kB)\n",
            "\u001b[K     |████████████████████████████████| 91 kB 7.7 MB/s \n",
            "\u001b[?25hRequirement already satisfied: numpy in /usr/local/lib/python3.7/dist-packages (from folium==0.9.1) (1.21.6)\n",
            "Requirement already satisfied: jinja2>=2.9 in /usr/local/lib/python3.7/dist-packages (from folium==0.9.1) (2.11.3)\n",
            "Requirement already satisfied: branca>=0.3.0 in /usr/local/lib/python3.7/dist-packages (from folium==0.9.1) (0.6.0)\n",
            "Requirement already satisfied: requests in /usr/local/lib/python3.7/dist-packages (from folium==0.9.1) (2.23.0)\n",
            "Requirement already satisfied: MarkupSafe>=0.23 in /usr/local/lib/python3.7/dist-packages (from jinja2>=2.9->folium==0.9.1) (2.0.1)\n",
            "Requirement already satisfied: chardet<4,>=3.0.2 in /usr/local/lib/python3.7/dist-packages (from requests->folium==0.9.1) (3.0.4)\n",
            "Requirement already satisfied: urllib3!=1.25.0,!=1.25.1,<1.26,>=1.21.1 in /usr/local/lib/python3.7/dist-packages (from requests->folium==0.9.1) (1.24.3)\n",
            "Requirement already satisfied: certifi>=2017.4.17 in /usr/local/lib/python3.7/dist-packages (from requests->folium==0.9.1) (2022.9.24)\n",
            "Requirement already satisfied: idna<3,>=2.5 in /usr/local/lib/python3.7/dist-packages (from requests->folium==0.9.1) (2.10)\n",
            "Installing collected packages: folium\n",
            "  Attempting uninstall: folium\n",
            "    Found existing installation: folium 0.12.1.post1\n",
            "    Uninstalling folium-0.12.1.post1:\n",
            "      Successfully uninstalled folium-0.12.1.post1\n",
            "Successfully installed folium-0.9.1\n"
          ]
        }
      ],
      "source": [
        "!pip install folium==0.9.1"
      ]
    },
    {
      "cell_type": "code",
      "execution_count": null,
      "metadata": {
        "colab": {
          "base_uri": "https://localhost:8080/"
        },
        "id": "SfcgwQsGqyKn",
        "outputId": "b1f3c6c6-089b-4568-a86f-23a1c2921d9b"
      },
      "outputs": [
        {
          "output_type": "stream",
          "name": "stdout",
          "text": [
            "\u001b[K     |████████████████████████████████| 719 kB 13.7 MB/s \n",
            "\u001b[K     |████████████████████████████████| 451 kB 61.5 MB/s \n",
            "\u001b[K     |████████████████████████████████| 1.3 MB 60.1 MB/s \n",
            "\u001b[K     |████████████████████████████████| 5.5 MB 53.0 MB/s \n",
            "\u001b[K     |████████████████████████████████| 1.6 MB 59.1 MB/s \n",
            "\u001b[K     |████████████████████████████████| 115 kB 73.9 MB/s \n",
            "\u001b[K     |████████████████████████████████| 212 kB 76.4 MB/s \n",
            "\u001b[K     |████████████████████████████████| 182 kB 72.8 MB/s \n",
            "\u001b[K     |████████████████████████████████| 127 kB 75.3 MB/s \n",
            "\u001b[K     |████████████████████████████████| 7.6 MB 5.0 MB/s \n",
            "\u001b[?25hMounted at /content/gdrive\n"
          ]
        }
      ],
      "source": [
        "!pip install -Uqq fastbook\n",
        "import fastbook\n",
        "fastbook.setup_book()"
      ]
    },
    {
      "cell_type": "code",
      "execution_count": null,
      "metadata": {
        "id": "CKMLxEikq8ER"
      },
      "outputs": [],
      "source": [
        "from fastbook import *\n",
        "from IPython.display import display,HTML"
      ]
    },
    {
      "cell_type": "markdown",
      "metadata": {
        "id": "WDkKkqtkrB1S"
      },
      "source": [
        "Word Tokenization with fastai"
      ]
    },
    {
      "cell_type": "code",
      "execution_count": null,
      "metadata": {
        "colab": {
          "base_uri": "https://localhost:8080/",
          "height": 38
        },
        "id": "mP0_A5qKq-Vy",
        "outputId": "6f3b0597-b34b-4103-bc04-45c2e4c74e46"
      },
      "outputs": [
        {
          "output_type": "display_data",
          "data": {
            "text/plain": [
              "<IPython.core.display.HTML object>"
            ],
            "text/html": [
              "\n",
              "<style>\n",
              "    /* Turns off some styling */\n",
              "    progress {\n",
              "        /* gets rid of default border in Firefox and Opera. */\n",
              "        border: none;\n",
              "        /* Needs to be in here for Safari polyfill so background images work as expected. */\n",
              "        background-size: auto;\n",
              "    }\n",
              "    progress:not([value]), progress:not([value])::-webkit-progress-bar {\n",
              "        background: repeating-linear-gradient(45deg, #7e7e7e, #7e7e7e 10px, #5c5c5c 10px, #5c5c5c 20px);\n",
              "    }\n",
              "    .progress-bar-interrupted, .progress-bar-interrupted::-webkit-progress-bar {\n",
              "        background: #F44336;\n",
              "    }\n",
              "</style>\n"
            ]
          },
          "metadata": {}
        },
        {
          "output_type": "display_data",
          "data": {
            "text/plain": [
              "<IPython.core.display.HTML object>"
            ],
            "text/html": [
              "\n",
              "    <div>\n",
              "      <progress value='144441344' class='' max='144440600' style='width:300px; height:20px; vertical-align: middle;'></progress>\n",
              "      100.00% [144441344/144440600 00:04&lt;00:00]\n",
              "    </div>\n",
              "    "
            ]
          },
          "metadata": {}
        }
      ],
      "source": [
        "from fastai.text.all import *\n",
        "path = untar_data(URLs.IMDB)"
      ]
    },
    {
      "cell_type": "code",
      "execution_count": null,
      "metadata": {
        "colab": {
          "base_uri": "https://localhost:8080/",
          "height": 36
        },
        "id": "kaYePshRy7kb",
        "outputId": "c381dc9e-d9ba-4ad8-8af9-ea877d7d6d7d"
      },
      "outputs": [
        {
          "output_type": "execute_result",
          "data": {
            "text/plain": [
              "'https://s3.amazonaws.com/fast-ai-nlp/imdb.tgz'"
            ],
            "application/vnd.google.colaboratory.intrinsic+json": {
              "type": "string"
            }
          },
          "metadata": {},
          "execution_count": 6
        }
      ],
      "source": [
        "URLs.IMDB"
      ]
    },
    {
      "cell_type": "code",
      "execution_count": null,
      "metadata": {
        "colab": {
          "base_uri": "https://localhost:8080/"
        },
        "id": "rjeebWyMzGOl",
        "outputId": "4f132106-1400-4b9f-967a-f33b2549fd7a"
      },
      "outputs": [
        {
          "output_type": "execute_result",
          "data": {
            "text/plain": [
              "(#7) [Path('/root/.fastai/data/imdb/README'),Path('/root/.fastai/data/imdb/train'),Path('/root/.fastai/data/imdb/tmp_lm'),Path('/root/.fastai/data/imdb/imdb.vocab'),Path('/root/.fastai/data/imdb/test'),Path('/root/.fastai/data/imdb/tmp_clas'),Path('/root/.fastai/data/imdb/unsup')]"
            ]
          },
          "metadata": {},
          "execution_count": 7
        }
      ],
      "source": [
        "path.ls()"
      ]
    },
    {
      "cell_type": "code",
      "execution_count": null,
      "metadata": {
        "id": "cAEr67YlzHwT"
      },
      "outputs": [],
      "source": [
        "!cp -r /root/.fastai/data/imdb/ /content/sample_data/"
      ]
    },
    {
      "cell_type": "code",
      "execution_count": null,
      "metadata": {
        "id": "PLlR25JDzJxg"
      },
      "outputs": [],
      "source": [
        "files = get_text_files(path, folders = ['train', 'test', 'unsup'])"
      ]
    },
    {
      "cell_type": "code",
      "execution_count": null,
      "metadata": {
        "colab": {
          "base_uri": "https://localhost:8080/"
        },
        "id": "RsrGUl0OzMVZ",
        "outputId": "2da4d175-b112-409a-ebd7-11b86d2f306b"
      },
      "outputs": [
        {
          "output_type": "execute_result",
          "data": {
            "text/plain": [
              "(#100000) [Path('/root/.fastai/data/imdb/train/neg/1670_1.txt'),Path('/root/.fastai/data/imdb/train/neg/6448_1.txt'),Path('/root/.fastai/data/imdb/train/neg/2586_2.txt'),Path('/root/.fastai/data/imdb/train/neg/2685_2.txt'),Path('/root/.fastai/data/imdb/train/neg/2411_3.txt'),Path('/root/.fastai/data/imdb/train/neg/7530_3.txt'),Path('/root/.fastai/data/imdb/train/neg/5124_1.txt'),Path('/root/.fastai/data/imdb/train/neg/9784_3.txt'),Path('/root/.fastai/data/imdb/train/neg/644_2.txt'),Path('/root/.fastai/data/imdb/train/neg/6680_2.txt')...]"
            ]
          },
          "metadata": {},
          "execution_count": 10
        }
      ],
      "source": [
        "files"
      ]
    },
    {
      "cell_type": "code",
      "execution_count": null,
      "metadata": {
        "colab": {
          "base_uri": "https://localhost:8080/"
        },
        "id": "U2h9myXizN4s",
        "outputId": "d10fb87a-9ba6-490f-dbd0-c158e8bfc176"
      },
      "outputs": [
        {
          "output_type": "execute_result",
          "data": {
            "text/plain": [
              "Path('/root/.fastai/data/imdb/train/neg/1670_1.txt')"
            ]
          },
          "metadata": {},
          "execution_count": 11
        }
      ],
      "source": [
        "files[0]"
      ]
    },
    {
      "cell_type": "code",
      "execution_count": null,
      "metadata": {
        "id": "MwKWUNbCzPTf"
      },
      "outputs": [],
      "source": [
        "txt = files[0].open().read()"
      ]
    },
    {
      "cell_type": "code",
      "execution_count": null,
      "metadata": {
        "colab": {
          "base_uri": "https://localhost:8080/",
          "height": 73
        },
        "id": "fg3_E2gDzRAY",
        "outputId": "165a70f0-286e-4a8b-aca9-575579d74d5f"
      },
      "outputs": [
        {
          "output_type": "execute_result",
          "data": {
            "text/plain": [
              "\"The movie's premise is spooky: a woman gets pregnant when kissed by a stranger in a bar.<br /><br />But as soon as the movie begins, a horrible opening scene establishes that this is a C type Sci-Fi TV movie. It's a big Star Trek and a bit X-files, but more than anything else it's boring.<br /><br />When the movie kicks into action everything is predictable and cliche. It looked more like a 2 parter in a bad Sci-Fi TV series. No suspense and no thrills, but not for a lack of trying. Just a lot of predictable dramatic conflicts between the main characters.<br /><br />Don't waste your time.\""
            ],
            "application/vnd.google.colaboratory.intrinsic+json": {
              "type": "string"
            }
          },
          "metadata": {},
          "execution_count": 13
        }
      ],
      "source": [
        "txt"
      ]
    },
    {
      "cell_type": "code",
      "execution_count": null,
      "metadata": {
        "colab": {
          "base_uri": "https://localhost:8080/",
          "height": 36
        },
        "id": "XixqQtF0zSyS",
        "outputId": "6affe94a-45a9-4971-cc4d-a72c6c56f1df"
      },
      "outputs": [
        {
          "output_type": "execute_result",
          "data": {
            "text/plain": [
              "\"The movie's premise is spooky: a woman gets pregnant when kissed by a stran\""
            ],
            "application/vnd.google.colaboratory.intrinsic+json": {
              "type": "string"
            }
          },
          "metadata": {},
          "execution_count": 14
        }
      ],
      "source": [
        "txt[:75]"
      ]
    },
    {
      "cell_type": "code",
      "execution_count": null,
      "metadata": {
        "id": "SsVBpJ7LzU-5"
      },
      "outputs": [],
      "source": [
        "spacy = WordTokenizer()"
      ]
    },
    {
      "cell_type": "code",
      "execution_count": null,
      "metadata": {
        "colab": {
          "base_uri": "https://localhost:8080/"
        },
        "id": "P_YWPCT2zbKu",
        "outputId": "faf0de31-9afc-4b89-9aae-f666b6d301a0"
      },
      "outputs": [
        {
          "output_type": "execute_result",
          "data": {
            "text/plain": [
              "<generator object SpacyTokenizer.__call__.<locals>.<genexpr> at 0x7f46e47683d0>"
            ]
          },
          "metadata": {},
          "execution_count": 16
        }
      ],
      "source": [
        "spacy([txt])"
      ]
    },
    {
      "cell_type": "code",
      "execution_count": null,
      "metadata": {
        "colab": {
          "base_uri": "https://localhost:8080/"
        },
        "id": "ScnFiqlOzdH_",
        "outputId": "7a84dd64-5c65-44b6-f993-9f8e3b4c6741"
      },
      "outputs": [
        {
          "output_type": "execute_result",
          "data": {
            "text/plain": [
              "(#126) ['The','movie',\"'s\",'premise','is','spooky',':','a','woman','gets'...]"
            ]
          },
          "metadata": {},
          "execution_count": 17
        }
      ],
      "source": [
        "first(spacy([txt])) # feed the data in a form of a list to the tokenizer and pick a first element"
      ]
    },
    {
      "cell_type": "code",
      "execution_count": null,
      "metadata": {
        "colab": {
          "base_uri": "https://localhost:8080/"
        },
        "id": "Oxv1IHTAzf-g",
        "outputId": "651c6c19-07d0-4cf1-93c3-0d86477f8ca7"
      },
      "outputs": [
        {
          "output_type": "execute_result",
          "data": {
            "text/plain": [
              "(#9) ['The','U.S.','dollar','$','1','is','$','1.00','.']"
            ]
          },
          "metadata": {},
          "execution_count": 18
        }
      ],
      "source": [
        "first(spacy(['The U.S. dollar $1 is $1.00.']))"
      ]
    },
    {
      "cell_type": "code",
      "execution_count": null,
      "metadata": {
        "colab": {
          "base_uri": "https://localhost:8080/"
        },
        "id": "oUHC2rX-zh-X",
        "outputId": "e3baae60-b99f-40d3-c8b6-36dcf762b3aa"
      },
      "outputs": [
        {
          "output_type": "stream",
          "name": "stdout",
          "text": [
            "['xxbos', 'xxmaj', 'the', 'movie', \"'s\", 'premise', 'is', 'spooky', ':', 'a', 'woman', 'gets', 'pregnant', 'when', 'kissed', 'by', 'a', 'stranger', 'in', 'a', 'bar', '.', '\\n\\n', 'xxmaj', 'but', 'as', 'soon', 'as', 'the', 'movie', 'begins', ',', 'a', 'horrible', 'opening', 'scene', 'establishes', 'that', 'this', 'is', 'a', 'c', 'type', 'sci', '-', 'fi', 'xxup', 'tv', 'movie', '.', 'xxmaj', 'it', \"'s\", 'a', 'big', 'xxmaj', 'star', 'xxmaj', 'trek', 'and', 'a', 'bit', 'xxmaj', 'x', '-', 'files', ',', 'but', 'more', 'than', 'anything', 'else', 'it', \"'s\", 'boring', '.', '\\n\\n', 'xxmaj', 'when', 'the', 'movie', 'kicks', 'into', 'action', 'everything', 'is', 'predictable', 'and', 'cliche', '.', 'xxmaj', 'it', 'looked', 'more', 'like', 'a', '2', 'parter', 'in', 'a', 'bad', 'sci', '-', 'fi', 'xxup', 'tv', 'series', '.', 'xxmaj', 'no', 'suspense', 'and', 'no', 'thrills', ',', 'but', 'not', 'for', 'a', 'lack', 'of', 'trying', '.', 'xxmaj', 'just', 'a', 'lot', 'of', 'predictable', 'dramatic', 'conflicts', 'between', 'the', 'main', 'characters', '.', '\\n\\n', 'xxmaj', 'do', \"n't\", 'waste', 'your', 'time', '.']\n"
          ]
        }
      ],
      "source": [
        "tkn = Tokenizer(spacy) # A wrapping tokenizer, which adds special tokens\n",
        "print(tkn(txt))"
      ]
    },
    {
      "cell_type": "code",
      "execution_count": null,
      "metadata": {
        "colab": {
          "base_uri": "https://localhost:8080/"
        },
        "id": "K2RS0tgqzxkQ",
        "outputId": "468ad303-8f9a-45c6-f1ab-5697df8b62c5"
      },
      "outputs": [
        {
          "output_type": "execute_result",
          "data": {
            "text/plain": [
              "[<function fastai.text.core.fix_html(x)>,\n",
              " <function fastai.text.core.replace_rep(t)>,\n",
              " <function fastai.text.core.replace_wrep(t)>,\n",
              " <function fastai.text.core.spec_add_spaces(t)>,\n",
              " <function fastai.text.core.rm_useless_spaces(t)>,\n",
              " <function fastai.text.core.replace_all_caps(t)>,\n",
              " <function fastai.text.core.replace_maj(t)>,\n",
              " <function fastai.text.core.lowercase(t, add_bos=True, add_eos=False)>]"
            ]
          },
          "metadata": {},
          "execution_count": 20
        }
      ],
      "source": [
        "defaults.text_proc_rules\n",
        "# fix_html:: Replaces special HTML characters with a readable version (IMDb reviews have quite a few of these)\n",
        "# replace_rep:: Replaces any character repeated three times or more with a special token for repetition (xxrep), the number of times it's repeated, then the character\n",
        "# replace_wrep:: Replaces any word repeated three times or more with a special token for word repetition (xxwrep), the number of times it's repeated, then the word\n",
        "# spec_add_spaces:: Adds spaces around / and #\n",
        "# rm_useless_spaces:: Removes all repetitions of the space character\n",
        "# replace_all_caps:: Lowercases a word written in all caps and adds a special token for all caps (xxup) in front of it\n",
        "# replace_maj:: Lowercases a capitalized word and adds a special token for capitalized (xxmaj) in front of it\n",
        "# lowercase:: Lowercases all text and adds a special token at the beginning (xxbos) and/or the end (xxeos)"
      ]
    },
    {
      "cell_type": "code",
      "execution_count": null,
      "metadata": {
        "colab": {
          "base_uri": "https://localhost:8080/"
        },
        "id": "ICB8qVO2z5vE",
        "outputId": "e615ab66-6dd3-47c1-c9bd-0263cdf7ffc6"
      },
      "outputs": [
        {
          "output_type": "stream",
          "name": "stdout",
          "text": [
            "['xxbos', '©', 'xxmaj', 'fast.ai', 'xxrep', '3', 'w', '.fast.ai', '/', 'xxup', 'index']\n"
          ]
        }
      ],
      "source": [
        "print(tkn('&copy;   Fast.ai www.fast.ai/INDEX'))"
      ]
    },
    {
      "cell_type": "markdown",
      "metadata": {
        "id": "Nr1CFh_Nz-TE"
      },
      "source": [
        "Numericalization with fastai"
      ]
    },
    {
      "cell_type": "code",
      "execution_count": null,
      "metadata": {
        "id": "uKml_VPdz76Q"
      },
      "outputs": [],
      "source": [
        "txts = L(o.open().read() for o in files[:2000]) # take 2,000 reviews"
      ]
    },
    {
      "cell_type": "code",
      "execution_count": null,
      "metadata": {
        "colab": {
          "base_uri": "https://localhost:8080/"
        },
        "id": "VvKlpbPq0Ah4",
        "outputId": "fe383595-66fb-4c92-bff9-b5ebd2af26c4"
      },
      "outputs": [
        {
          "output_type": "execute_result",
          "data": {
            "text/plain": [
              "(#2000) [\"The movie's premise is spooky: a woman gets pregnant when kissed by a stranger in a bar.<br /><br />But as soon as the movie begins, a horrible opening scene establishes that this is a C type Sci-Fi TV movie. It's a big Star Trek and a bit X-files, but more than anything else it's boring.<br /><br />When the movie kicks into action everything is predictable and cliche. It looked more like a 2 parter in a bad Sci-Fi TV series. No suspense and no thrills, but not for a lack of trying. Just a lot of predictable dramatic conflicts between the main characters.<br /><br />Don't waste your time.\",'Creature Unknown is the right word for this movie. Or maybe it should be called Unknown Movie. This movie is a piece of crap right from the beginning. It has a really stupid \"plot,\" really pathetic \"acting,\" and so-so \"special effects.\" <br /><br />Some thirty-something year old \"post-teens\" are trapped in the woods with a mad, reptilian, rubber-suit creature lurking around endlessly. What you get with this movie is a bunch of talk and precious little action. You have girls walking through the woods talking, and then you have guys (with heavy mascara on) walking through the woods talking. The whole thing is so boring!<br /><br />The creature itself is rarely seen throughout most of the movie. When it is shown the picture is distorted to mask the fact that it is a man in a rubber suit, and the movement shows that it is a suit, hence the reason for the blurring and distortion of the image. <br /><br />This is NOT a good movie in ANY since of the word and the ones here who have praised it are most likely the people that were picked up off the street to \"act\" in this truly stupefying movie! Skip this one for certain!','Let\\'s cut to the chase: this movie is softcore pornography marketed for the masses under a name that the studio is milking every last penny out of the American Pie teat. Period.<br /><br />The whole plot (and that shouldn\\'t imply that there\\'s a whole lot to go around) serves as a vehicle to show the audience more boobs and sex scenes.<br /><br />If you\\'re a Tween guy, and you\\'re too squeamish to purchase actual pornography, then this is the movie for you. Otherwise, the movie doesn\\'t have much to offer at all.<br /><br />The acting is sub-par, the character development is virtually non-existent, and the story is a nonsensical knarl of nudity, binge drinking and pranks (none of which are particularly memorable).<br /><br />Go buy real porn if that\\'s what you want to see, and if not, go watch a GOOD movie. Animal House, Kids, or even the original American Pie are all great cinematic works, and all of them contain heavy alcohol use and nudity.<br /><br />\"It\\'s not how much, it\\'s how you use it\"','I have never panned a film on-line, but I felt moved to do so, after seeing this one. One doesn\\'t show up at someone\\'s funeral and say to the bereaved, \"My relatives died, so why should I care about yours?\"<br /><br />Minus the propaganda, there was little, if anything, that could be called \"art.\" As the daughter of deaf parents, I was particularly annoyed by the use of deafness as a gimmick. Any deaf person feeling a vibration of that immensity would likely have investigated, not ignored it.<br /><br />The word \"chutzpah\" comes to mind. As a writer, there are few subjects I would stay away from: the Holocaust is one; this is another. I wish these movie makers had not been so arrogant (and inept).',\"Hood of the living Dead is about a young scientist named Rick who lives with his brother in the town of Oklahoma where drug dealers and prostitutes fill the streets. Then one night, Rick's brother gets shot by a gang driving down the street who fought with him earlier. Desperate, Rick calls his scientist partner to bring over the latest formula they've been working on that brings sick blood cells to health. The formula hasn't been tested on a human, or even a dead body but Rick is determined to bring his brother back to life. He gives the body a double dose of the formula but nothing happens. So Rick calls 911 and the body is carted away only for it to come back to life and feast on human flesh. Now Rick must find his zombie brother before the whole hood is transformed into a neighborhood of the dead. Hood of the living Dead is one piece of trash. The plot is a direct rip off of Resident Evil, the acting is just horrible especially with Rick' s fake crying for his brother, the guns are so fake because every time the weapon is fired it sends sparks out, and the make up is just lame. It's only fake blood covered over the actors face. The zombies are also modified. They run, growl, and must be shot in the heart to die! Zombies should only scuffle, moan, and must be shot in the brain to die! This film is so horrible, the outtakes is the only true good moment of this film. Hood of the Living Dead gets a 3 out of 10, a little entertainment here and there but it only succeeds as a low budget cringe fest.\",'I found this movie boring, monotonous and quite uninteresting with a hurried, shallow \"upbeat\" ending that didn\\'t ring true to the overall story. Following these characters through a weekend of awful events, unfriendly attitudes and bad news just isn\\'t my idea of a watchable, interesting movie and I got very tired of its \"one note\" theme and couldn\\'t wait for it to end--in fact I almost stopped about halfway through. The whole movie just seemed pointless and wandering, and the characters were for the most part depressing and unpleasant, though the acting was good. A small movie with small ambitions and small appeal--sorry, but it just didn\\'t make it with me, and I love good, small films! This one just didn\\'t jell, though I kept watching it hoping and trusting that it would. I was disappointed, especially after two local reviewers put it on their \"Year\\'s 10 Best\" list. I\\'d strongly recommend watching \"The House of Sand\" instead--now there\\'s a good, small film!','I watched this film in youth group, where my otherwise intuitive youth leader and his wife squeed over it. Then some adult couple at a church-related Christmas party misled themselves into giving a copy of this movie to every single family in attendance, and now my household is stuck with the film (though it thankfully still remains in its shrinkwrap). I cried bitter tears over these sad events, and here\\'s why: First off: this film has good intentions, especially if you\\'re a Christian like me. This movie is trying to show that you should put your faith in God and that it\\'ll make your life better. Not so bad, right? Eh. It turns out a be a problem--a big one. This movie was made by a church, so of course every single issue has to be dealt with as tastefully for Christians as possible. It is all black-and-white, no gray areas. God\\'s grace and will in this movie is a predictable thing, and it comes instantly to all those who do His bidding.<br /><br />This is not the God I know. This is not the Christian life I am familiar with. The God I believe in is a powerful and trustworthy God, but He is not one that grants my every wish. I follow Him as best I can, though the going is often hard; yet the football team in this movie finds their humility and self-control a lot easier than anyone should EVER find it. I cannot relate to cardboard cutouts who flip from bad-side to good-side in the course of a few structured movie scenes. And when I DO follow His commandments as laid out in the Bible, I certainly don\\'t find myself showered in blessing as these characters do. The largest of my immediate rewards is knowing that I have done the right thing; everything else comes with long, messy, arduous work.<br /><br />But take the example this movie sets: Grant Taylor coaches the football team at Shiloh Christian school, which has had 6 losing seasons in a row. He may lose his job over it, and he and his wife are low on money as it is. They want a baby, but the doctor tells him he is sterile. Oh, and his car doesn\\'t work. And the boys on his football team are disrespectful to their parents, whiny after their million losses, and bad at kicking field goals. This is sure one rundown community here.<br /><br />But wait, Grant Taylor decides he\\'s going to trust in God for everything! And he passes on his faith to his team. So far, so good. Not for long. As they begin to obey, blessing literally POUR in on them. Suddenly the students stop disrespecting their parents; the school has a big \"revival\"; the team starts winning EVERY game; they even win the grand championship against the hardest team in the league! Coach Taylor\\'s job is reassured; the school gets him a shiny new truck as a present (which, by the way, is the epitome of shallow, fair-weather employers); he gets a raise; his wife (get this) even gets pregnant from his sterile sperm! And that skinny kid manages to kick his first darn field goal right when it really matters!! Wowzers, woot, yay, praise the Lord, etcetera, etcetera!!! ...<br /><br />Yipe. Just YIPE. Nobody in my church has ever experienced Christ in a such a cut-and-dry manner. Yes, there have been miracles aplenty in my family, as well as gifts and creature comforts, and I attribute them to God\\'s grace and lovingkindness. But God isn\\'t some faucet tap that you turn on and off by being good or bad! He is by and large a mystery; His gifts come unexpectedly, often when you think you don\\'t need them but you really do. It\\'s a long, hard slog to the road of fulfillment, and things NEVER turn out the way you thought they would.<br /><br />This movie has good intentions. But because of its supreme shallowness and total escapism, it tanks tremendously to a 1/10. The bad acting and sports movie clichés seem to be mere pimples next to the leprous falsehoods that this movie inadvertently pushes.<br /><br />To all you future churches planning to make a movie: don\\'t be afraid to show REAL life, even you have to add some inconvenient truths into the mix. However much the baser populace is wowed by this cotton candy treat, nobody has learned anything substantial from it. Give us the meat, the bones, the REAL stuff! True life applies to everyone, not just Christians, and that\\'s one aspect \"Facing the Giants\" didn\\'t manage to grasp.',\"Mind, my friends and I saw the movie based off it's title alone. It's cute, though obvious in it's plot and direction-- you know where the movie is going within the first five minutes. My main contention with the plot is that while it remains tolerably consistent, they never explain a lot of the things behind the characters. An alcoholic father, overworked mother, stressed-out sister... that's a bad family, but aside from the occasional mention from the sister, there's not any resolution. I was also confused as to the scene with the bottles... it seemed pretty random.<br /><br />The writing is a secondary concern... the kids weren't bad actors, but their script left a lot to be desired. Unfortunately, what could have been a cute niche movie was pushed aside for a single, blah special effect, lame scripting, and a glaringly obvious plot.\",'We have all been asking ourselves \"why don\\'t they remake the slasher films that were only OK instead of remaking the ones that were great already, that way they can only make it better?\" well with Prom Night they have remade the average but trashy fun 80s Jamie Lee Curtis film and made it even WORSE. Its a paint by numbers slasher film which is clearly trying to attract the young teens (hence no violence etc), the knife in this slasher flick is blunt.The director spends so much time focusing on trying to make the rather attractive killer look somewhat creepy that anything else goes out of the window.The cast who include Britney Snow (who was superb in Hairspray) try their hardest but the material gives them nothing to do but pout and look scared.More annoying is how the death scenes are handled (we will hear the attack but wont see it). It also looks like the only place the knife in this film worked was in the editing suite since the film looks like it has been butchered (im guessing anything remotely scary ended up on the cutting room floor so as not to scare the kids) Yet in pours the money from Americans sending this film to number 1 at the box office!!! Slasher movies are a lot of fun but in Prom Nights case it made me want to download the original.I\\'ve seen scarier OC and Dawsons Creek episodes',\"Wow, what a snoozer. Definately one of bacon's worst films. The bad acting coupled with a formulatic, if not incredulous, script make me yearn for time I wasted on viewing this on cable television back. Not really much I can say about it, a basketball scout gets too attached to the person he's recruiting, who happens to belong to a tribe that happens to be on the verge of war which happens to be decided by (spoiler) a basketball game. Grade: F+\"...]"
            ]
          },
          "metadata": {},
          "execution_count": 23
        }
      ],
      "source": [
        "txts"
      ]
    },
    {
      "cell_type": "code",
      "execution_count": null,
      "metadata": {
        "colab": {
          "base_uri": "https://localhost:8080/",
          "height": 111
        },
        "id": "9IdGhS_Z0B90",
        "outputId": "8b1e4100-aefd-45d6-a128-18c1e14797a5"
      },
      "outputs": [
        {
          "output_type": "execute_result",
          "data": {
            "text/plain": [
              "'Let\\'s cut to the chase: this movie is softcore pornography marketed for the masses under a name that the studio is milking every last penny out of the American Pie teat. Period.<br /><br />The whole plot (and that shouldn\\'t imply that there\\'s a whole lot to go around) serves as a vehicle to show the audience more boobs and sex scenes.<br /><br />If you\\'re a Tween guy, and you\\'re too squeamish to purchase actual pornography, then this is the movie for you. Otherwise, the movie doesn\\'t have much to offer at all.<br /><br />The acting is sub-par, the character development is virtually non-existent, and the story is a nonsensical knarl of nudity, binge drinking and pranks (none of which are particularly memorable).<br /><br />Go buy real porn if that\\'s what you want to see, and if not, go watch a GOOD movie. Animal House, Kids, or even the original American Pie are all great cinematic works, and all of them contain heavy alcohol use and nudity.<br /><br />\"It\\'s not how much, it\\'s how you use it\"'"
            ],
            "application/vnd.google.colaboratory.intrinsic+json": {
              "type": "string"
            }
          },
          "metadata": {},
          "execution_count": 24
        }
      ],
      "source": [
        "txts[2]"
      ]
    },
    {
      "cell_type": "code",
      "execution_count": null,
      "metadata": {
        "colab": {
          "base_uri": "https://localhost:8080/"
        },
        "id": "breJb9CV0DOE",
        "outputId": "25a28738-1035-455f-b089-07cf3ad3469e"
      },
      "outputs": [
        {
          "output_type": "stream",
          "name": "stdout",
          "text": [
            "L.map(self, f, *args, gen=False, **kwargs)\n",
            "Create new `L` with `f` applied to all `items`, passing `args` and `kwargs` to `f`\n",
            "\n",
            "To get a prettier result with hyperlinks to source code and documentation, install nbdev: pip install nbdev\n"
          ]
        }
      ],
      "source": [
        "doc(L.map)"
      ]
    },
    {
      "cell_type": "code",
      "execution_count": null,
      "metadata": {
        "id": "N3tvljQz0EjM"
      },
      "outputs": [],
      "source": [
        "toks200 = txts[:200].map(tkn) #tokenizing 200 reviews"
      ]
    },
    {
      "cell_type": "code",
      "execution_count": null,
      "metadata": {
        "colab": {
          "base_uri": "https://localhost:8080/"
        },
        "id": "WghHGPmU0G3w",
        "outputId": "1fa5f21f-068d-4399-9170-08ba0e2ff9eb"
      },
      "outputs": [
        {
          "output_type": "execute_result",
          "data": {
            "text/plain": [
              "(#233) ['xxbos','xxmaj','let',\"'s\",'cut','to','the','chase',':','this'...]"
            ]
          },
          "metadata": {},
          "execution_count": 27
        }
      ],
      "source": [
        "toks200[2]"
      ]
    },
    {
      "cell_type": "code",
      "execution_count": null,
      "metadata": {
        "colab": {
          "base_uri": "https://localhost:8080/"
        },
        "id": "9-RbaH5K0IvL",
        "outputId": "e0eb70d9-dffe-4efc-e1ac-4d0c33a01f16"
      },
      "outputs": [
        {
          "output_type": "execute_result",
          "data": {
            "text/plain": [
              "(#233) ['xxbos','xxmaj','let',\"'s\",'cut','to','the','chase',':','this'...]"
            ]
          },
          "metadata": {},
          "execution_count": 28
        }
      ],
      "source": [
        "tkn(txts[2])"
      ]
    },
    {
      "cell_type": "code",
      "execution_count": null,
      "metadata": {
        "id": "PH-h-oeR0KEI"
      },
      "outputs": [],
      "source": [
        "num = Numericalize()\n",
        "num.setup(toks200)"
      ]
    },
    {
      "cell_type": "code",
      "execution_count": null,
      "metadata": {
        "colab": {
          "base_uri": "https://localhost:8080/"
        },
        "id": "-bExvFG50Lio",
        "outputId": "0975cadf-beb9-4619-c2bf-6227ce5ebf59"
      },
      "outputs": [
        {
          "output_type": "stream",
          "name": "stdout",
          "text": [
            "Numericalize(self, vocab=None, min_freq=3, max_vocab=60000, special_toks=None)\n",
            "Reversible transform of tokenized texts to numericalized ids\n",
            "\n",
            "To get a prettier result with hyperlinks to source code and documentation, install nbdev: pip install nbdev\n"
          ]
        }
      ],
      "source": [
        "doc(Numericalize)"
      ]
    },
    {
      "cell_type": "code",
      "execution_count": null,
      "metadata": {
        "colab": {
          "base_uri": "https://localhost:8080/"
        },
        "id": "lOkvMN1E0NmW",
        "outputId": "ae7fb804-5616-4b2a-e4d3-f6c1a541d3f1"
      },
      "outputs": [
        {
          "output_type": "execute_result",
          "data": {
            "text/plain": [
              "(['xxunk',\n",
              "  'xxpad',\n",
              "  'xxbos',\n",
              "  'xxeos',\n",
              "  'xxfld',\n",
              "  'xxrep',\n",
              "  'xxwrep',\n",
              "  'xxup',\n",
              "  'xxmaj',\n",
              "  'the',\n",
              "  '.',\n",
              "  ',',\n",
              "  'a',\n",
              "  'and',\n",
              "  'to',\n",
              "  'of',\n",
              "  'is',\n",
              "  'it',\n",
              "  'i',\n",
              "  'in',\n",
              "  'that',\n",
              "  'this',\n",
              "  '\"',\n",
              "  '-',\n",
              "  'movie',\n",
              "  'was',\n",
              "  \"'s\",\n",
              "  '\\n\\n',\n",
              "  'but',\n",
              "  'with',\n",
              "  'for',\n",
              "  'as',\n",
              "  'film',\n",
              "  'you',\n",
              "  \"n't\",\n",
              "  'not',\n",
              "  'on',\n",
              "  'are',\n",
              "  'be',\n",
              "  ')',\n",
              "  'have',\n",
              "  '(',\n",
              "  'he',\n",
              "  'all',\n",
              "  'so',\n",
              "  'they',\n",
              "  'his',\n",
              "  'at',\n",
              "  'one',\n",
              "  'there',\n",
              "  'who',\n",
              "  \"'\",\n",
              "  'like',\n",
              "  'an',\n",
              "  '?',\n",
              "  'about',\n",
              "  'or',\n",
              "  '!',\n",
              "  'by',\n",
              "  'from',\n",
              "  'do',\n",
              "  'has',\n",
              "  'just',\n",
              "  'if',\n",
              "  'out',\n",
              "  'even',\n",
              "  'what',\n",
              "  '…',\n",
              "  'bad',\n",
              "  'no',\n",
              "  'her',\n",
              "  'some',\n",
              "  'were',\n",
              "  'more',\n",
              "  'really',\n",
              "  'their',\n",
              "  'good',\n",
              "  'would',\n",
              "  'time',\n",
              "  'could',\n",
              "  'up',\n",
              "  'can',\n",
              "  ':',\n",
              "  'when',\n",
              "  'did',\n",
              "  'people',\n",
              "  'much',\n",
              "  'had',\n",
              "  'which',\n",
              "  'we',\n",
              "  'me',\n",
              "  'very',\n",
              "  'my',\n",
              "  'only',\n",
              "  'she',\n",
              "  'see',\n",
              "  'get',\n",
              "  'than',\n",
              "  'most',\n",
              "  'does',\n",
              "  'story',\n",
              "  'them',\n",
              "  'how',\n",
              "  'been',\n",
              "  'off',\n",
              "  'too',\n",
              "  'plot',\n",
              "  'any',\n",
              "  'then',\n",
              "  'make',\n",
              "  'other',\n",
              "  'because',\n",
              "  'into',\n",
              "  'being',\n",
              "  'movies',\n",
              "  'way',\n",
              "  'him',\n",
              "  'acting',\n",
              "  'made',\n",
              "  ';',\n",
              "  'will',\n",
              "  'after',\n",
              "  'end',\n",
              "  'first',\n",
              "  'seen',\n",
              "  'why',\n",
              "  'know',\n",
              "  'two',\n",
              "  'ever',\n",
              "  'where',\n",
              "  'well',\n",
              "  'many',\n",
              "  'little',\n",
              "  'also',\n",
              "  'should',\n",
              "  'great',\n",
              "  'say',\n",
              "  '/',\n",
              "  'over',\n",
              "  '3',\n",
              "  'better',\n",
              "  'here',\n",
              "  'anything',\n",
              "  'think',\n",
              "  'go',\n",
              "  'watch',\n",
              "  \"'ve\",\n",
              "  'back',\n",
              "  \"'m\",\n",
              "  'characters',\n",
              "  'its',\n",
              "  'actually',\n",
              "  'something',\n",
              "  'nothing',\n",
              "  'love',\n",
              "  'films',\n",
              "  '--',\n",
              "  'through',\n",
              "  'thing',\n",
              "  'real',\n",
              "  'few',\n",
              "  'these',\n",
              "  'scenes',\n",
              "  \"'re\",\n",
              "  'character',\n",
              "  'never',\n",
              "  'lot',\n",
              "  'scene',\n",
              "  'your',\n",
              "  'old',\n",
              "  'want',\n",
              "  'find',\n",
              "  'best',\n",
              "  'while',\n",
              "  'look',\n",
              "  'seems',\n",
              "  'whole',\n",
              "  'every',\n",
              "  'going',\n",
              "  '*',\n",
              "  'watching',\n",
              "  'new',\n",
              "  'minutes',\n",
              "  'fact',\n",
              "  'man',\n",
              "  'though',\n",
              "  'director',\n",
              "  'show',\n",
              "  '10',\n",
              "  'enough',\n",
              "  'gets',\n",
              "  'action',\n",
              "  'actors',\n",
              "  'those',\n",
              "  'hard',\n",
              "  'saw',\n",
              "  'pretty',\n",
              "  'making',\n",
              "  'funny',\n",
              "  'now',\n",
              "  'things',\n",
              "  'worst',\n",
              "  'might',\n",
              "  'horror',\n",
              "  'mind',\n",
              "  'young',\n",
              "  'life',\n",
              "  'almost',\n",
              "  'same',\n",
              "  'original',\n",
              "  'another',\n",
              "  'down',\n",
              "  'such',\n",
              "  'still',\n",
              "  'long',\n",
              "  'right',\n",
              "  'got',\n",
              "  'thought',\n",
              "  'least',\n",
              "  'reason',\n",
              "  'someone',\n",
              "  'come',\n",
              "  'work',\n",
              "  'take',\n",
              "  'script',\n",
              "  'kind',\n",
              "  'makes',\n",
              "  'without',\n",
              "  'point',\n",
              "  'lack',\n",
              "  'must',\n",
              "  'before',\n",
              "  'believe',\n",
              "  'years',\n",
              "  'again',\n",
              "  'comedy',\n",
              "  'between',\n",
              "  'around',\n",
              "  'quite',\n",
              "  'put',\n",
              "  'instead',\n",
              "  'done',\n",
              "  'cast',\n",
              "  'everything',\n",
              "  'trying',\n",
              "  'sex',\n",
              "  'guy',\n",
              "  'interesting',\n",
              "  'part',\n",
              "  'am',\n",
              "  'having',\n",
              "  'sense',\n",
              "  '2',\n",
              "  'year',\n",
              "  'found',\n",
              "  \"'d\",\n",
              "  'anyone',\n",
              "  'may',\n",
              "  'maybe',\n",
              "  'effects',\n",
              "  'since',\n",
              "  'comes',\n",
              "  'away',\n",
              "  \"'ll\",\n",
              "  'game',\n",
              "  'however',\n",
              "  'children',\n",
              "  '4',\n",
              "  'own',\n",
              "  'woman',\n",
              "  'boring',\n",
              "  'waste',\n",
              "  'low',\n",
              "  'awful',\n",
              "  'sure',\n",
              "  'us',\n",
              "  'either',\n",
              "  'poor',\n",
              "  'looking',\n",
              "  'crap',\n",
              "  'let',\n",
              "  'last',\n",
              "  'human',\n",
              "  'goes',\n",
              "  '5',\n",
              "  'ca',\n",
              "  'tell',\n",
              "  'else',\n",
              "  'course',\n",
              "  'far',\n",
              "  'worse',\n",
              "  'try',\n",
              "  'music',\n",
              "  'probably',\n",
              "  'child',\n",
              "  'decent',\n",
              "  'role',\n",
              "  'big',\n",
              "  'bit',\n",
              "  'special',\n",
              "  'audience',\n",
              "  'person',\n",
              "  'idea',\n",
              "  'everyone',\n",
              "  'rather',\n",
              "  'set',\n",
              "  'wrong',\n",
              "  'less',\n",
              "  'always',\n",
              "  'feel',\n",
              "  'main',\n",
              "  'stupid',\n",
              "  'night',\n",
              "  'zombie',\n",
              "  'small',\n",
              "  'often',\n",
              "  'job',\n",
              "  'yes',\n",
              "  '1',\n",
              "  'next',\n",
              "  'behind',\n",
              "  'writing',\n",
              "  'left',\n",
              "  'death',\n",
              "  'looks',\n",
              "  'hollywood',\n",
              "  'screen',\n",
              "  'times',\n",
              "  'series',\n",
              "  'throughout',\n",
              "  'house',\n",
              "  'kids',\n",
              "  'use',\n",
              "  'seeing',\n",
              "  'dead',\n",
              "  'true',\n",
              "  'budget',\n",
              "  'ending',\n",
              "  'problem',\n",
              "  'yet',\n",
              "  'team',\n",
              "  'give',\n",
              "  'unfortunately',\n",
              "  'played',\n",
              "  'short',\n",
              "  'together',\n",
              "  'actor',\n",
              "  'world',\n",
              "  'our',\n",
              "  'said',\n",
              "  'both',\n",
              "  'terrible',\n",
              "  'hepburn',\n",
              "  '`',\n",
              "  'horrible',\n",
              "  'talk',\n",
              "  'picture',\n",
              "  'daughter',\n",
              "  'shot',\n",
              "  'seemed',\n",
              "  'black',\n",
              "  'certainly',\n",
              "  'need',\n",
              "  'seem',\n",
              "  'obvious',\n",
              "  'takes',\n",
              "  'read',\n",
              "  'ridiculous',\n",
              "  'minute',\n",
              "  'absolutely',\n",
              "  'tries',\n",
              "  'van',\n",
              "  'lost',\n",
              "  'simply',\n",
              "  'performance',\n",
              "  'start',\n",
              "  'star',\n",
              "  'looked',\n",
              "  'called',\n",
              "  'face',\n",
              "  'church',\n",
              "  'god',\n",
              "  'self',\n",
              "  'myself',\n",
              "  'money',\n",
              "  'friends',\n",
              "  'already',\n",
              "  'fun',\n",
              "  'flick',\n",
              "  'wo',\n",
              "  'yourself',\n",
              "  'although',\n",
              "  'dialogue',\n",
              "  'close',\n",
              "  'book',\n",
              "  'guess',\n",
              "  'day',\n",
              "  'exactly',\n",
              "  'attempt',\n",
              "  'sequel',\n",
              "  'three',\n",
              "  'once',\n",
              "  'finally',\n",
              "  'direction',\n",
              "  'wonder',\n",
              "  'playing',\n",
              "  'went',\n",
              "  'worth',\n",
              "  'prison',\n",
              "  'later',\n",
              "  'tv',\n",
              "  'under',\n",
              "  'porn',\n",
              "  'especially',\n",
              "  'zombies',\n",
              "  'run',\n",
              "  'baby',\n",
              "  'place',\n",
              "  'case',\n",
              "  'entire',\n",
              "  'beyond',\n",
              "  'supposed',\n",
              "  'hour',\n",
              "  'until',\n",
              "  'half',\n",
              "  'mean',\n",
              "  'damme',\n",
              "  'second',\n",
              "  'become',\n",
              "  'completely',\n",
              "  'doing',\n",
              "  'cheap',\n",
              "  'thinking',\n",
              "  'women',\n",
              "  'stories',\n",
              "  'alien',\n",
              "  'predictable',\n",
              "  'piece',\n",
              "  'ones',\n",
              "  'american',\n",
              "  'care',\n",
              "  'art',\n",
              "  'living',\n",
              "  'gives',\n",
              "  'recommend',\n",
              "  'watched',\n",
              "  'couple',\n",
              "  'oh',\n",
              "  'turn',\n",
              "  'mother',\n",
              "  'mention',\n",
              "  'killer',\n",
              "  'keep',\n",
              "  'save',\n",
              "  'spent',\n",
              "  'trailer',\n",
              "  'different',\n",
              "  'performances',\n",
              "  'written',\n",
              "  'gore',\n",
              "  'used',\n",
              "  'fans',\n",
              "  'beautiful',\n",
              "  'interest',\n",
              "  'home',\n",
              "  'expect',\n",
              "  'laugh',\n",
              "  'hours',\n",
              "  'pee',\n",
              "  'son',\n",
              "  'pathetic',\n",
              "  'writer',\n",
              "  'brother',\n",
              "  'evil',\n",
              "  'school',\n",
              "  'kid',\n",
              "  'alone',\n",
              "  'father',\n",
              "  'ok',\n",
              "  'war',\n",
              "  'video',\n",
              "  'high',\n",
              "  'hero',\n",
              "  'imagine',\n",
              "  'plays',\n",
              "  'dumb',\n",
              "  'lady',\n",
              "  'saying',\n",
              "  'wants',\n",
              "  'getting',\n",
              "  'earth',\n",
              "  'fine',\n",
              "  'full',\n",
              "  'dvd',\n",
              "  'mess',\n",
              "  'dark',\n",
              "  'barely',\n",
              "  'effort',\n",
              "  'boy',\n",
              "  'production',\n",
              "  'given',\n",
              "  'cut',\n",
              "  'wish',\n",
              "  'town',\n",
              "  'body',\n",
              "  'wait',\n",
              "  'disappointed',\n",
              "  'wife',\n",
              "  'example',\n",
              "  'boys',\n",
              "  'starts',\n",
              "  'based',\n",
              "  'title',\n",
              "  'wow',\n",
              "  'started',\n",
              "  'took',\n",
              "  'order',\n",
              "  'rest',\n",
              "  'men',\n",
              "  'soldiers',\n",
              "  'nice',\n",
              "  'came',\n",
              "  'play',\n",
              "  'actress',\n",
              "  'move',\n",
              "  'recent',\n",
              "  'gave',\n",
              "  'violent',\n",
              "  'upon',\n",
              "  'documentary',\n",
              "  'told',\n",
              "  'jokes',\n",
              "  'joke',\n",
              "  'help',\n",
              "  'heard',\n",
              "  'history',\n",
              "  'military',\n",
              "  'dramatic',\n",
              "  'itself',\n",
              "  'act',\n",
              "  'line',\n",
              "  'scientist',\n",
              "  'bring',\n",
              "  'flesh',\n",
              "  'list',\n",
              "  'turns',\n",
              "  'possible',\n",
              "  'white',\n",
              "  'nobody',\n",
              "  'mystery',\n",
              "  'add',\n",
              "  'stuff',\n",
              "  'within',\n",
              "  'nt',\n",
              "  'nearly',\n",
              "  'basically',\n",
              "  'cinematography',\n",
              "  'king',\n",
              "  'knew',\n",
              "  'top',\n",
              "  'situation',\n",
              "  'comic',\n",
              "  'able',\n",
              "  'possibly',\n",
              "  'feels',\n",
              "  'kill',\n",
              "  'obviously',\n",
              "  'level',\n",
              "  'career',\n",
              "  'hell',\n",
              "  'chance',\n",
              "  'despite',\n",
              "  'coming',\n",
              "  'style',\n",
              "  'becomes',\n",
              "  'rating',\n",
              "  'perhaps',\n",
              "  'imdb',\n",
              "  'u',\n",
              "  'lots',\n",
              "  'strange',\n",
              "  'john',\n",
              "  'middle',\n",
              "  'turned',\n",
              "  'happen',\n",
              "  'fight',\n",
              "  'talent',\n",
              "  'boll',\n",
              "  'seed',\n",
              "  'la',\n",
              "  'word',\n",
              "  'beginning',\n",
              "  'guys',\n",
              "  'shows',\n",
              "  'hence',\n",
              "  'name',\n",
              "  'actual',\n",
              "  'otherwise',\n",
              "  'offer',\n",
              "  'nudity',\n",
              "  'happens',\n",
              "  'lame',\n",
              "  'brain',\n",
              "  'christian',\n",
              "  'faith',\n",
              "  'grace',\n",
              "  'follow',\n",
              "  'sets',\n",
              "  'begin',\n",
              "  'against',\n",
              "  'cute',\n",
              "  'five',\n",
              "  'sister',\n",
              "  'average',\n",
              "  'clearly',\n",
              "  'annoying',\n",
              "  'scary',\n",
              "  'room',\n",
              "  'learn',\n",
              "  'ground',\n",
              "  'comments',\n",
              "  'moments',\n",
              "  'classic',\n",
              "  'difference',\n",
              "  'viewer',\n",
              "  'poorly',\n",
              "  'dull',\n",
              "  'shame',\n",
              "  'girl',\n",
              "  'remember',\n",
              "  'silly',\n",
              "  'open',\n",
              "  'vampires',\n",
              "  'background',\n",
              "  'sort',\n",
              "  'parts',\n",
              "  'complete',\n",
              "  'james',\n",
              "  'except',\n",
              "  'city',\n",
              "  'b',\n",
              "  'managed',\n",
              "  'usually',\n",
              "  'sit',\n",
              "  '&',\n",
              "  'expecting',\n",
              "  'above',\n",
              "  'hope',\n",
              "  'panzram',\n",
              "  'call',\n",
              "  'understand',\n",
              "  'write',\n",
              "  'running',\n",
              "  'live',\n",
              "  'laughing',\n",
              "  'aka',\n",
              "  'gabriel',\n",
              "  'jungle',\n",
              "  'gadget',\n",
              "  'sci',\n",
              "  'fi',\n",
              "  'creature',\n",
              "  'bunch',\n",
              "  'truly',\n",
              "  'felt',\n",
              "  'rick',\n",
              "  'moment',\n",
              "  'events',\n",
              "  'watchable',\n",
              "  'note',\n",
              "  'sorry',\n",
              "  'family',\n",
              "  'sad',\n",
              "  'familiar',\n",
              "  'side',\n",
              "  'decides',\n",
              "  'stop',\n",
              "  'fair',\n",
              "  'total',\n",
              "  'explain',\n",
              "  'violence',\n",
              "  'somewhat',\n",
              "  'episode',\n",
              "  'totally',\n",
              "  'reviews',\n",
              "  'days',\n",
              "  'hand',\n",
              "  'subject',\n",
              "  'normal',\n",
              "  'question',\n",
              "  'talented',\n",
              "  'lazy',\n",
              "  'universal',\n",
              "  'soldier',\n",
              "  'inside',\n",
              "  'matter',\n",
              "  'please',\n",
              "  'stars',\n",
              "  'sequence',\n",
              "  'points',\n",
              "  'outside',\n",
              "  'rent',\n",
              "  'others',\n",
              "  'ability',\n",
              "  'showing',\n",
              "  'contrived',\n",
              "  'thus',\n",
              "  'pace',\n",
              "  'ends',\n",
              "  'several',\n",
              "  'excuse',\n",
              "  'lines',\n",
              "  'peter',\n",
              "  'taken',\n",
              "  'directed',\n",
              "  'ninja',\n",
              "  'fails',\n",
              "  'relief',\n",
              "  'third',\n",
              "  'free',\n",
              "  'avoid',\n",
              "  'meaning',\n",
              "  'himself',\n",
              "  'plus',\n",
              "  'entertaining',\n",
              "  'modern',\n",
              "  'besides',\n",
              "  'pasolini',\n",
              "  'straight',\n",
              "  'o',\n",
              "  'simple',\n",
              "  'merely',\n",
              "  'age',\n",
              "  'laughable',\n",
              "  'version',\n",
              "  'humans',\n",
              "  'elements',\n",
              "  'slow',\n",
              "  'along',\n",
              "  'shots',\n",
              "  'eyes',\n",
              "  'brando',\n",
              "  'disney',\n",
              "  'soon',\n",
              "  'suspense',\n",
              "  'woods',\n",
              "  'shown',\n",
              "  'sub',\n",
              "  'non',\n",
              "  'particularly',\n",
              "  'buy',\n",
              "  'works',\n",
              "  'parents',\n",
              "  'stay',\n",
              "  'lives',\n",
              "  'blood',\n",
              "  's',\n",
              "  'kept',\n",
              "  'group',\n",
              "  'themselves',\n",
              "  'single',\n",
              "  'christians',\n",
              "  'messy',\n",
              "  'effect',\n",
              "  'lee',\n",
              "  'etc',\n",
              "  'creepy',\n",
              "  'number',\n",
              "  'wasted',\n",
              "  'spoiler',\n",
              "  'basic',\n",
              "  'change',\n",
              "  'surprised',\n",
              "  'fan',\n",
              "  'previous',\n",
              "  'review',\n",
              "  'unbelievable',\n",
              "  'forced',\n",
              "  'thriller',\n",
              "  'murder',\n",
              "  'killed',\n",
              "  'jesus',\n",
              "  'crazy',\n",
              "  'whatever',\n",
              "  'ten',\n",
              "  'plenty',\n",
              "  'opinion',\n",
              "  'laughs',\n",
              "  'anyway',\n",
              "  'escape',\n",
              "  'project',\n",
              "  'final',\n",
              "  'reasons',\n",
              "  'atrocious',\n",
              "  'lead',\n",
              "  '\\x85 ',\n",
              "  'planet',\n",
              "  'disappointment',\n",
              "  'somehow',\n",
              "  'rubbish',\n",
              "  'confusing',\n",
              "  'actresses',\n",
              "  'voice',\n",
              "  'casting',\n",
              "  'appears',\n",
              "  'past',\n",
              "  'york',\n",
              "  'weird',\n",
              "  'features',\n",
              "  'brian',\n",
              "  'frankly',\n",
              "  'neither',\n",
              "  'visual',\n",
              "  'falls',\n",
              "  'liked',\n",
              "  'filmed',\n",
              "  'french',\n",
              "  'novel',\n",
              "  'tried',\n",
              "  'logic',\n",
              "  'extremely',\n",
              "  'female',\n",
              "  'closets',\n",
              "  'known',\n",
              "  'jerry',\n",
              "  'whatsoever',\n",
              "  'experience',\n",
              "  'lesser',\n",
              "  'anti',\n",
              "  'sometimes',\n",
              "  'amusing',\n",
              "  'eating',\n",
              "  'flat',\n",
              "  'power',\n",
              "  'reading',\n",
              "  'sounds',\n",
              "  'sound',\n",
              "  'head',\n",
              "  'footage',\n",
              "  'message',\n",
              "  'says',\n",
              "  'brought',\n",
              "  'involved',\n",
              "  'views',\n",
              "  'excellent',\n",
              "  'festival',\n",
              "  'appear',\n",
              "  'trouble',\n",
              "  'seth',\n",
              "  'fall',\n",
              "  'filmmakers',\n",
              "  'members',\n",
              "  'admit',\n",
              "  'tito',\n",
              "  'casa',\n",
              "  'melinda',\n",
              "  'pregnant',\n",
              "  'type',\n",
              "  'mad',\n",
              "  'suit',\n",
              "  'skip',\n",
              "  'studio',\n",
              "  'development',\n",
              "  'none',\n",
              "  'hood',\n",
              "  'fill',\n",
              "  'earlier',\n",
              "  'formula',\n",
              "  'trash',\n",
              "  'rip',\n",
              "  'heart',\n",
              "  'overall',\n",
              "  'following',\n",
              "  'tired',\n",
              "  'pointless',\n",
              "  'finds',\n",
              "  'knowing',\n",
              "  '6',\n",
              "  'car',\n",
              "  'manner',\n",
              "  'afraid',\n",
              "  'remake',\n",
              "  'slasher',\n",
              "  'spends',\n",
              "  'hear',\n",
              "  'editing',\n",
              "  'ended',\n",
              "  'box',\n",
              "  'episodes',\n",
              "  'decided',\n",
              "  'easily',\n",
              "  'understanding',\n",
              "  'unless',\n",
              "  'starring',\n",
              "  'mysterious',\n",
              "  'cheesy',\n",
              "  'flicks',\n",
              "  'reality',\n",
              "  'theater',\n",
              "  'killing',\n",
              "  'hands',\n",
              "  'concept',\n",
              "  '30',\n",
              "  'paper',\n",
              "  'miss',\n",
              "  'apparently',\n",
              "  'figure',\n",
              "  'doubt',\n",
              "  'cat',\n",
              "  'villain',\n",
              "  'dr',\n",
              "  'important',\n",
              "  '20',\n",
              "  'computer',\n",
              "  'stand',\n",
              "  'fool',\n",
              "  'view',\n",
              "  'comment',\n",
              "  'lacks',\n",
              "  'nonsense',\n",
              "  'supporting',\n",
              "  'ms',\n",
              "  'spoilers',\n",
              "  'pit',\n",
              "  'intelligence',\n",
              "  'husband',\n",
              "  'usual',\n",
              "  'mark',\n",
              "  'screenplay',\n",
              "  'relationship',\n",
              "  'leave',\n",
              "  'clear',\n",
              "  'quickly',\n",
              "  'storyline',\n",
              "  'monster',\n",
              "  'male',\n",
              "  'paul',\n",
              "  'plain',\n",
              "  'including',\n",
              "  'late',\n",
              "  'agree',\n",
              "  'humour',\n",
              "  'generous',\n",
              "  'okay',\n",
              "  'bo',\n",
              "  'badly',\n",
              "  'fighting',\n",
              "  'honestly',\n",
              "  'appearance',\n",
              "  'during',\n",
              "  'seriously',\n",
              "  'released',\n",
              "  'wanna',\n",
              "  'tom',\n",
              "  'red',\n",
              "  'failed',\n",
              "  'positive',\n",
              "  'won',\n",
              "  'english',\n",
              "  'society',\n",
              "  'held',\n",
              "  'surely',\n",
              "  'biggest',\n",
              "  'across',\n",
              "  'german',\n",
              "  'finish',\n",
              "  'directors',\n",
              "  'means',\n",
              "  'directing',\n",
              "  'alive',\n",
              "  'situations',\n",
              "  'accept',\n",
              "  'wrote',\n",
              "  'portrayed',\n",
              "  'camera',\n",
              "  'singing',\n",
              "  'stock',\n",
              "  'song',\n",
              "  'dog',\n",
              "  'happened',\n",
              "  'cover',\n",
              "  'generally',\n",
              "  'common',\n",
              "  'taking',\n",
              "  'comedic',\n",
              "  'early',\n",
              "  'exists',\n",
              "  'holes',\n",
              "  'nowhere',\n",
              "  'believes',\n",
              "  'constantly',\n",
              "  'machines',\n",
              "  'dressler',\n",
              "  'audrey',\n",
              "  'depth',\n",
              "  'filled',\n",
              "  'months',\n",
              "  'cinema',\n",
              "  'squad',\n",
              "  'island',\n",
              "  ...],\n",
              " 2040)"
            ]
          },
          "metadata": {},
          "execution_count": 31
        }
      ],
      "source": [
        "num.vocab, len(num.vocab)"
      ]
    },
    {
      "cell_type": "code",
      "execution_count": null,
      "metadata": {
        "colab": {
          "base_uri": "https://localhost:8080/",
          "height": 73
        },
        "id": "tei6JgEs0P0V",
        "outputId": "6addad72-e01d-49af-f41a-7d6351bb8ce5"
      },
      "outputs": [
        {
          "output_type": "execute_result",
          "data": {
            "text/plain": [
              "\"The movie's premise is spooky: a woman gets pregnant when kissed by a stranger in a bar.<br /><br />But as soon as the movie begins, a horrible opening scene establishes that this is a C type Sci-Fi TV movie. It's a big Star Trek and a bit X-files, but more than anything else it's boring.<br /><br />When the movie kicks into action everything is predictable and cliche. It looked more like a 2 parter in a bad Sci-Fi TV series. No suspense and no thrills, but not for a lack of trying. Just a lot of predictable dramatic conflicts between the main characters.<br /><br />Don't waste your time.\""
            ],
            "application/vnd.google.colaboratory.intrinsic+json": {
              "type": "string"
            }
          },
          "metadata": {},
          "execution_count": 32
        }
      ],
      "source": [
        "txt"
      ]
    },
    {
      "cell_type": "code",
      "execution_count": null,
      "metadata": {
        "id": "l0CuGCg_0URH"
      },
      "outputs": [],
      "source": [
        "toks = tkn(txt)"
      ]
    },
    {
      "cell_type": "code",
      "execution_count": null,
      "metadata": {
        "colab": {
          "base_uri": "https://localhost:8080/"
        },
        "id": "Py60HcrT0Vu0",
        "outputId": "ba2727df-8d0a-4c18-bffe-030c88ac5326"
      },
      "outputs": [
        {
          "output_type": "execute_result",
          "data": {
            "text/plain": [
              "(#144) ['xxbos','xxmaj','the','movie',\"'s\",'premise','is','spooky',':','a'...]"
            ]
          },
          "metadata": {},
          "execution_count": 34
        }
      ],
      "source": [
        "toks"
      ]
    },
    {
      "cell_type": "code",
      "execution_count": null,
      "metadata": {
        "colab": {
          "base_uri": "https://localhost:8080/"
        },
        "id": "ow1pN2dw0XCD",
        "outputId": "b89f3664-3482-4ca2-e5db-7fc798164cf0"
      },
      "outputs": [
        {
          "output_type": "execute_result",
          "data": {
            "text/plain": [
              "(TensorText([   2,    8,    9,   24,   26, 1210,   16, 1211,   82,   12,  269,  190,  856,   83,    0,   58,   12,    0,   19,   12,    0,   10,   27,    8,   28,   31,  743,   31,    9,   24, 1212,\n",
              "               11,   12,  354, 1001,  167,    0,   20,   21,   16,   12,    0,  857,  659,   23,  660,    7,  410,   24,   10,    8,   17,   26,   12,  297,    8,  376,    8,    0,   13,   12,  298,\n",
              "                8,    0,   23,    0,   11,   28,   73,   97,  142,  287,   17,   26,  270,   10,   27,    8,   83,    9,   24,    0,  112,  191,  243,   16,  436,   13,    0,   10,    8,   17,  377,\n",
              "               73,   52,   12,  252,    0,   19,   12,   68,  659,   23,  660,    7,  410,  328,   10,    8,   69,  744,   13,   69, 1213,   11,   28,   35,   30,   12,  229,   15,  244,   10,    8,\n",
              "               62,   12,  166,   15,  436,  537,    0,  236,    9,  310,  149,   10,   27,    8,   60,   34,  271,  168,   78,   10]),\n",
              " 144)"
            ]
          },
          "metadata": {},
          "execution_count": 35
        }
      ],
      "source": [
        "num(toks), len(num(toks))"
      ]
    },
    {
      "cell_type": "code",
      "execution_count": null,
      "metadata": {
        "colab": {
          "base_uri": "https://localhost:8080/"
        },
        "id": "3wLtnypp0Ylq",
        "outputId": "0e5572a6-c253-49f0-e52b-40f5ac70fc2c"
      },
      "outputs": [
        {
          "output_type": "execute_result",
          "data": {
            "text/plain": [
              "TensorText([   2,    8,    9,   24,   26, 1210,   16, 1211,   82,   12,  269,  190,  856,   83,    0,   58,   12,    0,   19,   12])"
            ]
          },
          "metadata": {},
          "execution_count": 36
        }
      ],
      "source": [
        "nums_20 = num(toks)[:20]; nums_20"
      ]
    },
    {
      "cell_type": "code",
      "execution_count": null,
      "metadata": {
        "colab": {
          "base_uri": "https://localhost:8080/",
          "height": 36
        },
        "id": "bWaNJiOX0aUm",
        "outputId": "afdc861b-b4c6-47b3-c11f-fa619558ff7f"
      },
      "outputs": [
        {
          "output_type": "execute_result",
          "data": {
            "text/plain": [
              "\"xxbos xxmaj the movie 's premise is spooky : a woman gets pregnant when xxunk by a xxunk in a\""
            ],
            "application/vnd.google.colaboratory.intrinsic+json": {
              "type": "string"
            }
          },
          "metadata": {},
          "execution_count": 37
        }
      ],
      "source": [
        "' '.join(num.vocab[o] for o in nums_20)"
      ]
    },
    {
      "cell_type": "markdown",
      "metadata": {
        "id": "kc-7Y4AH0exs"
      },
      "source": [
        "Putting Our Texts into Batches for a Language Model"
      ]
    },
    {
      "cell_type": "code",
      "execution_count": null,
      "metadata": {
        "colab": {
          "base_uri": "https://localhost:8080/"
        },
        "id": "MlQT4F_n0cZG",
        "outputId": "5cc3418e-72fc-4d3e-d265-57daefccca43"
      },
      "outputs": [
        {
          "output_type": "execute_result",
          "data": {
            "text/plain": [
              "(['In',\n",
              "  'this',\n",
              "  'chapter,',\n",
              "  'we',\n",
              "  'will',\n",
              "  'go',\n",
              "  'back',\n",
              "  'over',\n",
              "  'the',\n",
              "  'example',\n",
              "  'of',\n",
              "  'classifying',\n",
              "  'movie',\n",
              "  'reviews',\n",
              "  'we',\n",
              "  'studied',\n",
              "  'in',\n",
              "  'chapter',\n",
              "  '1',\n",
              "  'and',\n",
              "  'dig',\n",
              "  'deeper',\n",
              "  'under',\n",
              "  'the',\n",
              "  'surface.',\n",
              "  'First',\n",
              "  'we',\n",
              "  'will',\n",
              "  'look',\n",
              "  'at',\n",
              "  'the',\n",
              "  'processing',\n",
              "  'steps',\n",
              "  'necessary',\n",
              "  'to',\n",
              "  'convert',\n",
              "  'text',\n",
              "  'into',\n",
              "  'numbers',\n",
              "  'and',\n",
              "  'how',\n",
              "  'to',\n",
              "  'customize',\n",
              "  'it.',\n",
              "  'By',\n",
              "  'doing',\n",
              "  'this,',\n",
              "  \"we'll\",\n",
              "  'have',\n",
              "  'another',\n",
              "  'example',\n",
              "  'of',\n",
              "  'the',\n",
              "  'PreProcessor',\n",
              "  'used',\n",
              "  'in',\n",
              "  'the',\n",
              "  'data',\n",
              "  'block',\n",
              "  'API.',\n",
              "  'Then',\n",
              "  'we',\n",
              "  'will',\n",
              "  'study',\n",
              "  'how',\n",
              "  'we',\n",
              "  'build',\n",
              "  'a',\n",
              "  'language',\n",
              "  'model',\n",
              "  'and',\n",
              "  'train',\n",
              "  'it',\n",
              "  'for',\n",
              "  'a',\n",
              "  'while.'],\n",
              " 76)"
            ]
          },
          "metadata": {},
          "execution_count": 38
        }
      ],
      "source": [
        "stream = \"In this chapter, we will go back over the example of classifying movie reviews we studied in chapter 1 and dig deeper under the surface. First we will look at the processing steps necessary to convert text into numbers and how to customize it. By doing this, we'll have another example of the PreProcessor used in the data block API.\\nThen we will study how we build a language model and train it for a while.\"\n",
        "splitStream = stream.split()\n",
        "splitStream, len(stream.split())"
      ]
    },
    {
      "cell_type": "code",
      "execution_count": null,
      "metadata": {
        "colab": {
          "base_uri": "https://localhost:8080/"
        },
        "id": "EYdt4LlH0i05",
        "outputId": "f4814030-2afb-4719-e7aa-8c73fd4abe44"
      },
      "outputs": [
        {
          "output_type": "execute_result",
          "data": {
            "text/plain": [
              "((#90) ['xxbos','xxmaj','in','this','chapter',',','we','will','go','back'...],\n",
              " 90)"
            ]
          },
          "metadata": {},
          "execution_count": 39
        }
      ],
      "source": [
        "tokens = tkn(stream)\n",
        "tokens, len(tokens)"
      ]
    },
    {
      "cell_type": "code",
      "execution_count": null,
      "metadata": {
        "colab": {
          "base_uri": "https://localhost:8080/"
        },
        "id": "iIHh88j50lgl",
        "outputId": "a0ee3c36-e21e-4b6d-9f07-342662df6129"
      },
      "outputs": [
        {
          "output_type": "execute_result",
          "data": {
            "text/plain": [
              "((#15) ['xxbos','xxmaj','in','this','chapter',',','we','will','go','back'...],\n",
              " (#15) ['movie','reviews','we','studied','in','chapter','1','and','dig','deeper'...],\n",
              " (#15) ['first','we','will','look','at','the','processing','steps','necessary','to'...],\n",
              " (#15) ['how','to','customize','it','.','xxmaj','by','doing','this',','...],\n",
              " (#15) ['of','the','preprocessor','used','in','the','data','block','xxup','api'...],\n",
              " (#15) ['will','study','how','we','build','a','language','model','and','train'...])"
            ]
          },
          "metadata": {},
          "execution_count": 40
        }
      ],
      "source": [
        "# We will devide the stream into 6 segments. That means, our batch size is 6. \n",
        "# The total length of the stream is 90. So, the length of the segment is 15.\n",
        "tokens[0:15],tokens[15:30],tokens[30:45],tokens[45:60],tokens[60:75],tokens[75:90]"
      ]
    },
    {
      "cell_type": "code",
      "execution_count": null,
      "metadata": {
        "id": "1lKC9kN00oYi"
      },
      "outputs": [],
      "source": [
        "bs,seq_len = 6,15 # breaking the long string of tokens into 6 small segments, and the length of the segment is 15"
      ]
    },
    {
      "cell_type": "code",
      "execution_count": null,
      "metadata": {
        "id": "wU8MolOR0rbL"
      },
      "outputs": [],
      "source": [
        "d_tokens = np.array([tokens[i*seq_len:(i+1)*seq_len] for i in range(bs)]) "
      ]
    },
    {
      "cell_type": "code",
      "execution_count": null,
      "metadata": {
        "colab": {
          "base_uri": "https://localhost:8080/"
        },
        "id": "mCOCDbX80t2a",
        "outputId": "0d6fef4c-5be5-4c56-ffda-be99540e3b71"
      },
      "outputs": [
        {
          "output_type": "execute_result",
          "data": {
            "text/plain": [
              "array([['xxbos', 'xxmaj', 'in', 'this', 'chapter', ',', 'we', 'will', 'go', 'back', 'over', 'the', 'example', 'of', 'classifying'],\n",
              "       ['movie', 'reviews', 'we', 'studied', 'in', 'chapter', '1', 'and', 'dig', 'deeper', 'under', 'the', 'surface', '.', 'xxmaj'],\n",
              "       ['first', 'we', 'will', 'look', 'at', 'the', 'processing', 'steps', 'necessary', 'to', 'convert', 'text', 'into', 'numbers', 'and'],\n",
              "       ['how', 'to', 'customize', 'it', '.', 'xxmaj', 'by', 'doing', 'this', ',', 'we', \"'ll\", 'have', 'another', 'example'],\n",
              "       ['of', 'the', 'preprocessor', 'used', 'in', 'the', 'data', 'block', 'xxup', 'api', '.', '\\n', 'xxmaj', 'then', 'we'],\n",
              "       ['will', 'study', 'how', 'we', 'build', 'a', 'language', 'model', 'and', 'train', 'it', 'for', 'a', 'while', '.']], dtype='<U12')"
            ]
          },
          "metadata": {},
          "execution_count": 43
        }
      ],
      "source": [
        "d_tokens"
      ]
    },
    {
      "cell_type": "code",
      "execution_count": null,
      "metadata": {
        "colab": {
          "base_uri": "https://localhost:8080/",
          "height": 205
        },
        "id": "isL7lsxO0vRY",
        "outputId": "d0a32774-d963-49c2-954b-ccd926226b78"
      },
      "outputs": [
        {
          "output_type": "display_data",
          "data": {
            "text/plain": [
              "<IPython.core.display.HTML object>"
            ],
            "text/html": [
              "<table border=\"1\" class=\"dataframe\">\n",
              "  <tbody>\n",
              "    <tr>\n",
              "      <td>xxbos</td>\n",
              "      <td>xxmaj</td>\n",
              "      <td>in</td>\n",
              "      <td>this</td>\n",
              "      <td>chapter</td>\n",
              "      <td>,</td>\n",
              "      <td>we</td>\n",
              "      <td>will</td>\n",
              "      <td>go</td>\n",
              "      <td>back</td>\n",
              "      <td>over</td>\n",
              "      <td>the</td>\n",
              "      <td>example</td>\n",
              "      <td>of</td>\n",
              "      <td>classifying</td>\n",
              "    </tr>\n",
              "    <tr>\n",
              "      <td>movie</td>\n",
              "      <td>reviews</td>\n",
              "      <td>we</td>\n",
              "      <td>studied</td>\n",
              "      <td>in</td>\n",
              "      <td>chapter</td>\n",
              "      <td>1</td>\n",
              "      <td>and</td>\n",
              "      <td>dig</td>\n",
              "      <td>deeper</td>\n",
              "      <td>under</td>\n",
              "      <td>the</td>\n",
              "      <td>surface</td>\n",
              "      <td>.</td>\n",
              "      <td>xxmaj</td>\n",
              "    </tr>\n",
              "    <tr>\n",
              "      <td>first</td>\n",
              "      <td>we</td>\n",
              "      <td>will</td>\n",
              "      <td>look</td>\n",
              "      <td>at</td>\n",
              "      <td>the</td>\n",
              "      <td>processing</td>\n",
              "      <td>steps</td>\n",
              "      <td>necessary</td>\n",
              "      <td>to</td>\n",
              "      <td>convert</td>\n",
              "      <td>text</td>\n",
              "      <td>into</td>\n",
              "      <td>numbers</td>\n",
              "      <td>and</td>\n",
              "    </tr>\n",
              "    <tr>\n",
              "      <td>how</td>\n",
              "      <td>to</td>\n",
              "      <td>customize</td>\n",
              "      <td>it</td>\n",
              "      <td>.</td>\n",
              "      <td>xxmaj</td>\n",
              "      <td>by</td>\n",
              "      <td>doing</td>\n",
              "      <td>this</td>\n",
              "      <td>,</td>\n",
              "      <td>we</td>\n",
              "      <td>'ll</td>\n",
              "      <td>have</td>\n",
              "      <td>another</td>\n",
              "      <td>example</td>\n",
              "    </tr>\n",
              "    <tr>\n",
              "      <td>of</td>\n",
              "      <td>the</td>\n",
              "      <td>preprocessor</td>\n",
              "      <td>used</td>\n",
              "      <td>in</td>\n",
              "      <td>the</td>\n",
              "      <td>data</td>\n",
              "      <td>block</td>\n",
              "      <td>xxup</td>\n",
              "      <td>api</td>\n",
              "      <td>.</td>\n",
              "      <td>\\n</td>\n",
              "      <td>xxmaj</td>\n",
              "      <td>then</td>\n",
              "      <td>we</td>\n",
              "    </tr>\n",
              "    <tr>\n",
              "      <td>will</td>\n",
              "      <td>study</td>\n",
              "      <td>how</td>\n",
              "      <td>we</td>\n",
              "      <td>build</td>\n",
              "      <td>a</td>\n",
              "      <td>language</td>\n",
              "      <td>model</td>\n",
              "      <td>and</td>\n",
              "      <td>train</td>\n",
              "      <td>it</td>\n",
              "      <td>for</td>\n",
              "      <td>a</td>\n",
              "      <td>while</td>\n",
              "      <td>.</td>\n",
              "    </tr>\n",
              "  </tbody>\n",
              "</table>"
            ]
          },
          "metadata": {}
        }
      ],
      "source": [
        "df = pd.DataFrame(d_tokens)\n",
        "display(HTML(df.to_html(index=False,header=None)))"
      ]
    },
    {
      "cell_type": "markdown",
      "metadata": {
        "id": "29Z41juZ00AE"
      },
      "source": [
        "Language Model Using DataBlock"
      ]
    },
    {
      "cell_type": "code",
      "execution_count": null,
      "metadata": {
        "colab": {
          "base_uri": "https://localhost:8080/",
          "height": 17
        },
        "id": "SDzbV9JO0w_X",
        "outputId": "abbaa86f-d1cb-4d44-aded-572e9fa805c7"
      },
      "outputs": [
        {
          "output_type": "display_data",
          "data": {
            "text/plain": [
              "<IPython.core.display.HTML object>"
            ],
            "text/html": [
              "\n",
              "<style>\n",
              "    /* Turns off some styling */\n",
              "    progress {\n",
              "        /* gets rid of default border in Firefox and Opera. */\n",
              "        border: none;\n",
              "        /* Needs to be in here for Safari polyfill so background images work as expected. */\n",
              "        background-size: auto;\n",
              "    }\n",
              "    progress:not([value]), progress:not([value])::-webkit-progress-bar {\n",
              "        background: repeating-linear-gradient(45deg, #7e7e7e, #7e7e7e 10px, #5c5c5c 10px, #5c5c5c 20px);\n",
              "    }\n",
              "    .progress-bar-interrupted, .progress-bar-interrupted::-webkit-progress-bar {\n",
              "        background: #F44336;\n",
              "    }\n",
              "</style>\n"
            ]
          },
          "metadata": {}
        },
        {
          "output_type": "display_data",
          "data": {
            "text/plain": [
              "<IPython.core.display.HTML object>"
            ],
            "text/html": []
          },
          "metadata": {}
        }
      ],
      "source": [
        "get_imdb = partial(get_text_files, folders=['unsup'])\n",
        "dls_lm = DataBlock(\n",
        "    blocks=TextBlock.from_folder(path, is_lm=True),\n",
        "    get_items=get_imdb, splitter=RandomSplitter(0.1)\n",
        ").dataloaders(path, path=path, bs=16, seq_len=80)"
      ]
    },
    {
      "cell_type": "code",
      "execution_count": null,
      "metadata": {
        "colab": {
          "base_uri": "https://localhost:8080/"
        },
        "id": "uYVAoUns07T-",
        "outputId": "6a1d7a55-07c6-445e-d5eb-f948e97a06df"
      },
      "outputs": [
        {
          "output_type": "execute_result",
          "data": {
            "text/plain": [
              "(['xxunk',\n",
              "  'xxpad',\n",
              "  'xxbos',\n",
              "  'xxeos',\n",
              "  'xxfld',\n",
              "  'xxrep',\n",
              "  'xxwrep',\n",
              "  'xxup',\n",
              "  'xxmaj',\n",
              "  'the',\n",
              "  '.',\n",
              "  ',',\n",
              "  'and',\n",
              "  'a',\n",
              "  'of',\n",
              "  'to',\n",
              "  'is',\n",
              "  'it',\n",
              "  'in',\n",
              "  'i',\n",
              "  'this',\n",
              "  'that',\n",
              "  '\"',\n",
              "  \"'s\",\n",
              "  '-',\n",
              "  'was',\n",
              "  '\\n\\n',\n",
              "  'as',\n",
              "  'with',\n",
              "  'for',\n",
              "  'movie',\n",
              "  'but',\n",
              "  'film',\n",
              "  'you',\n",
              "  ')',\n",
              "  'on',\n",
              "  \"n't\",\n",
              "  '(',\n",
              "  'not',\n",
              "  'are',\n",
              "  'he',\n",
              "  'his',\n",
              "  'have',\n",
              "  'be',\n",
              "  'one',\n",
              "  'all',\n",
              "  'at',\n",
              "  'they',\n",
              "  'by',\n",
              "  'an',\n",
              "  'who',\n",
              "  'from',\n",
              "  'so',\n",
              "  'like',\n",
              "  '!',\n",
              "  'there',\n",
              "  'or',\n",
              "  'just',\n",
              "  'her',\n",
              "  'do',\n",
              "  'about',\n",
              "  'out',\n",
              "  'has',\n",
              "  'if',\n",
              "  \"'\",\n",
              "  'what',\n",
              "  'some',\n",
              "  '?',\n",
              "  'good',\n",
              "  'when',\n",
              "  'more',\n",
              "  'very',\n",
              "  'she',\n",
              "  'up',\n",
              "  'would',\n",
              "  'no',\n",
              "  '…',\n",
              "  'time',\n",
              "  'even',\n",
              "  'my',\n",
              "  'can',\n",
              "  'their',\n",
              "  'which',\n",
              "  'only',\n",
              "  'story',\n",
              "  'really',\n",
              "  'see',\n",
              "  'had',\n",
              "  'were',\n",
              "  'did',\n",
              "  'me',\n",
              "  'well',\n",
              "  'we',\n",
              "  'does',\n",
              "  'than',\n",
              "  'much',\n",
              "  'could',\n",
              "  'bad',\n",
              "  'get',\n",
              "  'been',\n",
              "  ':',\n",
              "  'people',\n",
              "  'other',\n",
              "  'great',\n",
              "  'into',\n",
              "  'also',\n",
              "  'will',\n",
              "  'first',\n",
              "  'because',\n",
              "  'him',\n",
              "  'how',\n",
              "  'most',\n",
              "  'them',\n",
              "  'made',\n",
              "  'make',\n",
              "  'its',\n",
              "  'then',\n",
              "  'way',\n",
              "  'too',\n",
              "  'movies',\n",
              "  'after',\n",
              "  'any',\n",
              "  'characters',\n",
              "  'think',\n",
              "  'character',\n",
              "  '/',\n",
              "  'films',\n",
              "  'watch',\n",
              "  'two',\n",
              "  'being',\n",
              "  'many',\n",
              "  'plot',\n",
              "  'seen',\n",
              "  'never',\n",
              "  'love',\n",
              "  ';',\n",
              "  'where',\n",
              "  'life',\n",
              "  'acting',\n",
              "  'little',\n",
              "  'best',\n",
              "  'know',\n",
              "  'off',\n",
              "  'show',\n",
              "  'over',\n",
              "  'ever',\n",
              "  'man',\n",
              "  'better',\n",
              "  'your',\n",
              "  'end',\n",
              "  'here',\n",
              "  'scene',\n",
              "  'these',\n",
              "  '3',\n",
              "  'still',\n",
              "  'while',\n",
              "  'should',\n",
              "  'why',\n",
              "  'scenes',\n",
              "  'say',\n",
              "  'something',\n",
              "  'go',\n",
              "  \"'ve\",\n",
              "  'such',\n",
              "  'back',\n",
              "  'through',\n",
              "  'real',\n",
              "  'those',\n",
              "  'now',\n",
              "  \"'m\",\n",
              "  'watching',\n",
              "  'thing',\n",
              "  'director',\n",
              "  'actors',\n",
              "  'funny',\n",
              "  'years',\n",
              "  'though',\n",
              "  'another',\n",
              "  'old',\n",
              "  'actually',\n",
              "  'work',\n",
              "  'nothing',\n",
              "  'makes',\n",
              "  '10',\n",
              "  'before',\n",
              "  'going',\n",
              "  'new',\n",
              "  'look',\n",
              "  'find',\n",
              "  'same',\n",
              "  'lot',\n",
              "  '--',\n",
              "  'few',\n",
              "  'every',\n",
              "  'part',\n",
              "  'again',\n",
              "  'world',\n",
              "  'ca',\n",
              "  'cast',\n",
              "  \"'re\",\n",
              "  'things',\n",
              "  'us',\n",
              "  'horror',\n",
              "  '&',\n",
              "  'down',\n",
              "  'want',\n",
              "  'quite',\n",
              "  'pretty',\n",
              "  'got',\n",
              "  'around',\n",
              "  'seems',\n",
              "  'young',\n",
              "  'action',\n",
              "  'fact',\n",
              "  'take',\n",
              "  'enough',\n",
              "  'however',\n",
              "  'thought',\n",
              "  'long',\n",
              "  'both',\n",
              "  'big',\n",
              "  'give',\n",
              "  'own',\n",
              "  'between',\n",
              "  'comedy',\n",
              "  'must',\n",
              "  'may',\n",
              "  'series',\n",
              "  'right',\n",
              "  'without',\n",
              "  'guy',\n",
              "  'original',\n",
              "  '*',\n",
              "  'role',\n",
              "  'saw',\n",
              "  'come',\n",
              "  'times',\n",
              "  'always',\n",
              "  'interesting',\n",
              "  'music',\n",
              "  'whole',\n",
              "  'gets',\n",
              "  'almost',\n",
              "  'least',\n",
              "  'point',\n",
              "  'bit',\n",
              "  'done',\n",
              "  '2',\n",
              "  'script',\n",
              "  'far',\n",
              "  'minutes',\n",
              "  'last',\n",
              "  'feel',\n",
              "  'since',\n",
              "  'might',\n",
              "  'family',\n",
              "  'making',\n",
              "  'anything',\n",
              "  \"'ll\",\n",
              "  'am',\n",
              "  'girl',\n",
              "  'performance',\n",
              "  'yet',\n",
              "  'probably',\n",
              "  'away',\n",
              "  'tv',\n",
              "  'kind',\n",
              "  'hard',\n",
              "  'fun',\n",
              "  'woman',\n",
              "  'rather',\n",
              "  'worst',\n",
              "  'anyone',\n",
              "  'day',\n",
              "  'sure',\n",
              "  'each',\n",
              "  'found',\n",
              "  'played',\n",
              "  'our',\n",
              "  'screen',\n",
              "  'looking',\n",
              "  'especially',\n",
              "  'having',\n",
              "  'trying',\n",
              "  'believe',\n",
              "  'although',\n",
              "  'course',\n",
              "  'different',\n",
              "  'place',\n",
              "  'dvd',\n",
              "  'set',\n",
              "  'goes',\n",
              "  'ending',\n",
              "  'sense',\n",
              "  'comes',\n",
              "  'worth',\n",
              "  'shows',\n",
              "  'three',\n",
              "  'everything',\n",
              "  'maybe',\n",
              "  'american',\n",
              "  'put',\n",
              "  'once',\n",
              "  'main',\n",
              "  'let',\n",
              "  'actor',\n",
              "  'money',\n",
              "  'effects',\n",
              "  'someone',\n",
              "  'looks',\n",
              "  'book',\n",
              "  'together',\n",
              "  'plays',\n",
              "  'reason',\n",
              "  'everyone',\n",
              "  'year',\n",
              "  'true',\n",
              "  'war',\n",
              "  'during',\n",
              "  'play',\n",
              "  \"'d\",\n",
              "  'john',\n",
              "  'job',\n",
              "  'instead',\n",
              "  'watched',\n",
              "  'high',\n",
              "  'said',\n",
              "  'takes',\n",
              "  'special',\n",
              "  '4',\n",
              "  'seem',\n",
              "  'audience',\n",
              "  'night',\n",
              "  'later',\n",
              "  '..',\n",
              "  'half',\n",
              "  'black',\n",
              "  'himself',\n",
              "  'wife',\n",
              "  'seeing',\n",
              "  'left',\n",
              "  'star',\n",
              "  'idea',\n",
              "  '1',\n",
              "  'beautiful',\n",
              "  'death',\n",
              "  'excellent',\n",
              "  'shot',\n",
              "  'used',\n",
              "  'else',\n",
              "  'house',\n",
              "  'second',\n",
              "  'simply',\n",
              "  'men',\n",
              "  'mind',\n",
              "  'version',\n",
              "  'dead',\n",
              "  'completely',\n",
              "  'budget',\n",
              "  'fan',\n",
              "  'father',\n",
              "  'poor',\n",
              "  'nice',\n",
              "  'less',\n",
              "  'along',\n",
              "  'hollywood',\n",
              "  'short',\n",
              "  'help',\n",
              "  'home',\n",
              "  'line',\n",
              "  'women',\n",
              "  'boring',\n",
              "  'top',\n",
              "  'sex',\n",
              "  'read',\n",
              "  'try',\n",
              "  'either',\n",
              "  'friends',\n",
              "  'performances',\n",
              "  'camera',\n",
              "  'use',\n",
              "  'kids',\n",
              "  'low',\n",
              "  'wrong',\n",
              "  'until',\n",
              "  'couple',\n",
              "  'given',\n",
              "  'next',\n",
              "  'need',\n",
              "  'enjoy',\n",
              "  'full',\n",
              "  'production',\n",
              "  'start',\n",
              "  'classic',\n",
              "  'school',\n",
              "  'stupid',\n",
              "  'truly',\n",
              "  'rest',\n",
              "  'video',\n",
              "  'awful',\n",
              "  'tell',\n",
              "  'perhaps',\n",
              "  'mother',\n",
              "  'getting',\n",
              "  'moments',\n",
              "  'recommend',\n",
              "  'mean',\n",
              "  'keep',\n",
              "  'terrible',\n",
              "  'understand',\n",
              "  'came',\n",
              "  'face',\n",
              "  'name',\n",
              "  'itself',\n",
              "  'small',\n",
              "  'others',\n",
              "  'playing',\n",
              "  'style',\n",
              "  'boy',\n",
              "  'remember',\n",
              "  'person',\n",
              "  'wonderful',\n",
              "  'doing',\n",
              "  'definitely',\n",
              "  'often',\n",
              "  'human',\n",
              "  'gives',\n",
              "  'dialogue',\n",
              "  'stars',\n",
              "  'lines',\n",
              "  'perfect',\n",
              "  'head',\n",
              "  'written',\n",
              "  'early',\n",
              "  'went',\n",
              "  'lost',\n",
              "  'live',\n",
              "  'case',\n",
              "  'entertaining',\n",
              "  'children',\n",
              "  'title',\n",
              "  'episode',\n",
              "  'hope',\n",
              "  '5',\n",
              "  'become',\n",
              "  'yes',\n",
              "  'friend',\n",
              "  'certainly',\n",
              "  'piece',\n",
              "  'liked',\n",
              "  'absolutely',\n",
              "  'laugh',\n",
              "  'based',\n",
              "  'finally',\n",
              "  'picture',\n",
              "  'oh',\n",
              "  'sort',\n",
              "  'several',\n",
              "  'supposed',\n",
              "  'called',\n",
              "  'guys',\n",
              "  'problem',\n",
              "  'drama',\n",
              "  'worse',\n",
              "  'cinema',\n",
              "  'entire',\n",
              "  'overall',\n",
              "  'against',\n",
              "  'fans',\n",
              "  'felt',\n",
              "  'humor',\n",
              "  'direction',\n",
              "  'under',\n",
              "  'lead',\n",
              "  'game',\n",
              "  'waste',\n",
              "  'loved',\n",
              "  'beginning',\n",
              "  'dark',\n",
              "  'lives',\n",
              "  'care',\n",
              "  'evil',\n",
              "  'son',\n",
              "  'totally',\n",
              "  'white',\n",
              "  'seemed',\n",
              "  'despite',\n",
              "  'final',\n",
              "  'wanted',\n",
              "  'killer',\n",
              "  'wo',\n",
              "  'throughout',\n",
              "  'becomes',\n",
              "  'already',\n",
              "  'turn',\n",
              "  'guess',\n",
              "  'unfortunately',\n",
              "  'able',\n",
              "  'sound',\n",
              "  'history',\n",
              "  'mr',\n",
              "  'days',\n",
              "  'town',\n",
              "  'fine',\n",
              "  'quality',\n",
              "  'genre',\n",
              "  'run',\n",
              "  'heart',\n",
              "  'side',\n",
              "  'flick',\n",
              "  'horrible',\n",
              "  'act',\n",
              "  'wants',\n",
              "  'today',\n",
              "  'example',\n",
              "  'city',\n",
              "  'kill',\n",
              "  'tries',\n",
              "  'close',\n",
              "  'writing',\n",
              "  'past',\n",
              "  'child',\n",
              "  'hand',\n",
              "  'matter',\n",
              "  'viewer',\n",
              "  'turns',\n",
              "  'amazing',\n",
              "  'enjoyed',\n",
              "  'parts',\n",
              "  'car',\n",
              "  'starts',\n",
              "  '\\x96',\n",
              "  'themselves',\n",
              "  'killed',\n",
              "  'expect',\n",
              "  'works',\n",
              "  'directed',\n",
              "  'michael',\n",
              "  'stuff',\n",
              "  'behind',\n",
              "  'group',\n",
              "  'favorite',\n",
              "  'gave',\n",
              "  'etc',\n",
              "  'kid',\n",
              "  'daughter',\n",
              "  'soon',\n",
              "  'decent',\n",
              "  'eyes',\n",
              "  'brilliant',\n",
              "  'girls',\n",
              "  'art',\n",
              "  'stop',\n",
              "  'obviously',\n",
              "  'thinking',\n",
              "  'fight',\n",
              "  'type',\n",
              "  'self',\n",
              "  'sometimes',\n",
              "  'actress',\n",
              "  'blood',\n",
              "  'hour',\n",
              "  'known',\n",
              "  'god',\n",
              "  'myself',\n",
              "  'late',\n",
              "  'violence',\n",
              "  'says',\n",
              "  'writer',\n",
              "  'coming',\n",
              "  'except',\n",
              "  'highly',\n",
              "  'heard',\n",
              "  'took',\n",
              "  'happens',\n",
              "  'stories',\n",
              "  'experience',\n",
              "  'hero',\n",
              "  'feeling',\n",
              "  'extremely',\n",
              "  'voice',\n",
              "  'slow',\n",
              "  'happened',\n",
              "  'police',\n",
              "  'moment',\n",
              "  'leave',\n",
              "  'anyway',\n",
              "  'hell',\n",
              "  'score',\n",
              "  'involved',\n",
              "  'roles',\n",
              "  'husband',\n",
              "  'murder',\n",
              "  'looked',\n",
              "  'living',\n",
              "  'told',\n",
              "  'attempt',\n",
              "  'taken',\n",
              "  'obvious',\n",
              "  'save',\n",
              "  'including',\n",
              "  'strong',\n",
              "  'cool',\n",
              "  'wonder',\n",
              "  'ok',\n",
              "  'interest',\n",
              "  'happen',\n",
              "  'david',\n",
              "  'age',\n",
              "  'chance',\n",
              "  'hilarious',\n",
              "  'cut',\n",
              "  'robert',\n",
              "  'simple',\n",
              "  'particularly',\n",
              "  'brother',\n",
              "  'lack',\n",
              "  'gore',\n",
              "  'hit',\n",
              "  'across',\n",
              "  'hours',\n",
              "  'b',\n",
              "  'complete',\n",
              "  'none',\n",
              "  'please',\n",
              "  'ago',\n",
              "  'career',\n",
              "  'serious',\n",
              "  'james',\n",
              "  'crap',\n",
              "  'exactly',\n",
              "  'reality',\n",
              "  'documentary',\n",
              "  'relationship',\n",
              "  'possible',\n",
              "  'sad',\n",
              "  'seriously',\n",
              "  'important',\n",
              "  'annoying',\n",
              "  'power',\n",
              "  'shown',\n",
              "  'song',\n",
              "  'usually',\n",
              "  'talent',\n",
              "  'running',\n",
              "  'alone',\n",
              "  'light',\n",
              "  'female',\n",
              "  'released',\n",
              "  'level',\n",
              "  'english',\n",
              "  'order',\n",
              "  'opening',\n",
              "  'jokes',\n",
              "  'whose',\n",
              "  'ends',\n",
              "  'number',\n",
              "  'taking',\n",
              "  'call',\n",
              "  'middle',\n",
              "  'wish',\n",
              "  'turned',\n",
              "  'ridiculous',\n",
              "  'saying',\n",
              "  'country',\n",
              "  'cinematography',\n",
              "  'scary',\n",
              "  'room',\n",
              "  'somewhat',\n",
              "  'happy',\n",
              "  'yourself',\n",
              "  'body',\n",
              "  'view',\n",
              "  'silly',\n",
              "  'four',\n",
              "  'change',\n",
              "  'strange',\n",
              "  'mostly',\n",
              "  'huge',\n",
              "  'usual',\n",
              "  'basically',\n",
              "  'finds',\n",
              "  'word',\n",
              "  'started',\n",
              "  'apparently',\n",
              "  'opinion',\n",
              "  'shots',\n",
              "  'jack',\n",
              "  'attention',\n",
              "  'major',\n",
              "  'novel',\n",
              "  'beyond',\n",
              "  'words',\n",
              "  'disappointed',\n",
              "  'miss',\n",
              "  'single',\n",
              "  'talking',\n",
              "  'cheap',\n",
              "  'knows',\n",
              "  'knew',\n",
              "  'non',\n",
              "  'thriller',\n",
              "  'modern',\n",
              "  'clearly',\n",
              "  'sequel',\n",
              "  'ones',\n",
              "  'problems',\n",
              "  'straight',\n",
              "  'due',\n",
              "  'rating',\n",
              "  'french',\n",
              "  'talk',\n",
              "  'future',\n",
              "  'british',\n",
              "  'upon',\n",
              "  'events',\n",
              "  'die',\n",
              "  'sets',\n",
              "  'fast',\n",
              "  'local',\n",
              "  'tells',\n",
              "  '0',\n",
              "  'add',\n",
              "  'comic',\n",
              "  'television',\n",
              "  'parents',\n",
              "  'earth',\n",
              "  'sequence',\n",
              "  '9',\n",
              "  'class',\n",
              "  'entertainment',\n",
              "  'above',\n",
              "  'ten',\n",
              "  'bring',\n",
              "  'king',\n",
              "  'dialog',\n",
              "  'hate',\n",
              "  'team',\n",
              "  'easily',\n",
              "  'review',\n",
              "  'clear',\n",
              "  'giving',\n",
              "  'george',\n",
              "  'musical',\n",
              "  'predictable',\n",
              "  'appears',\n",
              "  'within',\n",
              "  'near',\n",
              "  'lots',\n",
              "  'similar',\n",
              "  'five',\n",
              "  '7',\n",
              "  'romantic',\n",
              "  'easy',\n",
              "  'falls',\n",
              "  'filmed',\n",
              "  'storyline',\n",
              "  'enjoyable',\n",
              "  'bunch',\n",
              "  'supporting',\n",
              "  'mention',\n",
              "  'space',\n",
              "  'ways',\n",
              "  'typical',\n",
              "  'certain',\n",
              "  'episodes',\n",
              "  'working',\n",
              "  '8',\n",
              "  'named',\n",
              "  'moving',\n",
              "  'message',\n",
              "  'whether',\n",
              "  'eye',\n",
              "  'stand',\n",
              "  'release',\n",
              "  'mystery',\n",
              "  'general',\n",
              "  'sorry',\n",
              "  'surprised',\n",
              "  'crime',\n",
              "  'theme',\n",
              "  'elements',\n",
              "  'songs',\n",
              "  'dull',\n",
              "  'among',\n",
              "  'monster',\n",
              "  'fall',\n",
              "  'soundtrack',\n",
              "  'tale',\n",
              "  'gone',\n",
              "  'suspense',\n",
              "  'tried',\n",
              "  'stay',\n",
              "  'york',\n",
              "  'gay',\n",
              "  'needs',\n",
              "  'avoid',\n",
              "  'begins',\n",
              "  'minute',\n",
              "  'effort',\n",
              "  'showing',\n",
              "  'using',\n",
              "  's',\n",
              "  'kept',\n",
              "  'viewers',\n",
              "  'america',\n",
              "  'points',\n",
              "  'comments',\n",
              "  'theater',\n",
              "  'richard',\n",
              "  'red',\n",
              "  'feels',\n",
              "  'dog',\n",
              "  'sister',\n",
              "  'buy',\n",
              "  'doubt',\n",
              "  'means',\n",
              "  'peter',\n",
              "  'tom',\n",
              "  'leads',\n",
              "  'nearly',\n",
              "  'feature',\n",
              "  'okay',\n",
              "  'viewing',\n",
              "  'brought',\n",
              "  'herself',\n",
              "  'editing',\n",
              "  'rent',\n",
              "  'killing',\n",
              "  'deal',\n",
              "  'period',\n",
              "  'realistic',\n",
              "  'de',\n",
              "  'somehow',\n",
              "  'truth',\n",
              "  'lady',\n",
              "  'imagine',\n",
              "  'follow',\n",
              "  'form',\n",
              "  'famous',\n",
              "  'fantastic',\n",
              "  'check',\n",
              "  'sequences',\n",
              "  'fi',\n",
              "  'move',\n",
              "  'material',\n",
              "  'believable',\n",
              "  'third',\n",
              "  'forget',\n",
              "  'average',\n",
              "  'sci',\n",
              "  '20',\n",
              "  'reviews',\n",
              "  'rock',\n",
              "  'paul',\n",
              "  'surprise',\n",
              "  'deep',\n",
              "  'cop',\n",
              "  'greatest',\n",
              "  'premise',\n",
              "  'figure',\n",
              "  'whatever',\n",
              "  'subject',\n",
              "  'lee',\n",
              "  'dr',\n",
              "  'poorly',\n",
              "  'oscar',\n",
              "  're',\n",
              "  'actual',\n",
              "  'expected',\n",
              "  'open',\n",
              "  'learn',\n",
              "  'weak',\n",
              "  'hear',\n",
              "  'indeed',\n",
              "  'free',\n",
              "  'eventually',\n",
              "  'sit',\n",
              "  'lame',\n",
              "  'crew',\n",
              "  'forced',\n",
              "  'society',\n",
              "  'western',\n",
              "  'atmosphere',\n",
              "  'possibly',\n",
              "  'animation',\n",
              "  'note',\n",
              "  'box',\n",
              "  'wait',\n",
              "  'situation',\n",
              "  'difficult',\n",
              "  'sexual',\n",
              "  'leaves',\n",
              "  'romance',\n",
              "  'decided',\n",
              "  'otherwise',\n",
              "  'hot',\n",
              "  'begin',\n",
              "  'particular',\n",
              "  'question',\n",
              "  'reading',\n",
              "  'boys',\n",
              "  'stage',\n",
              "  'male',\n",
              "  'acted',\n",
              "  'plus',\n",
              "  'became',\n",
              "  'shame',\n",
              "  'footage',\n",
              "  'personal',\n",
              "  'interested',\n",
              "  'screenplay',\n",
              "  'meet',\n",
              "  'cheesy',\n",
              "  'towards',\n",
              "  'credits',\n",
              "  'memorable',\n",
              "  'previous',\n",
              "  'air',\n",
              "  '$',\n",
              "  'doctor',\n",
              "  'gun',\n",
              "  'nor',\n",
              "  'earlier',\n",
              "  'effect',\n",
              "  'battle',\n",
              "  'street',\n",
              "  'needed',\n",
              "  'island',\n",
              "  'features',\n",
              "  'hands',\n",
              "  'unless',\n",
              "  'emotional',\n",
              "  'powerful',\n",
              "  'worked',\n",
              "  'perfectly',\n",
              "  'whom',\n",
              "  'joe',\n",
              "  'result',\n",
              "  'laughs',\n",
              "  'business',\n",
              "  'quickly',\n",
              "  'imdb',\n",
              "  'setting',\n",
              "  'writers',\n",
              "  'mess',\n",
              "  'keeps',\n",
              "  'write',\n",
              "  'total',\n",
              "  'season',\n",
              "  'background',\n",
              "  'forward',\n",
              "  'comment',\n",
              "  'badly',\n",
              "  'older',\n",
              "  'crazy',\n",
              "  'nature',\n",
              "  'dance',\n",
              "  'dramatic',\n",
              "  'masterpiece',\n",
              "  'meets',\n",
              "  'girlfriend',\n",
              "  'mark',\n",
              "  'bill',\n",
              "  'pay',\n",
              "  'superb',\n",
              "  'various',\n",
              "  'rich',\n",
              "  'era',\n",
              "  'appear',\n",
              "  'baby',\n",
              "  'realize',\n",
              "  'weird',\n",
              "  'directing',\n",
              "  'unique',\n",
              "  'inside',\n",
              "  'japanese',\n",
              "  'front',\n",
              "  'sounds',\n",
              "  'brothers',\n",
              "  'present',\n",
              "  'development',\n",
              "  'incredibly',\n",
              "  'telling',\n",
              "  'beauty',\n",
              "  'twist',\n",
              "  'plenty',\n",
              "  'fairly',\n",
              "  'party',\n",
              "  'brings',\n",
              "  'copy',\n",
              "  'fighting',\n",
              "  'william',\n",
              "  'apart',\n",
              "  'directors',\n",
              "  'break',\n",
              "  'outside',\n",
              "  'secret',\n",
              "  'rate',\n",
              "  'dumb',\n",
              "  ...],\n",
              " 60008)"
            ]
          },
          "metadata": {},
          "execution_count": 46
        }
      ],
      "source": [
        "dls_lm.vocab, len(dls_lm.vocab)"
      ]
    },
    {
      "cell_type": "code",
      "execution_count": null,
      "metadata": {
        "colab": {
          "base_uri": "https://localhost:8080/",
          "height": 1000
        },
        "id": "d6TtuIAS0-C2",
        "outputId": "6d40ed82-f117-414f-f742-962a6649c801"
      },
      "outputs": [
        {
          "output_type": "display_data",
          "data": {
            "text/plain": [
              "<IPython.core.display.HTML object>"
            ],
            "text/html": [
              "<table border=\"1\" class=\"dataframe\">\n",
              "  <thead>\n",
              "    <tr style=\"text-align: right;\">\n",
              "      <th></th>\n",
              "      <th>text</th>\n",
              "      <th>text_</th>\n",
              "    </tr>\n",
              "  </thead>\n",
              "  <tbody>\n",
              "    <tr>\n",
              "      <th>0</th>\n",
              "      <td>xxbos xxmaj the movie is based on the idea of time - travelling . xxmaj there were lots of such movies and novels , but this one is somewhat different . xxmaj there is xxup uss xxmaj nimitz , nuclear carrier , equipped in jets , reconnaissance planes , marines , and so on , everything that is needed in modern warfare . xxmaj somehow xxmaj nimitz is taken back to 1941 , just before xxmaj pearl xxmaj harbour battle</td>\n",
              "      <td>xxmaj the movie is based on the idea of time - travelling . xxmaj there were lots of such movies and novels , but this one is somewhat different . xxmaj there is xxup uss xxmaj nimitz , nuclear carrier , equipped in jets , reconnaissance planes , marines , and so on , everything that is needed in modern warfare . xxmaj somehow xxmaj nimitz is taken back to 1941 , just before xxmaj pearl xxmaj harbour battle .</td>\n",
              "    </tr>\n",
              "    <tr>\n",
              "      <th>1</th>\n",
              "      <td>darth xxmaj maul would have been better left out . xxmaj as it is now , we get to know _ nothing _ about him . xxmaj who is he ? xxmaj where does he come from ? xxmaj what is his motives ( what does he want revenge for ) ? i also found the political system described majorly oversimplified ( why did they need the queen to cast a vote of xxunk ) and , really , does</td>\n",
              "      <td>xxmaj maul would have been better left out . xxmaj as it is now , we get to know _ nothing _ about him . xxmaj who is he ? xxmaj where does he come from ? xxmaj what is his motives ( what does he want revenge for ) ? i also found the political system described majorly oversimplified ( why did they need the queen to cast a vote of xxunk ) and , really , does nt</td>\n",
              "    </tr>\n",
              "    <tr>\n",
              "      <th>2</th>\n",
              "      <td>from my idiot friends continued to tell me that this film was \" good \" , so i believed them . i had seen the four main xxmaj lee films ( chinese xxmaj connection , xxmaj way of the xxmaj dragon , xxmaj big xxmaj boss and xxmaj enter the xxmaj dragon ) a bunch of times , and wondered why this guy had n't been mentioned to me earlier . i popped it in and was completely struck with</td>\n",
              "      <td>my idiot friends continued to tell me that this film was \" good \" , so i believed them . i had seen the four main xxmaj lee films ( chinese xxmaj connection , xxmaj way of the xxmaj dragon , xxmaj big xxmaj boss and xxmaj enter the xxmaj dragon ) a bunch of times , and wondered why this guy had n't been mentioned to me earlier . i popped it in and was completely struck with a</td>\n",
              "    </tr>\n",
              "    <tr>\n",
              "      <th>3</th>\n",
              "      <td>\" the closest adaptation \" of the book like this one was . \\n\\n everything about this movie is bad , except the costumes and makeup . the script is awful , much of the dialogue laughable if nothing else , and even the most \" interesting \" scenes only inspire boredom . this film has such a great cast : de xxmaj niro , xxmaj helena xxmaj bonham xxmaj carter , xxmaj ian xxmaj holm , xxmaj tom xxmaj</td>\n",
              "      <td>the closest adaptation \" of the book like this one was . \\n\\n everything about this movie is bad , except the costumes and makeup . the script is awful , much of the dialogue laughable if nothing else , and even the most \" interesting \" scenes only inspire boredom . this film has such a great cast : de xxmaj niro , xxmaj helena xxmaj bonham xxmaj carter , xxmaj ian xxmaj holm , xxmaj tom xxmaj hulce</td>\n",
              "    </tr>\n",
              "    <tr>\n",
              "      <th>4</th>\n",
              "      <td>out on a lot . xxmaj anyway , here is the rundown of events in \" rabbit 's xxmaj moon \" . xxmaj somebody dressed in a clown suit is standing outside looking at the moon . a rabbit appears . xxmaj then a court jester appears and does a mime routine . xxmaj finally , a woman appears and does a terrible dance . xxmaj the xxmaj end . \\n\\n▁ xxmaj maybe i am just too stupid to understand</td>\n",
              "      <td>on a lot . xxmaj anyway , here is the rundown of events in \" rabbit 's xxmaj moon \" . xxmaj somebody dressed in a clown suit is standing outside looking at the moon . a rabbit appears . xxmaj then a court jester appears and does a mime routine . xxmaj finally , a woman appears and does a terrible dance . xxmaj the xxmaj end . \\n\\n▁ xxmaj maybe i am just too stupid to understand the</td>\n",
              "    </tr>\n",
              "    <tr>\n",
              "      <th>5</th>\n",
              "      <td>. bottom line : avoid this movie ! xxbos xxmaj i 've seen every \" dead \" movie many times , and xxmaj i 've even written a spec script for \" dusk of the xxmaj dead . \" xxmaj here 's what 's right and wrong with this remake of the 1968 classic . \\n\\n▁ xxrep 3 * xxup spoilers xxup ahead xxrep 3 * xxup spoilers xxup ahead xxrep 3 * \\n\\n 1 . xxup right - xxmaj</td>\n",
              "      <td>bottom line : avoid this movie ! xxbos xxmaj i 've seen every \" dead \" movie many times , and xxmaj i 've even written a spec script for \" dusk of the xxmaj dead . \" xxmaj here 's what 's right and wrong with this remake of the 1968 classic . \\n\\n▁ xxrep 3 * xxup spoilers xxup ahead xxrep 3 * xxup spoilers xxup ahead xxrep 3 * \\n\\n 1 . xxup right - xxmaj barbara</td>\n",
              "    </tr>\n",
              "    <tr>\n",
              "      <th>6</th>\n",
              "      <td>watching this film . ( * 1 / 2 ) xxbos xxmaj hex is a one of the best programmes , need i say more , loved every minute of it , i just hope they make a third series as bot the first two series are fantastic , no sorry , xxup magnificent . xxmaj it is one those programmes that you start to watch and can not get enough of as i said i hope they make a</td>\n",
              "      <td>this film . ( * 1 / 2 ) xxbos xxmaj hex is a one of the best programmes , need i say more , loved every minute of it , i just hope they make a third series as bot the first two series are fantastic , no sorry , xxup magnificent . xxmaj it is one those programmes that you start to watch and can not get enough of as i said i hope they make a third</td>\n",
              "    </tr>\n",
              "    <tr>\n",
              "      <th>7</th>\n",
              "      <td>that the movie was apt to be over soon as well . \\n\\n xxmaj predictable and self - consciously \" arty , \" the movie never seemed to be about anything , but rather seemed to be a vehicle for xxmaj albert xxmaj finney to overact ( as usual ) . xxmaj the plot was non - existent and the characters were stereotypical \" strangers in a strange land . \" xxbos i really do n't know what to say</td>\n",
              "      <td>the movie was apt to be over soon as well . \\n\\n xxmaj predictable and self - consciously \" arty , \" the movie never seemed to be about anything , but rather seemed to be a vehicle for xxmaj albert xxmaj finney to overact ( as usual ) . xxmaj the plot was non - existent and the characters were stereotypical \" strangers in a strange land . \" xxbos i really do n't know what to say about</td>\n",
              "    </tr>\n",
              "    <tr>\n",
              "      <th>8</th>\n",
              "      <td>to watch teams pushing themselves over the top with some rather weird quests and having an arguments over nothing . xxmaj the tasks are usually tied with the country they 're competing and that 's very cool too . \\n\\n xxmaj the series budget is huge . xxmaj they were racing in xxmaj estonia ( where i live :) in summer and my friend took part of it too and revealed how the show was being made . xxmaj it</td>\n",
              "      <td>watch teams pushing themselves over the top with some rather weird quests and having an arguments over nothing . xxmaj the tasks are usually tied with the country they 're competing and that 's very cool too . \\n\\n xxmaj the series budget is huge . xxmaj they were racing in xxmaj estonia ( where i live :) in summer and my friend took part of it too and revealed how the show was being made . xxmaj it 's</td>\n",
              "    </tr>\n",
              "    <tr>\n",
              "      <th>9</th>\n",
              "      <td>parents and xxmaj martha xxmaj wilson was perfect . xxmaj the musical score was also excellent- whimsical , nostalgic , without coming across as cloying . \\n\\n xxmaj there were only two problems with the film , but they were big ones . xxmaj first , the director did not adequately develop xxmaj wilson 's friendship with xxmaj dennis , which makes the end scenes seem forced and trite . xxmaj the only recollection i have of xxmaj wilson even</td>\n",
              "      <td>and xxmaj martha xxmaj wilson was perfect . xxmaj the musical score was also excellent- whimsical , nostalgic , without coming across as cloying . \\n\\n xxmaj there were only two problems with the film , but they were big ones . xxmaj first , the director did not adequately develop xxmaj wilson 's friendship with xxmaj dennis , which makes the end scenes seem forced and trite . xxmaj the only recollection i have of xxmaj wilson even speaking</td>\n",
              "    </tr>\n",
              "    <tr>\n",
              "      <th>10</th>\n",
              "      <td>and the great xxmaj bruce mcgill . xxmaj however , the movie basically bored and confused me simultaneously . xxmaj to put it simply , it 's just too messy . xxmaj the movie touches on some interesting subjects and has some potential - but the end result is , well , quite a mess . \\n\\n xxmaj slow xxmaj burn seems to be quite inspired by \" the xxmaj usual xxmaj suspects \" - which is by no means</td>\n",
              "      <td>the great xxmaj bruce mcgill . xxmaj however , the movie basically bored and confused me simultaneously . xxmaj to put it simply , it 's just too messy . xxmaj the movie touches on some interesting subjects and has some potential - but the end result is , well , quite a mess . \\n\\n xxmaj slow xxmaj burn seems to be quite inspired by \" the xxmaj usual xxmaj suspects \" - which is by no means a</td>\n",
              "    </tr>\n",
              "    <tr>\n",
              "      <th>11</th>\n",
              "      <td>. xxmaj this innovative production value with a new fresh look together with an intense drama script come together to make this one of the best movies of the year . xxmaj except perhaps for an ending that could have gone in a number of different directions , this movie is the complete package for emotional engagement , dazzling visual images , this movie is a must see for anybody who is concerned about humanity in today 's modern world</td>\n",
              "      <td>xxmaj this innovative production value with a new fresh look together with an intense drama script come together to make this one of the best movies of the year . xxmaj except perhaps for an ending that could have gone in a number of different directions , this movie is the complete package for emotional engagement , dazzling visual images , this movie is a must see for anybody who is concerned about humanity in today 's modern world .</td>\n",
              "    </tr>\n",
              "    <tr>\n",
              "      <th>12</th>\n",
              "      <td>was quite good , so i still kept my fingers crossed for the movie , but the movie degraded from minute to minute . xxmaj most of the jokes were n't hilarious at all - they were rather washed out , old and often simply not funny . xxmaj the acting of most of the characters was mostly bad : xxmaj oliver xxmaj kalkofe 's strong side obviously is xxup not acting , xxmaj oliver xxmaj xxunk 's ( who</td>\n",
              "      <td>quite good , so i still kept my fingers crossed for the movie , but the movie degraded from minute to minute . xxmaj most of the jokes were n't hilarious at all - they were rather washed out , old and often simply not funny . xxmaj the acting of most of the characters was mostly bad : xxmaj oliver xxmaj kalkofe 's strong side obviously is xxup not acting , xxmaj oliver xxmaj xxunk 's ( who i</td>\n",
              "    </tr>\n",
              "    <tr>\n",
              "      <th>13</th>\n",
              "      <td>movies ▁ but in this case , i will make a girly exception and say that these two people did n't have any reason to give a crap about each other , aside from a compatible set of reproductive organs . xxmaj two boring people have boring interactions and suddenly screw each other . xxmaj it seemed forced , sudden , and unnecessary . xxmaj perhaps they should have spent more time developing the characters , rather than having every</td>\n",
              "      <td>▁ but in this case , i will make a girly exception and say that these two people did n't have any reason to give a crap about each other , aside from a compatible set of reproductive organs . xxmaj two boring people have boring interactions and suddenly screw each other . xxmaj it seemed forced , sudden , and unnecessary . xxmaj perhaps they should have spent more time developing the characters , rather than having every single</td>\n",
              "    </tr>\n",
              "    <tr>\n",
              "      <th>14</th>\n",
              "      <td>novak picks up on the truth but trumps his duplicity with her own : xxmaj they can kill xxmaj richards and xxunk with the loot from the bank job . macmurray , reprising the not - so - bright - as - he - thinks ladies ' man from xxmaj double xxmaj indemnity , falls for the bait … . \\n\\n xxmaj pushover revels in its claustrophobia . xxmaj almost all the action takes place , at night , in</td>\n",
              "      <td>picks up on the truth but trumps his duplicity with her own : xxmaj they can kill xxmaj richards and xxunk with the loot from the bank job . macmurray , reprising the not - so - bright - as - he - thinks ladies ' man from xxmaj double xxmaj indemnity , falls for the bait … . \\n\\n xxmaj pushover revels in its claustrophobia . xxmaj almost all the action takes place , at night , in the</td>\n",
              "    </tr>\n",
              "    <tr>\n",
              "      <th>15</th>\n",
              "      <td>really bad insults . * really * bad insults . xxmaj they were insulting just to insult . xxmaj the only exception is xxmaj ron xxmaj white . xxmaj this man is a genius . xxmaj he can make just about anything funny . xxmaj he went up and delivered good , clean jokes that more made fun of xxmaj jeff and his buddies than insulted them . xxmaj he actually delivered the one good laugh that i got out</td>\n",
              "      <td>bad insults . * really * bad insults . xxmaj they were insulting just to insult . xxmaj the only exception is xxmaj ron xxmaj white . xxmaj this man is a genius . xxmaj he can make just about anything funny . xxmaj he went up and delivered good , clean jokes that more made fun of xxmaj jeff and his buddies than insulted them . xxmaj he actually delivered the one good laugh that i got out of</td>\n",
              "    </tr>\n",
              "  </tbody>\n",
              "</table>"
            ]
          },
          "metadata": {}
        }
      ],
      "source": [
        "dls_lm.show_batch(max_n=128)\n",
        "# Questions (x) and answers (y)"
      ]
    },
    {
      "cell_type": "markdown",
      "metadata": {
        "id": "fKnsP9K31EbR"
      },
      "source": [
        "Fine-Tuning the Language Model"
      ]
    },
    {
      "cell_type": "code",
      "execution_count": null,
      "metadata": {
        "colab": {
          "base_uri": "https://localhost:8080/",
          "height": 38
        },
        "id": "E5kX_iJh1CNB",
        "outputId": "615614d3-6117-4fa2-bf8c-88a334ddc59d"
      },
      "outputs": [
        {
          "output_type": "display_data",
          "data": {
            "text/plain": [
              "<IPython.core.display.HTML object>"
            ],
            "text/html": [
              "\n",
              "<style>\n",
              "    /* Turns off some styling */\n",
              "    progress {\n",
              "        /* gets rid of default border in Firefox and Opera. */\n",
              "        border: none;\n",
              "        /* Needs to be in here for Safari polyfill so background images work as expected. */\n",
              "        background-size: auto;\n",
              "    }\n",
              "    progress:not([value]), progress:not([value])::-webkit-progress-bar {\n",
              "        background: repeating-linear-gradient(45deg, #7e7e7e, #7e7e7e 10px, #5c5c5c 10px, #5c5c5c 20px);\n",
              "    }\n",
              "    .progress-bar-interrupted, .progress-bar-interrupted::-webkit-progress-bar {\n",
              "        background: #F44336;\n",
              "    }\n",
              "</style>\n"
            ]
          },
          "metadata": {}
        },
        {
          "output_type": "display_data",
          "data": {
            "text/plain": [
              "<IPython.core.display.HTML object>"
            ],
            "text/html": [
              "\n",
              "    <div>\n",
              "      <progress value='105070592' class='' max='105067061' style='width:300px; height:20px; vertical-align: middle;'></progress>\n",
              "      100.00% [105070592/105067061 00:03&lt;00:00]\n",
              "    </div>\n",
              "    "
            ]
          },
          "metadata": {}
        }
      ],
      "source": [
        "# We create embeddings for the tokens and feed the embeddings to a recurrent neural network (RNN)\n",
        "# RNN uses an architecture called AWD-LSTM\n",
        "learn = language_model_learner(\n",
        "    dls_lm, AWD_LSTM, drop_mult=0.3, \n",
        "    metrics=[accuracy, Perplexity()]).to_fp16()\n",
        "# The perplexity metric is often used in language models\n",
        "# it is the exponential of the loss (i.e., torch.exp(cross_entropy))"
      ]
    },
    {
      "cell_type": "code",
      "execution_count": null,
      "metadata": {
        "colab": {
          "base_uri": "https://localhost:8080/"
        },
        "id": "0Sq5te8x1Lgm",
        "outputId": "ae694867-2907-49d5-f36e-8bb5d23a2bb8"
      },
      "outputs": [
        {
          "output_type": "execute_result",
          "data": {
            "text/plain": [
              "SequentialRNN(\n",
              "  (0): AWD_LSTM(\n",
              "    (encoder): Embedding(60008, 400, padding_idx=1)\n",
              "    (encoder_dp): EmbeddingDropout(\n",
              "      (emb): Embedding(60008, 400, padding_idx=1)\n",
              "    )\n",
              "    (rnns): ModuleList(\n",
              "      (0): WeightDropout(\n",
              "        (module): LSTM(400, 1152, batch_first=True)\n",
              "      )\n",
              "      (1): WeightDropout(\n",
              "        (module): LSTM(1152, 1152, batch_first=True)\n",
              "      )\n",
              "      (2): WeightDropout(\n",
              "        (module): LSTM(1152, 400, batch_first=True)\n",
              "      )\n",
              "    )\n",
              "    (input_dp): RNNDropout()\n",
              "    (hidden_dps): ModuleList(\n",
              "      (0): RNNDropout()\n",
              "      (1): RNNDropout()\n",
              "      (2): RNNDropout()\n",
              "    )\n",
              "  )\n",
              "  (1): LinearDecoder(\n",
              "    (decoder): Linear(in_features=400, out_features=60008, bias=True)\n",
              "    (output_dp): RNNDropout()\n",
              "  )\n",
              ")"
            ]
          },
          "metadata": {},
          "execution_count": 49
        }
      ],
      "source": [
        "learn.model"
      ]
    },
    {
      "cell_type": "code",
      "execution_count": null,
      "metadata": {
        "colab": {
          "base_uri": "https://localhost:8080/",
          "height": 81
        },
        "id": "gkQlctwK1NJE",
        "outputId": "3b71734f-e6ba-41de-80d3-5ff97aa147c1"
      },
      "outputs": [
        {
          "output_type": "display_data",
          "data": {
            "text/plain": [
              "<IPython.core.display.HTML object>"
            ],
            "text/html": [
              "\n",
              "<style>\n",
              "    /* Turns off some styling */\n",
              "    progress {\n",
              "        /* gets rid of default border in Firefox and Opera. */\n",
              "        border: none;\n",
              "        /* Needs to be in here for Safari polyfill so background images work as expected. */\n",
              "        background-size: auto;\n",
              "    }\n",
              "    progress:not([value]), progress:not([value])::-webkit-progress-bar {\n",
              "        background: repeating-linear-gradient(45deg, #7e7e7e, #7e7e7e 10px, #5c5c5c 10px, #5c5c5c 20px);\n",
              "    }\n",
              "    .progress-bar-interrupted, .progress-bar-interrupted::-webkit-progress-bar {\n",
              "        background: #F44336;\n",
              "    }\n",
              "</style>\n"
            ]
          },
          "metadata": {}
        },
        {
          "output_type": "display_data",
          "data": {
            "text/plain": [
              "<IPython.core.display.HTML object>"
            ],
            "text/html": [
              "<table border=\"1\" class=\"dataframe\">\n",
              "  <thead>\n",
              "    <tr style=\"text-align: left;\">\n",
              "      <th>epoch</th>\n",
              "      <th>train_loss</th>\n",
              "      <th>valid_loss</th>\n",
              "      <th>accuracy</th>\n",
              "      <th>perplexity</th>\n",
              "      <th>time</th>\n",
              "    </tr>\n",
              "  </thead>\n",
              "  <tbody>\n",
              "    <tr>\n",
              "      <td>0</td>\n",
              "      <td>4.171481</td>\n",
              "      <td>4.046464</td>\n",
              "      <td>0.292940</td>\n",
              "      <td>57.194855</td>\n",
              "      <td>45:38</td>\n",
              "    </tr>\n",
              "  </tbody>\n",
              "</table>"
            ]
          },
          "metadata": {}
        }
      ],
      "source": [
        "learn.fit_one_cycle(1, 2e-2)"
      ]
    },
    {
      "cell_type": "markdown",
      "metadata": {
        "id": "8oFy87XT1Rdr"
      },
      "source": [
        "Saving and Loading Models"
      ]
    },
    {
      "cell_type": "code",
      "execution_count": null,
      "metadata": {
        "id": "DhkymKcr1Pcw"
      },
      "outputs": [],
      "source": [
        "#learn.save('1epoch')"
      ]
    },
    {
      "cell_type": "code",
      "execution_count": null,
      "metadata": {
        "id": "_TDQdrjK1a0r"
      },
      "outputs": [],
      "source": [
        "#learn = learn.load('1epoch')"
      ]
    },
    {
      "cell_type": "code",
      "execution_count": null,
      "metadata": {
        "id": "Lf_EBtCy1cw-"
      },
      "outputs": [],
      "source": [
        "# Once the initial training has completed, we can continue fine-tuning the model after unfreezing\n",
        "#learn.unfreeze()\n",
        "#learn.fit_one_cycle(10, 2e-3)\n",
        "#learn.fit_one_cycle(2, 2e-3)"
      ]
    },
    {
      "cell_type": "code",
      "execution_count": null,
      "metadata": {
        "id": "OCxt1kwn1fx4"
      },
      "outputs": [],
      "source": [
        "# Once this is done, we save all of our model except the final layer that converts activations to probabilities of picking each token in our vocabulary. \n",
        "# The model without the final layer is called the encoder. \n",
        "# We can save it with save_encoder\n",
        "#learn.save_encoder('finetuned')\n",
        "# This completes the second stage of the text classification process: fine-tuning the language model. \n",
        "# We can now use it to fine-tune a classifier using the IMDb sentiment labels."
      ]
    },
    {
      "cell_type": "markdown",
      "metadata": {
        "id": "041O-if91luV"
      },
      "source": [
        "Text Generation"
      ]
    },
    {
      "cell_type": "code",
      "execution_count": null,
      "metadata": {
        "colab": {
          "base_uri": "https://localhost:8080/",
          "height": 17
        },
        "id": "jcMm95sM1nj_",
        "outputId": "f7b5628e-2cd2-4530-9943-0f4c22108c30"
      },
      "outputs": [
        {
          "output_type": "display_data",
          "data": {
            "text/plain": [
              "<IPython.core.display.HTML object>"
            ],
            "text/html": [
              "\n",
              "<style>\n",
              "    /* Turns off some styling */\n",
              "    progress {\n",
              "        /* gets rid of default border in Firefox and Opera. */\n",
              "        border: none;\n",
              "        /* Needs to be in here for Safari polyfill so background images work as expected. */\n",
              "        background-size: auto;\n",
              "    }\n",
              "    progress:not([value]), progress:not([value])::-webkit-progress-bar {\n",
              "        background: repeating-linear-gradient(45deg, #7e7e7e, #7e7e7e 10px, #5c5c5c 10px, #5c5c5c 20px);\n",
              "    }\n",
              "    .progress-bar-interrupted, .progress-bar-interrupted::-webkit-progress-bar {\n",
              "        background: #F44336;\n",
              "    }\n",
              "</style>\n"
            ]
          },
          "metadata": {}
        },
        {
          "output_type": "display_data",
          "data": {
            "text/plain": [
              "<IPython.core.display.HTML object>"
            ],
            "text/html": []
          },
          "metadata": {}
        },
        {
          "output_type": "display_data",
          "data": {
            "text/plain": [
              "<IPython.core.display.HTML object>"
            ],
            "text/html": [
              "\n",
              "<style>\n",
              "    /* Turns off some styling */\n",
              "    progress {\n",
              "        /* gets rid of default border in Firefox and Opera. */\n",
              "        border: none;\n",
              "        /* Needs to be in here for Safari polyfill so background images work as expected. */\n",
              "        background-size: auto;\n",
              "    }\n",
              "    progress:not([value]), progress:not([value])::-webkit-progress-bar {\n",
              "        background: repeating-linear-gradient(45deg, #7e7e7e, #7e7e7e 10px, #5c5c5c 10px, #5c5c5c 20px);\n",
              "    }\n",
              "    .progress-bar-interrupted, .progress-bar-interrupted::-webkit-progress-bar {\n",
              "        background: #F44336;\n",
              "    }\n",
              "</style>\n"
            ]
          },
          "metadata": {}
        },
        {
          "output_type": "display_data",
          "data": {
            "text/plain": [
              "<IPython.core.display.HTML object>"
            ],
            "text/html": []
          },
          "metadata": {}
        }
      ],
      "source": [
        "TEXT = \"I do not like this movie because\"\n",
        "N_WORDS = 40\n",
        "N_SENTENCES = 2\n",
        "preds = [learn.predict(TEXT, N_WORDS, temperature = 0.75) \n",
        "         for _ in range(N_SENTENCES)]"
      ]
    },
    {
      "cell_type": "code",
      "execution_count": null,
      "metadata": {
        "colab": {
          "base_uri": "https://localhost:8080/"
        },
        "id": "zmoG5pjj9jhi",
        "outputId": "fafd2050-b1c8-4587-fc31-01e34584c593"
      },
      "outputs": [
        {
          "output_type": "stream",
          "name": "stdout",
          "text": [
            "i do not like this movie because it has nothing to do with this film . The only thing i understood about this movie is being a romantic movie . There are some nice jokes that you wo n't care about . It is\n",
            "i do not like this movie because she 's just a little more than an i think that i applaud the director for his way through the whole context of the movie . That 's what i found . The main character just has\n"
          ]
        }
      ],
      "source": [
        "print(\"\\n\".join(preds))"
      ]
    },
    {
      "cell_type": "code",
      "execution_count": null,
      "metadata": {
        "colab": {
          "base_uri": "https://localhost:8080/"
        },
        "id": "6utaODEM1trm",
        "outputId": "5e60d9ab-88ce-4d2d-af19-bf214e66a719"
      },
      "outputs": [
        {
          "output_type": "stream",
          "name": "stdout",
          "text": [
            "LMLearner.predict(text, n_words=1, no_unk=True, temperature=1.0, min_p=None, no_bar=False, decoder=<function decode_spec_tokens at 0x7f46e4766b90>, only_last_word=False)\n",
            "Return `text` and the `n_words` that come after\n",
            "\n",
            "To get a prettier result with hyperlinks to source code and documentation, install nbdev: pip install nbdev\n"
          ]
        }
      ],
      "source": [
        "doc(learn.predict)"
      ]
    },
    {
      "cell_type": "markdown",
      "metadata": {
        "id": "nk0VAt6d110-"
      },
      "source": [
        "Creating the Classifier DataLoaders"
      ]
    },
    {
      "cell_type": "code",
      "execution_count": null,
      "metadata": {
        "id": "sA4J9M-h1zWV"
      },
      "outputs": [],
      "source": [
        "# from language model fine-tuning to classifier fine-tuning\n",
        "# A classifier, however, predicts some external label—in the case of IMDb, it's the sentiment of a document.\n",
        "dls_clas = DataBlock(\n",
        "    blocks=(TextBlock.from_folder(path, vocab=dls_lm.vocab),CategoryBlock),\n",
        "    get_y = parent_label,\n",
        "    get_items=partial(get_text_files, folders=['train', 'test']),\n",
        "    splitter=GrandparentSplitter(valid_name='test')\n",
        ").dataloaders(path, path=path, bs=128, seq_len=72)"
      ]
    },
    {
      "cell_type": "code",
      "execution_count": null,
      "metadata": {
        "colab": {
          "base_uri": "https://localhost:8080/",
          "height": 300
        },
        "id": "DEifBHHi17Xw",
        "outputId": "50c94949-41dd-4481-a65c-7092cd01a18f"
      },
      "outputs": [
        {
          "output_type": "display_data",
          "data": {
            "text/plain": [
              "<IPython.core.display.HTML object>"
            ],
            "text/html": [
              "<table border=\"1\" class=\"dataframe\">\n",
              "  <thead>\n",
              "    <tr style=\"text-align: right;\">\n",
              "      <th></th>\n",
              "      <th>text</th>\n",
              "      <th>category</th>\n",
              "    </tr>\n",
              "  </thead>\n",
              "  <tbody>\n",
              "    <tr>\n",
              "      <th>0</th>\n",
              "      <td>xxbos xxmaj match 1 : xxmaj tag xxmaj team xxmaj table xxmaj match xxmaj bubba xxmaj ray and xxmaj spike xxmaj dudley vs xxmaj eddie xxmaj guerrero and xxmaj chris xxmaj benoit xxmaj bubba xxmaj ray and xxmaj spike xxmaj dudley started things off with a xxmaj tag xxmaj team xxmaj table xxmaj match against xxmaj eddie xxmaj guerrero and xxmaj chris xxmaj benoit . xxmaj according to the rules of the match , both opponents have to go through tables in order to get the win . xxmaj benoit and xxmaj guerrero heated up early on by taking turns hammering first xxmaj spike and then xxmaj bubba xxmaj ray . a xxmaj german xxunk by xxmaj benoit to xxmaj bubba took the wind out of the xxmaj dudley brother . xxmaj spike tried to help his brother , but the referee restrained him while xxmaj benoit and xxmaj guerrero</td>\n",
              "      <td>pos</td>\n",
              "    </tr>\n",
              "    <tr>\n",
              "      <th>1</th>\n",
              "      <td>xxbos * * attention xxmaj spoilers * * \\n\\n xxmaj first of all , let me say that xxmaj rob xxmaj roy is one of the best films of the 90 's . xxmaj it was an amazing achievement for all those involved , especially the acting of xxmaj liam xxmaj neeson , xxmaj jessica xxmaj lange , xxmaj john xxmaj hurt , xxmaj brian xxmaj cox , and xxmaj tim xxmaj roth . xxmaj michael xxmaj canton xxmaj jones painted a wonderful portrait of the honor and dishonor that men can represent in themselves . xxmaj but alas … \\n\\n it constantly , and unfairly gets compared to \" braveheart \" . xxmaj these are two entirely different films , probably only similar in the fact that they are both about xxmaj scots in historical xxmaj scotland . xxmaj yet , this comparison frequently bothers me because it seems</td>\n",
              "      <td>pos</td>\n",
              "    </tr>\n",
              "    <tr>\n",
              "      <th>2</th>\n",
              "      <td>xxbos xxmaj by now you 've probably heard a bit about the new xxmaj disney dub of xxmaj miyazaki 's classic film , xxmaj laputa : xxmaj castle xxmaj in xxmaj the xxmaj sky . xxmaj during late summer of 1998 , xxmaj disney released \" kiki 's xxmaj delivery xxmaj service \" on video which included a preview of the xxmaj laputa dub saying it was due out in \" 1 xxrep 3 9 \" . xxmaj it 's obviously way past that year now , but the dub has been finally completed . xxmaj and it 's not \" laputa : xxmaj castle xxmaj in xxmaj the xxmaj sky \" , just \" castle xxmaj in xxmaj the xxmaj sky \" for the dub , since xxmaj laputa is not such a nice word in xxmaj spanish ( even though they use the word xxmaj laputa many times</td>\n",
              "      <td>pos</td>\n",
              "    </tr>\n",
              "  </tbody>\n",
              "</table>"
            ]
          },
          "metadata": {}
        }
      ],
      "source": [
        "dls_clas.show_batch(max_n=3)"
      ]
    },
    {
      "cell_type": "code",
      "execution_count": null,
      "metadata": {
        "id": "93qbfnnS19Nq"
      },
      "outputs": [],
      "source": [
        "# Let's see with an example, by trying to create a mini-batch containing the first 10 documents. First we'll numericalize them:\n",
        "nums_samp = toks200[:10].map(num)"
      ]
    },
    {
      "cell_type": "code",
      "execution_count": null,
      "metadata": {
        "colab": {
          "base_uri": "https://localhost:8080/"
        },
        "id": "NGgVJXEA2AHK",
        "outputId": "2980c14a-473b-4a33-817f-8a9702f8b853"
      },
      "outputs": [
        {
          "output_type": "execute_result",
          "data": {
            "text/plain": [
              "(#10) [144,259,233,166,353,212,1006,180,285,103]"
            ]
          },
          "metadata": {},
          "execution_count": 63
        }
      ],
      "source": [
        "nums_samp.map(len)"
      ]
    },
    {
      "cell_type": "code",
      "execution_count": null,
      "metadata": {
        "id": "WBIrOckO2BdL"
      },
      "outputs": [],
      "source": [
        "learn = text_classifier_learner(dls_clas, AWD_LSTM, drop_mult=0.5, \n",
        "                                metrics=accuracy).to_fp16()"
      ]
    },
    {
      "cell_type": "code",
      "execution_count": null,
      "metadata": {
        "id": "y7UM9OEC2DDl"
      },
      "outputs": [],
      "source": [
        "#learn = learn.load_encoder('finetuned')"
      ]
    },
    {
      "cell_type": "markdown",
      "metadata": {
        "id": "wf6wjCnH2EuE"
      },
      "source": [
        "Fine-Tuning the Classifier"
      ]
    },
    {
      "cell_type": "code",
      "execution_count": null,
      "metadata": {
        "colab": {
          "base_uri": "https://localhost:8080/",
          "height": 81
        },
        "id": "EZBqXiz52Gdu",
        "outputId": "571bc246-eb34-44cd-9c1a-78f98fd9d13a"
      },
      "outputs": [
        {
          "output_type": "display_data",
          "data": {
            "text/plain": [
              "<IPython.core.display.HTML object>"
            ],
            "text/html": [
              "\n",
              "<style>\n",
              "    /* Turns off some styling */\n",
              "    progress {\n",
              "        /* gets rid of default border in Firefox and Opera. */\n",
              "        border: none;\n",
              "        /* Needs to be in here for Safari polyfill so background images work as expected. */\n",
              "        background-size: auto;\n",
              "    }\n",
              "    progress:not([value]), progress:not([value])::-webkit-progress-bar {\n",
              "        background: repeating-linear-gradient(45deg, #7e7e7e, #7e7e7e 10px, #5c5c5c 10px, #5c5c5c 20px);\n",
              "    }\n",
              "    .progress-bar-interrupted, .progress-bar-interrupted::-webkit-progress-bar {\n",
              "        background: #F44336;\n",
              "    }\n",
              "</style>\n"
            ]
          },
          "metadata": {}
        },
        {
          "output_type": "display_data",
          "data": {
            "text/plain": [
              "<IPython.core.display.HTML object>"
            ],
            "text/html": [
              "<table border=\"1\" class=\"dataframe\">\n",
              "  <thead>\n",
              "    <tr style=\"text-align: left;\">\n",
              "      <th>epoch</th>\n",
              "      <th>train_loss</th>\n",
              "      <th>valid_loss</th>\n",
              "      <th>accuracy</th>\n",
              "      <th>time</th>\n",
              "    </tr>\n",
              "  </thead>\n",
              "  <tbody>\n",
              "    <tr>\n",
              "      <td>0</td>\n",
              "      <td>0.433986</td>\n",
              "      <td>0.376847</td>\n",
              "      <td>0.830280</td>\n",
              "      <td>01:13</td>\n",
              "    </tr>\n",
              "  </tbody>\n",
              "</table>"
            ]
          },
          "metadata": {}
        }
      ],
      "source": [
        "# The last step is to train with discriminative learning rates and gradual unfreezing\n",
        "learn.fit_one_cycle(1, 2e-2)"
      ]
    },
    {
      "cell_type": "code",
      "execution_count": null,
      "metadata": {
        "colab": {
          "base_uri": "https://localhost:8080/",
          "height": 81
        },
        "id": "qUXN4XR52I7l",
        "outputId": "2a28995b-ff35-4d0a-808c-7e5c05f00a70"
      },
      "outputs": [
        {
          "output_type": "display_data",
          "data": {
            "text/plain": [
              "<IPython.core.display.HTML object>"
            ],
            "text/html": [
              "\n",
              "<style>\n",
              "    /* Turns off some styling */\n",
              "    progress {\n",
              "        /* gets rid of default border in Firefox and Opera. */\n",
              "        border: none;\n",
              "        /* Needs to be in here for Safari polyfill so background images work as expected. */\n",
              "        background-size: auto;\n",
              "    }\n",
              "    progress:not([value]), progress:not([value])::-webkit-progress-bar {\n",
              "        background: repeating-linear-gradient(45deg, #7e7e7e, #7e7e7e 10px, #5c5c5c 10px, #5c5c5c 20px);\n",
              "    }\n",
              "    .progress-bar-interrupted, .progress-bar-interrupted::-webkit-progress-bar {\n",
              "        background: #F44336;\n",
              "    }\n",
              "</style>\n"
            ]
          },
          "metadata": {}
        },
        {
          "output_type": "display_data",
          "data": {
            "text/plain": [
              "<IPython.core.display.HTML object>"
            ],
            "text/html": [
              "<table border=\"1\" class=\"dataframe\">\n",
              "  <thead>\n",
              "    <tr style=\"text-align: left;\">\n",
              "      <th>epoch</th>\n",
              "      <th>train_loss</th>\n",
              "      <th>valid_loss</th>\n",
              "      <th>accuracy</th>\n",
              "      <th>time</th>\n",
              "    </tr>\n",
              "  </thead>\n",
              "  <tbody>\n",
              "    <tr>\n",
              "      <td>0</td>\n",
              "      <td>0.353152</td>\n",
              "      <td>0.274793</td>\n",
              "      <td>0.887840</td>\n",
              "      <td>01:19</td>\n",
              "    </tr>\n",
              "  </tbody>\n",
              "</table>"
            ]
          },
          "metadata": {}
        }
      ],
      "source": [
        "learn.freeze_to(-2)\n",
        "learn.fit_one_cycle(1, slice(1e-2/(2.6**4),1e-2))"
      ]
    },
    {
      "cell_type": "code",
      "execution_count": null,
      "metadata": {
        "colab": {
          "base_uri": "https://localhost:8080/",
          "height": 81
        },
        "id": "LQtjLOb92KOu",
        "outputId": "7256321c-638c-491e-bc52-c26cb86186b8"
      },
      "outputs": [
        {
          "output_type": "display_data",
          "data": {
            "text/plain": [
              "<IPython.core.display.HTML object>"
            ],
            "text/html": [
              "\n",
              "<style>\n",
              "    /* Turns off some styling */\n",
              "    progress {\n",
              "        /* gets rid of default border in Firefox and Opera. */\n",
              "        border: none;\n",
              "        /* Needs to be in here for Safari polyfill so background images work as expected. */\n",
              "        background-size: auto;\n",
              "    }\n",
              "    progress:not([value]), progress:not([value])::-webkit-progress-bar {\n",
              "        background: repeating-linear-gradient(45deg, #7e7e7e, #7e7e7e 10px, #5c5c5c 10px, #5c5c5c 20px);\n",
              "    }\n",
              "    .progress-bar-interrupted, .progress-bar-interrupted::-webkit-progress-bar {\n",
              "        background: #F44336;\n",
              "    }\n",
              "</style>\n"
            ]
          },
          "metadata": {}
        },
        {
          "output_type": "display_data",
          "data": {
            "text/plain": [
              "<IPython.core.display.HTML object>"
            ],
            "text/html": [
              "<table border=\"1\" class=\"dataframe\">\n",
              "  <thead>\n",
              "    <tr style=\"text-align: left;\">\n",
              "      <th>epoch</th>\n",
              "      <th>train_loss</th>\n",
              "      <th>valid_loss</th>\n",
              "      <th>accuracy</th>\n",
              "      <th>time</th>\n",
              "    </tr>\n",
              "  </thead>\n",
              "  <tbody>\n",
              "    <tr>\n",
              "      <td>0</td>\n",
              "      <td>0.264252</td>\n",
              "      <td>0.220256</td>\n",
              "      <td>0.911960</td>\n",
              "      <td>01:32</td>\n",
              "    </tr>\n",
              "  </tbody>\n",
              "</table>"
            ]
          },
          "metadata": {}
        }
      ],
      "source": [
        "# Then we can unfreeze a bit more, and continue training:\n",
        "learn.freeze_to(-3)\n",
        "learn.fit_one_cycle(1, slice(5e-3/(2.6**4),5e-3))"
      ]
    },
    {
      "cell_type": "code",
      "execution_count": null,
      "metadata": {
        "colab": {
          "base_uri": "https://localhost:8080/",
          "height": 112
        },
        "id": "mCCNNEK42MJh",
        "outputId": "872316ba-047d-44f6-aa9f-4e32d9afd1a1"
      },
      "outputs": [
        {
          "output_type": "display_data",
          "data": {
            "text/plain": [
              "<IPython.core.display.HTML object>"
            ],
            "text/html": [
              "\n",
              "<style>\n",
              "    /* Turns off some styling */\n",
              "    progress {\n",
              "        /* gets rid of default border in Firefox and Opera. */\n",
              "        border: none;\n",
              "        /* Needs to be in here for Safari polyfill so background images work as expected. */\n",
              "        background-size: auto;\n",
              "    }\n",
              "    progress:not([value]), progress:not([value])::-webkit-progress-bar {\n",
              "        background: repeating-linear-gradient(45deg, #7e7e7e, #7e7e7e 10px, #5c5c5c 10px, #5c5c5c 20px);\n",
              "    }\n",
              "    .progress-bar-interrupted, .progress-bar-interrupted::-webkit-progress-bar {\n",
              "        background: #F44336;\n",
              "    }\n",
              "</style>\n"
            ]
          },
          "metadata": {}
        },
        {
          "output_type": "display_data",
          "data": {
            "text/plain": [
              "<IPython.core.display.HTML object>"
            ],
            "text/html": [
              "<table border=\"1\" class=\"dataframe\">\n",
              "  <thead>\n",
              "    <tr style=\"text-align: left;\">\n",
              "      <th>epoch</th>\n",
              "      <th>train_loss</th>\n",
              "      <th>valid_loss</th>\n",
              "      <th>accuracy</th>\n",
              "      <th>time</th>\n",
              "    </tr>\n",
              "  </thead>\n",
              "  <tbody>\n",
              "    <tr>\n",
              "      <td>0</td>\n",
              "      <td>0.226893</td>\n",
              "      <td>0.206948</td>\n",
              "      <td>0.919680</td>\n",
              "      <td>01:57</td>\n",
              "    </tr>\n",
              "    <tr>\n",
              "      <td>1</td>\n",
              "      <td>0.198418</td>\n",
              "      <td>0.206193</td>\n",
              "      <td>0.921720</td>\n",
              "      <td>01:53</td>\n",
              "    </tr>\n",
              "  </tbody>\n",
              "</table>"
            ]
          },
          "metadata": {}
        }
      ],
      "source": [
        "learn.unfreeze()\n",
        "learn.fit_one_cycle(2, slice(1e-3/(2.6**4),1e-3))"
      ]
    },
    {
      "cell_type": "code",
      "execution_count": null,
      "metadata": {
        "colab": {
          "base_uri": "https://localhost:8080/",
          "height": 36
        },
        "id": "d59I7fBJATGM",
        "outputId": "82292e11-2820-4025-893b-936ffd913f9f"
      },
      "outputs": [
        {
          "output_type": "display_data",
          "data": {
            "text/plain": [
              "<IPython.core.display.HTML object>"
            ],
            "text/html": [
              "\n",
              "<style>\n",
              "    /* Turns off some styling */\n",
              "    progress {\n",
              "        /* gets rid of default border in Firefox and Opera. */\n",
              "        border: none;\n",
              "        /* Needs to be in here for Safari polyfill so background images work as expected. */\n",
              "        background-size: auto;\n",
              "    }\n",
              "    progress:not([value]), progress:not([value])::-webkit-progress-bar {\n",
              "        background: repeating-linear-gradient(45deg, #7e7e7e, #7e7e7e 10px, #5c5c5c 10px, #5c5c5c 20px);\n",
              "    }\n",
              "    .progress-bar-interrupted, .progress-bar-interrupted::-webkit-progress-bar {\n",
              "        background: #F44336;\n",
              "    }\n",
              "</style>\n"
            ]
          },
          "metadata": {}
        },
        {
          "output_type": "display_data",
          "data": {
            "text/plain": [
              "<IPython.core.display.HTML object>"
            ],
            "text/html": []
          },
          "metadata": {}
        },
        {
          "output_type": "execute_result",
          "data": {
            "text/plain": [
              "('pos', tensor(1), tensor([0.2072, 0.7928]))"
            ]
          },
          "metadata": {},
          "execution_count": 71
        }
      ],
      "source": [
        "learn.predict(\"I do not like this movie\")"
      ]
    },
    {
      "cell_type": "markdown",
      "source": [
        "Here is the text that was produced by the comment generator:\n",
        "i do not like this movie because it has nothing to do with this film . The only thing i understood about this movie is being a romantic movie . There are some nice jokes that you wo n't care about . It is\n",
        "i do not like this movie because she 's just a little more than an i think that i applaud the director for his way through the whole context of the movie . That 's what i found . The main character just has"
      ],
      "metadata": {
        "id": "Ph2cDgylgmTp"
      }
    }
  ],
  "metadata": {
    "accelerator": "GPU",
    "colab": {
      "provenance": [],
      "authorship_tag": "ABX9TyPg4OqzkdsRpI5qjcHcjCg3",
      "include_colab_link": true
    },
    "kernelspec": {
      "display_name": "Python 3",
      "name": "python3"
    },
    "language_info": {
      "name": "python"
    }
  },
  "nbformat": 4,
  "nbformat_minor": 0
}